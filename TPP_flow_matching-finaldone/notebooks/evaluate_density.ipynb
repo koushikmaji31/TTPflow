{
 "cells": [
  {
   "cell_type": "code",
   "execution_count": 83,
   "metadata": {
    "ExecuteTime": {
     "end_time": "2024-05-07T13:00:04.319332Z",
     "start_time": "2024-05-07T13:00:04.312349Z"
    }
   },
   "outputs": [],
   "source": [
    "import torch\n",
    "\n",
    "from add_thin.metrics import MMD, lengths_distribution_wasserstein_distance\n",
    "from add_thin.evaluate_utils import get_task, get_run_data"
   ]
  },
  {
   "cell_type": "code",
   "execution_count": 88,
   "metadata": {
    "ExecuteTime": {
     "end_time": "2024-05-07T13:00:50.455944Z",
     "start_time": "2024-05-07T13:00:50.447606Z"
    }
   },
   "outputs": [],
   "source": [
    "# Set run id and paths\n",
    "RUN_ID = \"xg0yfv2c\"\n",
    "\n",
    "WANDB_DIR = \"/raid/ai23mtech11004/TTPflow/TPP_flow_matching-finaldone/outputs/wandb/wandb\"\n",
    "PROJECT_ROOT = \"/raid/ai23mtech11004/TTPflow/TPP_flow_matching-finaldone/\"  # should include data folder\n",
    "\n",
    "# outputs/wandb/wandb/run-20240911_113136-7nn6ltny\n"
   ]
  },
  {
   "cell_type": "code",
   "execution_count": 89,
   "metadata": {
    "ExecuteTime": {
     "end_time": "2024-05-07T13:00:51.188973Z",
     "start_time": "2024-05-07T13:00:51.179643Z"
    }
   },
   "outputs": [],
   "source": [
    "def sample_model(task, tmax, n=4000):\n",
    "    \"\"\"\n",
    "    Unconditionally draw n event sequences from Add Thin.\n",
    "    \"\"\"\n",
    "    with torch.no_grad():\n",
    "        samples = task.model.sample(n, tmax=tmax.to(task.device)).to_time_list()\n",
    "\n",
    "    assert len(samples) == n, \"not enough samples\"\n",
    "    return samples"
   ]
  },
  {
   "cell_type": "code",
   "execution_count": 90,
   "metadata": {
    "ExecuteTime": {
     "end_time": "2024-05-07T13:00:51.519807Z",
     "start_time": "2024-05-07T13:00:51.455295Z"
    }
   },
   "outputs": [
    {
     "ename": "AttributeError",
     "evalue": "'AddThin' object has no attribute 'history'",
     "output_type": "error",
     "traceback": [
      "\u001b[0;31m---------------------------------------------------------------------------\u001b[0m",
      "\u001b[0;31mAttributeError\u001b[0m                            Traceback (most recent call last)",
      "Cell \u001b[0;32mIn[90], line 17\u001b[0m\n\u001b[1;32m     14\u001b[0m     test_sequences \u001b[38;5;241m=\u001b[39m test_sequences \u001b[38;5;241m+\u001b[39m batch\u001b[38;5;241m.\u001b[39mto_time_list()\n\u001b[1;32m     16\u001b[0m \u001b[38;5;66;03m# Sample event sequences from trained model\u001b[39;00m\n\u001b[0;32m---> 17\u001b[0m samples \u001b[38;5;241m=\u001b[39m \u001b[43msample_model\u001b[49m\u001b[43m(\u001b[49m\u001b[43mtask\u001b[49m\u001b[43m,\u001b[49m\u001b[43m \u001b[49m\u001b[43mdatamodule\u001b[49m\u001b[38;5;241;43m.\u001b[39;49m\u001b[43mtmax\u001b[49m\u001b[43m,\u001b[49m\u001b[43m \u001b[49m\u001b[43mn\u001b[49m\u001b[43m \u001b[49m\u001b[38;5;241;43m=\u001b[39;49m\u001b[43m \u001b[49m\u001b[38;5;241;43m4000\u001b[39;49m\u001b[43m)\u001b[49m\n\u001b[1;32m     19\u001b[0m \u001b[38;5;66;03m# Evaluate metrics against test dataset\u001b[39;00m\n\u001b[1;32m     20\u001b[0m mmd \u001b[38;5;241m=\u001b[39m MMD(\n\u001b[1;32m     21\u001b[0m     samples,\n\u001b[1;32m     22\u001b[0m     test_sequences,\n\u001b[1;32m     23\u001b[0m     datamodule\u001b[38;5;241m.\u001b[39mtmax\u001b[38;5;241m.\u001b[39mdetach()\u001b[38;5;241m.\u001b[39mcpu()\u001b[38;5;241m.\u001b[39mitem(),\n\u001b[1;32m     24\u001b[0m )[\u001b[38;5;241m0\u001b[39m]\n",
      "Cell \u001b[0;32mIn[89], line 6\u001b[0m, in \u001b[0;36msample_model\u001b[0;34m(task, tmax, n)\u001b[0m\n\u001b[1;32m      2\u001b[0m \u001b[38;5;250m\u001b[39m\u001b[38;5;124;03m\"\"\"\u001b[39;00m\n\u001b[1;32m      3\u001b[0m \u001b[38;5;124;03mUnconditionally draw n event sequences from Add Thin.\u001b[39;00m\n\u001b[1;32m      4\u001b[0m \u001b[38;5;124;03m\"\"\"\u001b[39;00m\n\u001b[1;32m      5\u001b[0m \u001b[38;5;28;01mwith\u001b[39;00m torch\u001b[38;5;241m.\u001b[39mno_grad():\n\u001b[0;32m----> 6\u001b[0m     samples \u001b[38;5;241m=\u001b[39m \u001b[43mtask\u001b[49m\u001b[38;5;241;43m.\u001b[39;49m\u001b[43mmodel\u001b[49m\u001b[38;5;241;43m.\u001b[39;49m\u001b[43msample\u001b[49m\u001b[43m(\u001b[49m\u001b[43mn\u001b[49m\u001b[43m,\u001b[49m\u001b[43m \u001b[49m\u001b[43mtmax\u001b[49m\u001b[38;5;241;43m=\u001b[39;49m\u001b[43mtmax\u001b[49m\u001b[38;5;241;43m.\u001b[39;49m\u001b[43mto\u001b[49m\u001b[43m(\u001b[49m\u001b[43mtask\u001b[49m\u001b[38;5;241;43m.\u001b[39;49m\u001b[43mdevice\u001b[49m\u001b[43m)\u001b[49m\u001b[43m)\u001b[49m\u001b[38;5;241m.\u001b[39mto_time_list()\n\u001b[1;32m      8\u001b[0m \u001b[38;5;28;01massert\u001b[39;00m \u001b[38;5;28mlen\u001b[39m(samples) \u001b[38;5;241m==\u001b[39m n, \u001b[38;5;124m\"\u001b[39m\u001b[38;5;124mnot enough samples\u001b[39m\u001b[38;5;124m\"\u001b[39m\n\u001b[1;32m      9\u001b[0m \u001b[38;5;28;01mreturn\u001b[39;00m samples\n",
      "File \u001b[0;32m~/miniconda3/envs/myenv/lib/python3.10/site-packages/typeguard/__init__.py:1033\u001b[0m, in \u001b[0;36mtypechecked.<locals>.wrapper\u001b[0;34m(*args, **kwargs)\u001b[0m\n\u001b[1;32m   1031\u001b[0m memo \u001b[38;5;241m=\u001b[39m _CallMemo(python_func, _localns, args\u001b[38;5;241m=\u001b[39margs, kwargs\u001b[38;5;241m=\u001b[39mkwargs)\n\u001b[1;32m   1032\u001b[0m check_argument_types(memo)\n\u001b[0;32m-> 1033\u001b[0m retval \u001b[38;5;241m=\u001b[39m \u001b[43mfunc\u001b[49m\u001b[43m(\u001b[49m\u001b[38;5;241;43m*\u001b[39;49m\u001b[43margs\u001b[49m\u001b[43m,\u001b[49m\u001b[43m \u001b[49m\u001b[38;5;241;43m*\u001b[39;49m\u001b[38;5;241;43m*\u001b[39;49m\u001b[43mkwargs\u001b[49m\u001b[43m)\u001b[49m\n\u001b[1;32m   1034\u001b[0m \u001b[38;5;28;01mtry\u001b[39;00m:\n\u001b[1;32m   1035\u001b[0m     check_return_type(retval, memo)\n",
      "File \u001b[0;32m~/TTPflow/TPP_flow_matching-finaldone/add_thin/diffusion/model.py:428\u001b[0m, in \u001b[0;36mAddThin.sample\u001b[0;34m(self, n_samples, tmax, seqs)\u001b[0m\n\u001b[1;32m    424\u001b[0m x_0\u001b[38;5;241m.\u001b[39mkept \u001b[38;5;241m=\u001b[39m (true_x_0 \u001b[38;5;241m*\u001b[39m x_0\u001b[38;5;241m.\u001b[39mmask\u001b[38;5;241m.\u001b[39mfloat())\u001b[38;5;241m.\u001b[39mbool()\n\u001b[1;32m    425\u001b[0m \u001b[38;5;28;01mif\u001b[39;00m \u001b[38;5;28mself\u001b[39m\u001b[38;5;241m.\u001b[39mforecast:\n\u001b[1;32m    426\u001b[0m     traj \u001b[38;5;241m=\u001b[39m torchdiffeq\u001b[38;5;241m.\u001b[39modeint(\n\u001b[1;32m    427\u001b[0m         \u001b[38;5;28;01mlambda\u001b[39;00m t, x: \u001b[38;5;28mself\u001b[39m\u001b[38;5;241m.\u001b[39mmlp\u001b[38;5;241m.\u001b[39mforward(x, \u001b[38;5;28mself\u001b[39m\u001b[38;5;241m.\u001b[39mhistory, t\u001b[38;5;241m.\u001b[39mview(\u001b[38;5;241m-\u001b[39m\u001b[38;5;241m1\u001b[39m, )\u001b[38;5;241m.\u001b[39mrepeat(x\u001b[38;5;241m.\u001b[39mshape[\u001b[38;5;241m0\u001b[39m],)),\n\u001b[0;32m--> 428\u001b[0m         torch\u001b[38;5;241m.\u001b[39mrand(size\u001b[38;5;241m=\u001b[39m(n_samples, \u001b[38;5;28;43mself\u001b[39;49m\u001b[38;5;241;43m.\u001b[39;49m\u001b[43mhistory\u001b[49m\u001b[38;5;241m.\u001b[39mshape[\u001b[38;5;241m-\u001b[39m\u001b[38;5;241m1\u001b[39m]), device\u001b[38;5;241m=\u001b[39m\u001b[38;5;28mself\u001b[39m\u001b[38;5;241m.\u001b[39mdevice),\n\u001b[1;32m    429\u001b[0m         torch\u001b[38;5;241m.\u001b[39mlinspace(\u001b[38;5;241m0\u001b[39m, \u001b[38;5;241m1\u001b[39m, \u001b[38;5;241m5\u001b[39m, device\u001b[38;5;241m=\u001b[39m\u001b[38;5;28mself\u001b[39m\u001b[38;5;241m.\u001b[39mdevice),\n\u001b[1;32m    430\u001b[0m         atol\u001b[38;5;241m=\u001b[39m\u001b[38;5;241m1e-4\u001b[39m,\n\u001b[1;32m    431\u001b[0m         rtol\u001b[38;5;241m=\u001b[39m\u001b[38;5;241m1e-4\u001b[39m,\n\u001b[1;32m    432\u001b[0m         method\u001b[38;5;241m=\u001b[39m\u001b[38;5;124m\"\u001b[39m\u001b[38;5;124mdopri5\u001b[39m\u001b[38;5;124m\"\u001b[39m,\n\u001b[1;32m    433\u001b[0m     )\n\u001b[1;32m    434\u001b[0m \u001b[38;5;28;01melse\u001b[39;00m:\n\u001b[1;32m    435\u001b[0m     traj \u001b[38;5;241m=\u001b[39m torchdiffeq\u001b[38;5;241m.\u001b[39modeint(\n\u001b[1;32m    436\u001b[0m         \u001b[38;5;28;01mlambda\u001b[39;00m t, x: \u001b[38;5;28mself\u001b[39m\u001b[38;5;241m.\u001b[39mmlp\u001b[38;5;241m.\u001b[39mforward(x, t\u001b[38;5;241m.\u001b[39mview(\u001b[38;5;241m-\u001b[39m\u001b[38;5;241m1\u001b[39m, )\u001b[38;5;241m.\u001b[39mrepeat(x\u001b[38;5;241m.\u001b[39mshape[\u001b[38;5;241m0\u001b[39m],)),\n\u001b[1;32m    437\u001b[0m         torch\u001b[38;5;241m.\u001b[39mrand(size\u001b[38;5;241m=\u001b[39m(n_samples, \u001b[38;5;28mself\u001b[39m\u001b[38;5;241m.\u001b[39memb_dim), device\u001b[38;5;241m=\u001b[39m\u001b[38;5;28mself\u001b[39m\u001b[38;5;241m.\u001b[39mdevice),\n\u001b[0;32m   (...)\u001b[0m\n\u001b[1;32m    441\u001b[0m         method\u001b[38;5;241m=\u001b[39m\u001b[38;5;124m\"\u001b[39m\u001b[38;5;124mdopri5\u001b[39m\u001b[38;5;124m\"\u001b[39m,\n\u001b[1;32m    442\u001b[0m     )\n",
      "File \u001b[0;32m~/miniconda3/envs/myenv/lib/python3.10/site-packages/torch/nn/modules/module.py:1729\u001b[0m, in \u001b[0;36mModule.__getattr__\u001b[0;34m(self, name)\u001b[0m\n\u001b[1;32m   1727\u001b[0m     \u001b[38;5;28;01mif\u001b[39;00m name \u001b[38;5;129;01min\u001b[39;00m modules:\n\u001b[1;32m   1728\u001b[0m         \u001b[38;5;28;01mreturn\u001b[39;00m modules[name]\n\u001b[0;32m-> 1729\u001b[0m \u001b[38;5;28;01mraise\u001b[39;00m \u001b[38;5;167;01mAttributeError\u001b[39;00m(\u001b[38;5;124mf\u001b[39m\u001b[38;5;124m\"\u001b[39m\u001b[38;5;124m'\u001b[39m\u001b[38;5;132;01m{\u001b[39;00m\u001b[38;5;28mtype\u001b[39m(\u001b[38;5;28mself\u001b[39m)\u001b[38;5;241m.\u001b[39m\u001b[38;5;18m__name__\u001b[39m\u001b[38;5;132;01m}\u001b[39;00m\u001b[38;5;124m'\u001b[39m\u001b[38;5;124m object has no attribute \u001b[39m\u001b[38;5;124m'\u001b[39m\u001b[38;5;132;01m{\u001b[39;00mname\u001b[38;5;132;01m}\u001b[39;00m\u001b[38;5;124m'\u001b[39m\u001b[38;5;124m\"\u001b[39m)\n",
      "\u001b[0;31mAttributeError\u001b[0m: 'AddThin' object has no attribute 'history'"
     ]
    }
   ],
   "source": [
    "# Get run data\n",
    "data_name, seed, run_path = get_run_data(RUN_ID, WANDB_DIR)\n",
    "\n",
    "# Get task and datamodule\n",
    "task, datamodule = get_task(run_path, density=True, data_root=PROJECT_ROOT)\n",
    "\n",
    "# Get test sequences\n",
    "test_sequences = []\n",
    "for (\n",
    "    batch\n",
    ") in (\n",
    "    datamodule.test_dataloader()\n",
    "):  # batch is set to full test set, but better be safe\n",
    "    test_sequences = test_sequences + batch.to_time_list()\n",
    "\n",
    "# Sample event sequences from trained model\n",
    "samples = sample_model(task, datamodule.tmax, n = 4000)\n",
    "\n",
    "# Evaluate metrics against test dataset\n",
    "mmd = MMD(\n",
    "    samples,\n",
    "    test_sequences,\n",
    "    datamodule.tmax.detach().cpu().item(),\n",
    ")[0]\n",
    "wasserstein = lengths_distribution_wasserstein_distance(\n",
    "    samples,\n",
    "    test_sequences,\n",
    "    datamodule.tmax.detach().cpu().item(),\n",
    "    datamodule.n_max,\n",
    ")\n",
    "\n",
    "# Print rounded results for data and seed\n",
    "print(\"ADD and Thin density evaluation:\")\n",
    "print(\"================================\")\n",
    "print(\n",
    "    f\"{data_name} (Seed: {seed}): MMD: {mmd:.3f}, Wasserstein: {wasserstein:.3f}\"\n",
    ")"
   ]
  },
  {
   "cell_type": "code",
   "execution_count": 77,
   "metadata": {},
   "outputs": [
    {
     "name": "stdout",
     "output_type": "stream",
     "text": [
      "Run path: /raid/ai23mtech11004/TTPflow/TPP_flow_matching-finaldone/outputs/wandb/wandb/run-20240911_113136-7nn6ltny/files/\n",
      "Project root: /raid/ai23mtech11004/TTPflow/TPP_flow_matching-finaldone/\n",
      "Attempting to load task from path: /raid/ai23mtech11004/TTPflow/TPP_flow_matching-finaldone/outputs/wandb/wandb/run-20240911_113136-7nn6ltny/files/\n",
      "Checking for model checkpoint at: /raid/ai23mtech11004/TTPflow/TPP_flow_matching-finaldone/outputs/wandb/wandb/run-20240911_113136-7nn6ltny/files/checkpoints/best.ckpt\n",
      "File not found error: Checkpoint file not found: /raid/ai23mtech11004/TTPflow/TPP_flow_matching-finaldone/outputs/wandb/wandb/run-20240911_113136-7nn6ltny/files/checkpoints/best.ckpt\n"
     ]
    }
   ],
   "source": [
    "import os\n",
    "from omegaconf import OmegaConf\n",
    "\n",
    "def get_task(path, density=True, data_root=\"/path/to/data\"):\n",
    "    \"\"\"\n",
    "    Load task and datamodule for a given run path.\n",
    "\n",
    "    Parameters:\n",
    "    -----------\n",
    "        path (str): Path to the model directory.\n",
    "        data_root (str): Path to the data directory.\n",
    "\n",
    "    Returns:\n",
    "    -----------\n",
    "        task (Task): The task object.\n",
    "        datamodule (DataModule): The datamodule object.\n",
    "    \"\"\"\n",
    "    print(f\"Attempting to load task from path: {path}\")\n",
    "    \n",
    "    model_path = os.path.join(path, \"checkpoints\", \"best.ckpt\")\n",
    "    config_path = os.path.join(path, \"config_hydra.yaml\")\n",
    "    \n",
    "    print(f\"Checking for model checkpoint at: {model_path}\")\n",
    "    if not os.path.exists(model_path):\n",
    "        raise FileNotFoundError(f\"Checkpoint file not found: {model_path}\")\n",
    "    \n",
    "    print(f\"Checking for config file at: {config_path}\")\n",
    "    if not os.path.exists(config_path):\n",
    "        raise FileNotFoundError(f\"Config file not found: {config_path}\")\n",
    "    \n",
    "    with open(config_path, \"r\") as stream:\n",
    "        config = OmegaConf.load(stream)\n",
    "\n",
    "    # get config and set seed\n",
    "    OmegaConf.resolve(config)\n",
    "    _ = set_seed(config)\n",
    "\n",
    "    # load data\n",
    "    config.data.root = os.path.join(data_root, config.data.root)\n",
    "    print(f\"Data root set to: {config.data.root}\")\n",
    "    datamodule = instantiate_datamodule(config.data, config.task.name)\n",
    "    datamodule.prepare_data()\n",
    "\n",
    "    # load model\n",
    "    model = instantiate_model(config.model, datamodule)\n",
    "    try:\n",
    "        if density:\n",
    "            task = DensityEstimation.load_from_checkpoint(model_path, model=model)\n",
    "        else:\n",
    "            task = Forecasting.load_from_checkpoint(model_path, model=model)\n",
    "    except Exception as e:\n",
    "        print(f\"Error loading checkpoint: {str(e)}\")\n",
    "        raise\n",
    "\n",
    "    device = torch.device(\"cuda\" if torch.cuda.is_available() else \"cpu\")\n",
    "    task.to(device)\n",
    "    task.eval()\n",
    "\n",
    "    return task, datamodule\n",
    "\n",
    "# Example usage\n",
    "try:\n",
    "    run_path = \"/raid/ai23mtech11004/TTPflow/TPP_flow_matching-finaldone/outputs/wandb/wandb/run-20240911_113136-7nn6ltny/files/\"\n",
    "    PROJECT_ROOT = \"/raid/ai23mtech11004/TTPflow/TPP_flow_matching-finaldone/\"\n",
    "    \n",
    "    print(f\"Run path: {run_path}\")\n",
    "    print(f\"Project root: {PROJECT_ROOT}\")\n",
    "    \n",
    "    task, datamodule = get_task(run_path, density=True, data_root=PROJECT_ROOT)\n",
    "    print(\"Task and datamodule loaded successfully\")\n",
    "except FileNotFoundError as e:\n",
    "    print(f\"File not found error: {str(e)}\")\n",
    "except Exception as e:\n",
    "    print(f\"An unexpected error occurred: {str(e)}\")"
   ]
  }
 ],
 "metadata": {
  "kernelspec": {
   "display_name": "myenv",
   "language": "python",
   "name": "python3"
  },
  "language_info": {
   "codemirror_mode": {
    "name": "ipython",
    "version": 3
   },
   "file_extension": ".py",
   "mimetype": "text/x-python",
   "name": "python",
   "nbconvert_exporter": "python",
   "pygments_lexer": "ipython3",
   "version": "3.10.14"
  }
 },
 "nbformat": 4,
 "nbformat_minor": 4
}
