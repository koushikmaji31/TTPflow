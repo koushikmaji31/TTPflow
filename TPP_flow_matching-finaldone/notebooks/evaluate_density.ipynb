{
 "cells": [
  {
   "cell_type": "code",
   "metadata": {
    "ExecuteTime": {
     "end_time": "2024-05-07T13:00:04.319332Z",
     "start_time": "2024-05-07T13:00:04.312349Z"
    }
   },
   "source": [
    "import torch\n",
    "\n",
    "from add_thin.metrics import MMD, lengths_distribution_wasserstein_distance\n",
    "from add_thin.evaluate_utils import get_task, get_run_data"
   ],
   "outputs": [],
   "execution_count": 2
  },
  {
   "cell_type": "code",
   "metadata": {
    "ExecuteTime": {
     "end_time": "2024-05-07T13:00:50.455944Z",
     "start_time": "2024-05-07T13:00:50.447606Z"
    }
   },
   "source": [
    "# Set run id and paths\n",
    "RUN_ID = \"cpryhxq9\"\n",
    "\n",
    "WANDB_DIR = \"outputs/wandb/wandb\"\n",
    "PROJECT_ROOT = \"./\"  # should include data folder"
   ],
   "outputs": [],
   "execution_count": 9
  },
  {
   "cell_type": "code",
   "metadata": {
    "ExecuteTime": {
     "end_time": "2024-05-07T13:00:51.188973Z",
     "start_time": "2024-05-07T13:00:51.179643Z"
    }
   },
   "source": [
    "def sample_model(task, tmax, n=4000):\n",
    "    \"\"\"\n",
    "    Unconditionally draw n event sequences from Add Thin.\n",
    "    \"\"\"\n",
    "    with torch.no_grad():\n",
    "        samples = task.model.sample(n, tmax=tmax.to(task.device)).to_time_list()\n",
    "\n",
    "    assert len(samples) == n, \"not enough samples\"\n",
    "    return samples"
   ],
   "outputs": [],
   "execution_count": 10
  },
  {
   "cell_type": "code",
   "metadata": {
    "ExecuteTime": {
     "end_time": "2024-05-07T13:00:51.519807Z",
     "start_time": "2024-05-07T13:00:51.455295Z"
    }
   },
   "source": [
    "# Get run data\n",
    "data_name, seed, run_path = get_run_data(RUN_ID, WANDB_DIR)\n",
    "\n",
    "# Get task and datamodule\n",
    "task, datamodule = get_task(run_path, density=True, data_root=PROJECT_ROOT)\n",
    "\n",
    "# Get test sequences\n",
    "test_sequences = []\n",
    "for (\n",
    "    batch\n",
    ") in (\n",
    "    datamodule.test_dataloader()\n",
    "):  # batch is set to full test set, but better be safe\n",
    "    test_sequences = test_sequences + batch.to_time_list()\n",
    "\n",
    "# Sample event sequences from trained model\n",
    "samples = sample_model(task, datamodule.tmax, n=4000)\n",
    "\n",
    "# Evaluate metrics against test dataset\n",
    "mmd = MMD(\n",
    "    samples,\n",
    "    test_sequences,\n",
    "    datamodule.tmax.detach().cpu().item(),\n",
    ")[0]\n",
    "wasserstein = lengths_distribution_wasserstein_distance(\n",
    "    samples,\n",
    "    test_sequences,\n",
    "    datamodule.tmax.detach().cpu().item(),\n",
    "    datamodule.n_max,\n",
    ")\n",
    "\n",
    "# Print rounded results for data and seed\n",
    "print(\"ADD and Thin density evaluation:\")\n",
    "print(\"================================\")\n",
    "print(\n",
    "    f\"{data_name} (Seed: {seed}): MMD: {mmd:.3f}, Wasserstein: {wasserstein:.3f}\"\n",
    ")"
   ],
   "outputs": [
    {
     "ename": "ValueError",
     "evalue": "Run id cpryhxq9 not found in outputs/wandb/wandb.",
     "output_type": "error",
     "traceback": [
      "\u001B[1;31m---------------------------------------------------------------------------\u001B[0m",
      "\u001B[1;31mValueError\u001B[0m                                Traceback (most recent call last)",
      "Cell \u001B[1;32mIn[11], line 2\u001B[0m\n\u001B[0;32m      1\u001B[0m \u001B[38;5;66;03m# Get run data\u001B[39;00m\n\u001B[1;32m----> 2\u001B[0m data_name, seed, run_path \u001B[38;5;241m=\u001B[39m \u001B[43mget_run_data\u001B[49m\u001B[43m(\u001B[49m\u001B[43mRUN_ID\u001B[49m\u001B[43m,\u001B[49m\u001B[43m \u001B[49m\u001B[43mWANDB_DIR\u001B[49m\u001B[43m)\u001B[49m\n\u001B[0;32m      4\u001B[0m \u001B[38;5;66;03m# Get task and datamodule\u001B[39;00m\n\u001B[0;32m      5\u001B[0m task, datamodule \u001B[38;5;241m=\u001B[39m get_task(run_path, density\u001B[38;5;241m=\u001B[39m\u001B[38;5;28;01mTrue\u001B[39;00m, data_root\u001B[38;5;241m=\u001B[39mPROJECT_ROOT)\n",
      "File \u001B[1;32mD:\\Nishant\\TPP\\tpp_flow_matching\\add_thin\\evaluate_utils.py:77\u001B[0m, in \u001B[0;36mget_run_data\u001B[1;34m(run_id, project_dir)\u001B[0m\n\u001B[0;32m     74\u001B[0m             seed \u001B[38;5;241m=\u001B[39m config\u001B[38;5;241m.\u001B[39mseed\n\u001B[0;32m     76\u001B[0m \u001B[38;5;28;01mif\u001B[39;00m path \u001B[38;5;129;01mis\u001B[39;00m \u001B[38;5;28;01mNone\u001B[39;00m:\n\u001B[1;32m---> 77\u001B[0m     \u001B[38;5;28;01mraise\u001B[39;00m \u001B[38;5;167;01mValueError\u001B[39;00m(\u001B[38;5;124mf\u001B[39m\u001B[38;5;124m\"\u001B[39m\u001B[38;5;124mRun id \u001B[39m\u001B[38;5;132;01m{\u001B[39;00mrun_id\u001B[38;5;132;01m}\u001B[39;00m\u001B[38;5;124m not found in \u001B[39m\u001B[38;5;132;01m{\u001B[39;00mproject_dir\u001B[38;5;132;01m}\u001B[39;00m\u001B[38;5;124m.\u001B[39m\u001B[38;5;124m\"\u001B[39m)\n\u001B[0;32m     79\u001B[0m \u001B[38;5;28;01mreturn\u001B[39;00m data_name, seed, path\n",
      "\u001B[1;31mValueError\u001B[0m: Run id cpryhxq9 not found in outputs/wandb/wandb."
     ]
    }
   ],
   "execution_count": 11
  },
  {
   "metadata": {
    "ExecuteTime": {
     "end_time": "2024-05-07T13:00:29.163506Z",
     "start_time": "2024-05-07T13:00:29.159467Z"
    }
   },
   "cell_type": "code",
   "source": [],
   "outputs": [],
   "execution_count": 8
  },
  {
   "metadata": {},
   "cell_type": "code",
   "outputs": [],
   "execution_count": null,
   "source": ""
  }
 ],
 "metadata": {
  "kernelspec": {
   "display_name": "venv",
   "language": "python",
   "name": "venv"
  },
  "language_info": {
   "codemirror_mode": {
    "name": "ipython",
    "version": 3
   },
   "file_extension": ".py",
   "mimetype": "text/x-python",
   "name": "python",
   "nbconvert_exporter": "python",
   "pygments_lexer": "ipython3",
   "version": "3.10.13"
  }
 },
 "nbformat": 4,
 "nbformat_minor": 4
}
