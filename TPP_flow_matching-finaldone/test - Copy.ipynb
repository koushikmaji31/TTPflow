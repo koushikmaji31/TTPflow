{
 "cells": [
  {
   "cell_type": "code",
   "id": "initial_id",
   "metadata": {
    "collapsed": true,
    "ExecuteTime": {
     "end_time": "2024-04-17T08:55:41.570051Z",
     "start_time": "2024-04-17T08:55:41.446382Z"
    }
   },
   "source": [
    "%load_ext autoreload\n",
    "%autoreload 2\n",
    "from add_thin.data import DataModule\n",
    "from pathlib import Path\n",
    "import torch\n",
    "import torch.nn as nn\n",
    "import math\n",
    "from add_thin.diffusion.model import AddThin\n",
    "import torch.optim as optim\n",
    "import torch.nn.functional as F\n",
    "from torch.nn import TransformerEncoder, TransformerEncoderLayer"
   ],
   "outputs": [
    {
     "name": "stdout",
     "output_type": "stream",
     "text": [
      "The autoreload extension is already loaded. To reload it, use:\n",
      "  %reload_ext autoreload\n"
     ]
    }
   ],
   "execution_count": 16
  },
  {
   "metadata": {},
   "cell_type": "markdown",
   "source": "",
   "id": "79c2e242fca8bcdb"
  },
  {
   "metadata": {
    "ExecuteTime": {
     "end_time": "2024-04-17T08:55:43.648267Z",
     "start_time": "2024-04-17T08:55:43.400898Z"
    }
   },
   "cell_type": "code",
   "source": [
    "dm = DataModule(root=Path('data'), name=\"taxi\",\n",
    "                train_size=0.6, val_size=0.2,batch_size=32)\n",
    "dm.prepare_data()"
   ],
   "id": "57da9d89c9fa908f",
   "outputs": [],
   "execution_count": 17
  },
  {
   "metadata": {
    "ExecuteTime": {
     "end_time": "2024-04-17T08:55:43.919456Z",
     "start_time": "2024-04-17T08:55:43.797763Z"
    }
   },
   "cell_type": "code",
   "source": [
    "train_loader = dm.train_dataloader()\n",
    "val_loader = dm.val_dataloader()"
   ],
   "id": "e381a02c1864d992",
   "outputs": [],
   "execution_count": 18
  },
  {
   "metadata": {
    "ExecuteTime": {
     "end_time": "2024-04-17T08:55:44.171310Z",
     "start_time": "2024-04-17T08:55:44.072571Z"
    }
   },
   "cell_type": "code",
   "source": "device = torch.device('cuda' if torch.cuda.is_available() else 'cpu')\n",
   "id": "fae34816a0b5e4de",
   "outputs": [],
   "execution_count": 19
  },
  {
   "metadata": {
    "ExecuteTime": {
     "end_time": "2024-04-17T08:55:44.367783Z",
     "start_time": "2024-04-17T08:55:44.364169Z"
    }
   },
   "cell_type": "code",
   "source": "",
   "id": "b54641fac640f136",
   "outputs": [],
   "execution_count": 19
  },
  {
   "metadata": {
    "ExecuteTime": {
     "end_time": "2024-04-17T08:58:08.937190Z",
     "start_time": "2024-04-17T08:58:08.809429Z"
    }
   },
   "cell_type": "code",
   "source": [
    "class Time_embed(nn.Module):\n",
    "    def __init__(self, d_model):\n",
    "        super(Time_embed, self).__init__()\n",
    "        self.d_model = d_model\n",
    "\n",
    "        \n",
    "    def forward(self, x):\n",
    "        x_time = x.time\n",
    "        x_time = x_time.to(device)\n",
    "        result = x_time.unsqueeze(-1).repeat(1, 1, self.d_model)\n",
    "        result[:, :, 0::2] = torch.sin(result[:, :, 0::2])\n",
    "        result[:, :, 1::2] = torch.cos(result[:, :, 1::2])\n",
    "        mask = x.mask.unsqueeze(-1).float()\n",
    "        return result * mask"
   ],
   "id": "a931723111fbcaeb",
   "outputs": [],
   "execution_count": 38
  },
  {
   "metadata": {
    "ExecuteTime": {
     "end_time": "2024-04-17T09:09:24.785656Z",
     "start_time": "2024-04-17T09:09:24.677085Z"
    }
   },
   "cell_type": "code",
   "source": [
    "class N_embed(nn.Module):\n",
    "    def __init__(self, d_model):\n",
    "        super(N_embed, self).__init__()\n",
    "        self.d_model = d_model\n",
    "        \n",
    "    def forward(self, x):\n",
    "        x = x.to(device)\n",
    "        x = x.unsqueeze(-1)\n",
    "        result = x.unsqueeze(-1).repeat(1, 1, self.d_model)\n",
    "        result[:, :, 0::2] = torch.sin(result[:, :, 0::2])\n",
    "        result[:, :, 1::2] = torch.cos(result[:, :, 1::2])\n",
    "        return result"
   ],
   "id": "43343ebf5b8dbfc5",
   "outputs": [],
   "execution_count": 62
  },
  {
   "metadata": {
    "ExecuteTime": {
     "end_time": "2024-04-17T09:09:25.165003Z",
     "start_time": "2024-04-17T09:09:25.046990Z"
    }
   },
   "cell_type": "code",
   "source": [
    "class PredictPossionRate(nn.Module):\n",
    "    def __init__(self, \n",
    "                 d_model, \n",
    "                 nhead, \n",
    "                 dim_feedforward, \n",
    "                 dropout, \n",
    "                 batch_first,\n",
    "                 num_layers = 3):\n",
    "        super(PredictPossionRate, self).__init__()\n",
    "        \n",
    "        self.transformer_encoder_layer = TransformerEncoderLayer(d_model = d_model,\n",
    "                                        nhead = nhead,\n",
    "                                        dim_feedforward = dim_feedforward,\n",
    "                                        dropout = dropout,\n",
    "                                        batch_first = batch_first)\n",
    "        \n",
    "        self.transformer_encoder = TransformerEncoder(self.transformer_encoder_layer, num_layers)\n",
    "        \n",
    "        \n",
    "        self.mlp = nn.Sequential(\n",
    "            nn.Linear(d_model, 32),\n",
    "            nn.ReLU(),\n",
    "            nn.Linear(32, 1),\n",
    "            nn.Sigmoid(),\n",
    "        )\n",
    "        \n",
    "        self.time_encoder = Time_embed(d_model)\n",
    "        self.kept_embs = nn.Embedding(2, d_model)\n",
    "        self.n_embed = N_embed(d_model)\n",
    "        \n",
    "        \n",
    "        \n",
    "    def forward(self, x,n):\n",
    "        \n",
    "        time_embeds = self.time_encoder(x)\n",
    "        pad_mask = x.mask.unsqueeze(-1).float()\n",
    "        x_kept_cond = x.kept\n",
    "        if x.kept is not None:\n",
    "            kept_mask = x.kept.long()\n",
    "            kept_embs = self.kept_embs(kept_mask)\n",
    "            pm = pad_mask.repeat(1,1,kept_embs.shape[-1])\n",
    "            kept_embs = kept_embs * pm\n",
    "        n = self.n_embed(n)\n",
    "        if x.kept is not None:\n",
    "            concat_embeds = time_embeds + kept_embs + n\n",
    "        else:\n",
    "            concat_embeds = time_embeds + n\n",
    "        #concat_embeds = time_embeds * kept_embs + n\n",
    "        b,seq_len, d_model = time_embeds.shape\n",
    "        mask = torch.zeros((seq_len, seq_len), device = x.time.device)\n",
    "        pad_mask = pad_mask.squeeze(-1)\n",
    "        pad_mask[pad_mask == 0] = float('-inf')\n",
    "        pad_mask[pad_mask == 1] = 0\n",
    "        transformer_embeds = self.transformer_encoder(concat_embeds, \n",
    "                                                      mask = mask,\n",
    "                                                      src_key_padding_mask = pad_mask)\n",
    "        avg_emb = transformer_embeds.sum(1) / torch.clamp(x.mask.sum(-1)[..., None], min=1)\n",
    "        return avg_emb\n",
    "    "
   ],
   "id": "4f49c6f195428cc0",
   "outputs": [],
   "execution_count": 63
  },
  {
   "metadata": {
    "ExecuteTime": {
     "end_time": "2024-04-17T09:09:25.360570Z",
     "start_time": "2024-04-17T09:09:25.260066Z"
    }
   },
   "cell_type": "code",
   "source": [
    "class GaussianMixtures(nn.Module):\n",
    "    def __init__(self, n_components):\n",
    "        super(GaussianMixtures, self).__init__()\n",
    "        self.n_components = n_components\n",
    "        self.mus = nn.Parameter(torch.randn(n_components,))\n",
    "        self.sigmas = nn.Parameter(torch.abs(torch.randn(n_components,)))\n",
    "        self.weights = nn.Parameter(torch.abs(torch.randn(n_components,)))\n",
    "        \n",
    "        \n",
    "        \n",
    "    def forward(self, seq_lens):\n",
    "        mix = D.Categorical(probs=self.weights)\n",
    "        comp = D.Normal(loc=self.mus, scale=self.sigmas)\n",
    "        mixture = D.MixtureSameFamily(mix, comp)\n",
    "        log_probs = mixture.log_prob(seq_lens)\n",
    "        return log_probs\n",
    "        \n",
    "    \n",
    "    "
   ],
   "id": "ac0d43c0fbb6d17",
   "outputs": [],
   "execution_count": 64
  },
  {
   "metadata": {
    "ExecuteTime": {
     "end_time": "2024-04-17T09:12:02.108497Z",
     "start_time": "2024-04-17T09:12:01.954238Z"
    }
   },
   "cell_type": "code",
   "source": [
    "d_model = 64\n",
    "nhead = 4\n",
    "dim_feedforward = 128\n",
    "dropout = 0.0\n",
    "batch_first = True\n",
    "num_layers = 3\n",
    "device = torch.device('cuda' if torch.cuda.is_available() else 'cpu')\n",
    "model = PredictPossionRate(d_model = d_model, \n",
    "                 nhead = nhead, \n",
    "                 dim_feedforward = dim_feedforward, \n",
    "                 dropout = dropout, \n",
    "                 batch_first = batch_first,\n",
    "                 num_layers = num_layers).to(device)\n",
    "gmm = GaussianMixtures(n_components=8).to(device)\n",
    "\n",
    "\n",
    "#log_like_model = MixtureIntensity(n_components=8, embedding_size=32).to(device)\n",
    "\n",
    "#include both models in the optimizer\n",
    "optimizer = optim.Adam(list(model.parameters()), lr=0.0001)\n"
   ],
   "id": "95fd10a2d97d43ec",
   "outputs": [],
   "execution_count": 77
  },
  {
   "metadata": {
    "ExecuteTime": {
     "end_time": "2024-04-17T09:12:02.628576Z",
     "start_time": "2024-04-17T09:12:02.622501Z"
    }
   },
   "cell_type": "code",
   "source": "",
   "id": "175761c166c01d2b",
   "outputs": [],
   "execution_count": 77
  },
  {
   "metadata": {
    "ExecuteTime": {
     "end_time": "2024-04-17T09:12:03.257947Z",
     "start_time": "2024-04-17T09:12:03.135076Z"
    }
   },
   "cell_type": "code",
   "source": [
    "add_thin_model = AddThin(classifier_model =None,\n",
    "        intensity_model = None,\n",
    "        max_time = 24,\n",
    "        n_max = 140,\n",
    "        steps = 1,\n",
    "        hidden_dims = 32,\n",
    "        emb_dim = 32,\n",
    "        encoder_layer = 3,\n",
    "        kernel_size =  5,\n",
    "        forecast=None,\n",
    "        simulation_steps = 5,\n",
    ").to(device)"
   ],
   "id": "2ff218cccf5bd009",
   "outputs": [],
   "execution_count": 78
  },
  {
   "metadata": {
    "ExecuteTime": {
     "end_time": "2024-04-17T09:12:04.194262Z",
     "start_time": "2024-04-17T09:12:04.071536Z"
    }
   },
   "cell_type": "code",
   "source": "dm.n_max",
   "id": "1a348e0d791b267c",
   "outputs": [
    {
     "data": {
      "text/plain": [
       "140"
      ]
     },
     "execution_count": 79,
     "metadata": {},
     "output_type": "execute_result"
    }
   ],
   "execution_count": 79
  },
  {
   "metadata": {
    "ExecuteTime": {
     "end_time": "2024-04-17T09:12:04.756905Z",
     "start_time": "2024-04-17T09:12:04.636794Z"
    }
   },
   "cell_type": "code",
   "source": [
    "from tqdm import tqdm\n",
    "from IPython.display import clear_output\n",
    "from torch.distributions import Poisson\n"
   ],
   "id": "3f18fc358f08cb38",
   "outputs": [],
   "execution_count": 80
  },
  {
   "metadata": {},
   "cell_type": "markdown",
   "source": "",
   "id": "9fe311d348319e64"
  },
  {
   "metadata": {
    "ExecuteTime": {
     "end_time": "2024-04-17T09:12:05.878574Z",
     "start_time": "2024-04-17T09:12:05.787669Z"
    }
   },
   "cell_type": "code",
   "source": [
    "def kl_divergence_loss(z_mean, z_logvar):\n",
    "    # Compute the KL-divergence loss\n",
    "    # z_mean: (batch_size, latent_dim)\n",
    "    # z_logvar: (batch_size, latent_dim)\n",
    "\n",
    "    # Compute variance from log variance\n",
    "    z_var = torch.exp(z_logvar)\n",
    "\n",
    "    # Compute KL divergence\n",
    "    kl_loss = -0.5 * torch.sum(1 + z_logvar - z_mean.pow(2) - z_var, dim=1)\n",
    "    kl_loss = torch.mean(kl_loss)  # Take mean over the batch\n",
    "\n",
    "    return kl_loss\n"
   ],
   "id": "b5bc8b2cac695eb9",
   "outputs": [],
   "execution_count": 81
  },
  {
   "metadata": {
    "ExecuteTime": {
     "end_time": "2024-04-17T09:15:59.214830Z",
     "start_time": "2024-04-17T09:12:06.266258Z"
    }
   },
   "cell_type": "code",
   "source": [
    "#set detect anomaly to True\n",
    "with torch.autograd.detect_anomaly():\n",
    "    train_loss_list = []\n",
    "    val_loss_list = []\n",
    "    for epoch in tqdm(range(200)):\n",
    "        train_batch_list = []\n",
    "        for batch in train_loader:\n",
    "            \n",
    "            optimizer.zero_grad()\n",
    "            n = torch.randint(low = 0, high = 10, size=(len(batch),), device=batch.time.device)\n",
    "            #n = torch.ones_like(n) * 3\n",
    "            #l = n.shape[0]\n",
    "            #n[:l//3] = n[:l//3] * 3\n",
    "            #n[l//3:2*l//3] =  n[l//3:2*l//3] * 2\n",
    "            #n[2*l//3:] = n[2*l//3:] * 1\n",
    "            n = n/10 \n",
    "            x_n, x_0_thin, x_0_kept, hpp_thinned, hpp_kept = add_thin_model.noise(x_0=batch, n=n)\n",
    "            x_n.to(device)\n",
    "            x_0_thin.to(device)\n",
    "            context_embs = model(x_n,n)\n",
    "            main_embs = x_0_thin_embeds(x_0_thin, n)\n",
    "            preds, z_mean, z_logvar = variational_auto_encoder(main_embs, context_embs)\n",
    "            lens = 140 * preds\n",
    "            loss = F.mse_loss(lens.float().squeeze(), x_0_thin.mask.sum(-1).float())\n",
    "            kl_div = kl_divergence_loss(z_mean, z_logvar)\n",
    "            loss = loss + kl_div\n",
    "            loss.backward()\n",
    "            optimizer.step()\n",
    "            # if epoch is divisble by 100 print the loss\n",
    "                \n",
    "            train_batch_list.append(loss.item())\n",
    "            \n",
    "        with torch.no_grad():\n",
    "            #evaluate on val_loader\n",
    "            val_batch_list = []\n",
    "            for batch in val_loader:\n",
    "                n = torch.randint(low = 0, high = 10, size=(len(batch),), device=batch.time.device)\n",
    "                n = n/10\n",
    "                x_n, x_0_thin, x_0_kept, hpp_thinned, hpp_kept = add_thin_model.noise(x_0=batch, n=n)\n",
    "                x_n.to(device)\n",
    "                x_0_thin.to(device)\n",
    "                context_embs = model(x_n,n)\n",
    "                main_embs = x_0_thin_embeds(x_0_thin, n)\n",
    "                preds, z_mean, z_logvar = variational_auto_encoder(main_embs, context_embs)\n",
    "                lens = 140 * preds\n",
    "                loss = F.mse_loss(lens.float().squeeze(), x_0_thin.mask.sum(-1).float())\n",
    "                kl_div = kl_divergence_loss(z_mean, z_logvar)\n",
    "                loss = loss + kl_div\n",
    "                val_batch_list.append(loss.item())\n",
    "                \n",
    "            \n",
    "        train_loss_list.append(sum(train_batch_list)/len(train_batch_list))\n",
    "        val_loss_list.append(sum(val_batch_list)/len(val_batch_list))\n",
    "        if epoch % 10 == 0:\n",
    "                #clear output of jupyter notebook screen\n",
    "                clear_output(wait=True)\n",
    "                \n",
    "                print(\"epoch: \", epoch, \"val_loss: \", val_loss_list[-1])\n",
    "                print(\"kl_div: \", kl_div)\n",
    "                print(\"loss: \", loss)\n",
    "        \n",
    "        "
   ],
   "id": "957f1a2e1431330a",
   "outputs": [
    {
     "name": "stderr",
     "output_type": "stream",
     "text": [
      "C:\\Users\\Nishant\\AppData\\Local\\Temp\\ipykernel_19104\\2881210339.py:2: UserWarning: Anomaly Detection has been enabled. This mode will increase the runtime and should only be enabled for debugging.\n",
      "  with torch.autograd.detect_anomaly():\n",
      "  0%|          | 1/200 [00:01<04:23,  1.32s/it]"
     ]
    },
    {
     "name": "stdout",
     "output_type": "stream",
     "text": [
      "epoch:  0 val_loss:  2893.77392578125\n",
      "epoch:  0 val_loss:  2893.77392578125\n",
      "kl_div:  tensor(27.6864, device='cuda:0')\n",
      "loss:  tensor(2893.7739, device='cuda:0')\n"
     ]
    },
    {
     "name": "stderr",
     "output_type": "stream",
     "text": [
      "  1%|          | 2/200 [00:02<03:45,  1.14s/it]"
     ]
    },
    {
     "name": "stdout",
     "output_type": "stream",
     "text": [
      "epoch:  1 val_loss:  1954.8502197265625\n"
     ]
    },
    {
     "name": "stderr",
     "output_type": "stream",
     "text": [
      "  2%|▏         | 3/200 [00:03<03:38,  1.11s/it]"
     ]
    },
    {
     "name": "stdout",
     "output_type": "stream",
     "text": [
      "epoch:  2 val_loss:  1998.061279296875\n"
     ]
    },
    {
     "name": "stderr",
     "output_type": "stream",
     "text": [
      "  2%|▏         | 4/200 [00:04<03:38,  1.12s/it]"
     ]
    },
    {
     "name": "stdout",
     "output_type": "stream",
     "text": [
      "epoch:  3 val_loss:  2277.028564453125\n"
     ]
    },
    {
     "name": "stderr",
     "output_type": "stream",
     "text": [
      "  2%|▎         | 5/200 [00:05<03:41,  1.14s/it]"
     ]
    },
    {
     "name": "stdout",
     "output_type": "stream",
     "text": [
      "epoch:  4 val_loss:  2890.927978515625\n"
     ]
    },
    {
     "name": "stderr",
     "output_type": "stream",
     "text": [
      "  3%|▎         | 6/200 [00:06<03:48,  1.18s/it]"
     ]
    },
    {
     "name": "stdout",
     "output_type": "stream",
     "text": [
      "epoch:  5 val_loss:  1628.000732421875\n"
     ]
    },
    {
     "name": "stderr",
     "output_type": "stream",
     "text": [
      "  4%|▎         | 7/200 [00:08<03:45,  1.17s/it]"
     ]
    },
    {
     "name": "stdout",
     "output_type": "stream",
     "text": [
      "epoch:  6 val_loss:  1862.2110595703125\n"
     ]
    },
    {
     "name": "stderr",
     "output_type": "stream",
     "text": [
      "  4%|▍         | 8/200 [00:09<03:50,  1.20s/it]"
     ]
    },
    {
     "name": "stdout",
     "output_type": "stream",
     "text": [
      "epoch:  7 val_loss:  1794.62060546875\n"
     ]
    },
    {
     "name": "stderr",
     "output_type": "stream",
     "text": [
      "  4%|▍         | 9/200 [00:10<03:47,  1.19s/it]"
     ]
    },
    {
     "name": "stdout",
     "output_type": "stream",
     "text": [
      "epoch:  8 val_loss:  1763.309814453125\n"
     ]
    },
    {
     "name": "stderr",
     "output_type": "stream",
     "text": [
      "  5%|▌         | 10/200 [00:11<03:43,  1.17s/it]"
     ]
    },
    {
     "name": "stdout",
     "output_type": "stream",
     "text": [
      "epoch:  9 val_loss:  1516.9295654296875\n"
     ]
    },
    {
     "name": "stderr",
     "output_type": "stream",
     "text": [
      "  6%|▌         | 11/200 [00:12<03:44,  1.19s/it]"
     ]
    },
    {
     "name": "stdout",
     "output_type": "stream",
     "text": [
      "epoch:  10 val_loss:  2266.546630859375\n",
      "epoch:  10 val_loss:  2266.546630859375\n",
      "kl_div:  tensor(27.9980, device='cuda:0')\n",
      "loss:  tensor(2266.5466, device='cuda:0')\n"
     ]
    },
    {
     "name": "stderr",
     "output_type": "stream",
     "text": [
      "  6%|▌         | 12/200 [00:13<03:31,  1.13s/it]"
     ]
    },
    {
     "name": "stdout",
     "output_type": "stream",
     "text": [
      "epoch:  11 val_loss:  1460.7078857421875\n"
     ]
    },
    {
     "name": "stderr",
     "output_type": "stream",
     "text": [
      "  6%|▋         | 13/200 [00:14<03:27,  1.11s/it]"
     ]
    },
    {
     "name": "stdout",
     "output_type": "stream",
     "text": [
      "epoch:  12 val_loss:  1843.0048828125\n"
     ]
    },
    {
     "name": "stderr",
     "output_type": "stream",
     "text": [
      "  7%|▋         | 14/200 [00:16<03:26,  1.11s/it]"
     ]
    },
    {
     "name": "stdout",
     "output_type": "stream",
     "text": [
      "epoch:  13 val_loss:  1640.7994384765625\n"
     ]
    },
    {
     "name": "stderr",
     "output_type": "stream",
     "text": [
      "  8%|▊         | 15/200 [00:17<03:24,  1.11s/it]"
     ]
    },
    {
     "name": "stdout",
     "output_type": "stream",
     "text": [
      "epoch:  14 val_loss:  1579.232177734375\n"
     ]
    },
    {
     "name": "stderr",
     "output_type": "stream",
     "text": [
      "  8%|▊         | 16/200 [00:18<03:18,  1.08s/it]"
     ]
    },
    {
     "name": "stdout",
     "output_type": "stream",
     "text": [
      "epoch:  15 val_loss:  1694.510009765625\n"
     ]
    },
    {
     "name": "stderr",
     "output_type": "stream",
     "text": [
      "  8%|▊         | 17/200 [00:19<03:14,  1.07s/it]"
     ]
    },
    {
     "name": "stdout",
     "output_type": "stream",
     "text": [
      "epoch:  16 val_loss:  1809.27001953125\n"
     ]
    },
    {
     "name": "stderr",
     "output_type": "stream",
     "text": [
      "  9%|▉         | 18/200 [00:20<03:14,  1.07s/it]"
     ]
    },
    {
     "name": "stdout",
     "output_type": "stream",
     "text": [
      "epoch:  17 val_loss:  2137.576904296875\n"
     ]
    },
    {
     "name": "stderr",
     "output_type": "stream",
     "text": [
      " 10%|▉         | 19/200 [00:21<03:18,  1.09s/it]"
     ]
    },
    {
     "name": "stdout",
     "output_type": "stream",
     "text": [
      "epoch:  18 val_loss:  1316.5260009765625\n"
     ]
    },
    {
     "name": "stderr",
     "output_type": "stream",
     "text": [
      " 10%|█         | 20/200 [00:22<03:23,  1.13s/it]"
     ]
    },
    {
     "name": "stdout",
     "output_type": "stream",
     "text": [
      "epoch:  19 val_loss:  2040.25341796875\n"
     ]
    },
    {
     "name": "stderr",
     "output_type": "stream",
     "text": [
      " 10%|█         | 21/200 [00:23<03:27,  1.16s/it]"
     ]
    },
    {
     "name": "stdout",
     "output_type": "stream",
     "text": [
      "epoch:  20 val_loss:  1354.41357421875\n",
      "epoch:  20 val_loss:  1354.41357421875\n",
      "kl_div:  tensor(10.7601, device='cuda:0')\n",
      "loss:  tensor(1354.4136, device='cuda:0')\n"
     ]
    },
    {
     "name": "stderr",
     "output_type": "stream",
     "text": [
      " 11%|█         | 22/200 [00:25<03:28,  1.17s/it]"
     ]
    },
    {
     "name": "stdout",
     "output_type": "stream",
     "text": [
      "epoch:  21 val_loss:  1526.93994140625\n"
     ]
    },
    {
     "name": "stderr",
     "output_type": "stream",
     "text": [
      " 12%|█▏        | 23/200 [00:26<03:26,  1.17s/it]"
     ]
    },
    {
     "name": "stdout",
     "output_type": "stream",
     "text": [
      "epoch:  22 val_loss:  1243.7628173828125\n"
     ]
    },
    {
     "name": "stderr",
     "output_type": "stream",
     "text": [
      " 12%|█▏        | 24/200 [00:27<03:26,  1.17s/it]"
     ]
    },
    {
     "name": "stdout",
     "output_type": "stream",
     "text": [
      "epoch:  23 val_loss:  1417.43310546875\n"
     ]
    },
    {
     "name": "stderr",
     "output_type": "stream",
     "text": [
      " 12%|█▎        | 25/200 [00:28<03:23,  1.16s/it]"
     ]
    },
    {
     "name": "stdout",
     "output_type": "stream",
     "text": [
      "epoch:  24 val_loss:  1714.9608154296875\n"
     ]
    },
    {
     "name": "stderr",
     "output_type": "stream",
     "text": [
      " 13%|█▎        | 26/200 [00:29<03:23,  1.17s/it]"
     ]
    },
    {
     "name": "stdout",
     "output_type": "stream",
     "text": [
      "epoch:  25 val_loss:  1118.4278564453125\n"
     ]
    },
    {
     "name": "stderr",
     "output_type": "stream",
     "text": [
      " 14%|█▎        | 27/200 [00:30<03:25,  1.19s/it]"
     ]
    },
    {
     "name": "stdout",
     "output_type": "stream",
     "text": [
      "epoch:  26 val_loss:  1363.3907470703125\n"
     ]
    },
    {
     "name": "stderr",
     "output_type": "stream",
     "text": [
      " 14%|█▍        | 28/200 [00:32<03:26,  1.20s/it]"
     ]
    },
    {
     "name": "stdout",
     "output_type": "stream",
     "text": [
      "epoch:  27 val_loss:  1388.8846435546875\n"
     ]
    },
    {
     "name": "stderr",
     "output_type": "stream",
     "text": [
      " 14%|█▍        | 29/200 [00:33<03:22,  1.19s/it]"
     ]
    },
    {
     "name": "stdout",
     "output_type": "stream",
     "text": [
      "epoch:  28 val_loss:  1406.9615478515625\n"
     ]
    },
    {
     "name": "stderr",
     "output_type": "stream",
     "text": [
      " 15%|█▌        | 30/200 [00:34<03:23,  1.20s/it]"
     ]
    },
    {
     "name": "stdout",
     "output_type": "stream",
     "text": [
      "epoch:  29 val_loss:  1154.811279296875\n"
     ]
    },
    {
     "name": "stderr",
     "output_type": "stream",
     "text": [
      " 16%|█▌        | 31/200 [00:35<03:16,  1.16s/it]"
     ]
    },
    {
     "name": "stdout",
     "output_type": "stream",
     "text": [
      "epoch:  30 val_loss:  1385.8555908203125\n",
      "epoch:  30 val_loss:  1385.8555908203125\n",
      "kl_div:  tensor(19.0699, device='cuda:0')\n",
      "loss:  tensor(1385.8556, device='cuda:0')\n"
     ]
    },
    {
     "name": "stderr",
     "output_type": "stream",
     "text": [
      " 16%|█▌        | 32/200 [00:36<03:16,  1.17s/it]"
     ]
    },
    {
     "name": "stdout",
     "output_type": "stream",
     "text": [
      "epoch:  31 val_loss:  1222.9652099609375\n"
     ]
    },
    {
     "name": "stderr",
     "output_type": "stream",
     "text": [
      " 16%|█▋        | 33/200 [00:38<03:18,  1.19s/it]"
     ]
    },
    {
     "name": "stdout",
     "output_type": "stream",
     "text": [
      "epoch:  32 val_loss:  1430.994140625\n"
     ]
    },
    {
     "name": "stderr",
     "output_type": "stream",
     "text": [
      " 17%|█▋        | 34/200 [00:39<03:17,  1.19s/it]"
     ]
    },
    {
     "name": "stdout",
     "output_type": "stream",
     "text": [
      "epoch:  33 val_loss:  1197.6441650390625\n"
     ]
    },
    {
     "name": "stderr",
     "output_type": "stream",
     "text": [
      " 18%|█▊        | 35/200 [00:40<03:14,  1.18s/it]"
     ]
    },
    {
     "name": "stdout",
     "output_type": "stream",
     "text": [
      "epoch:  34 val_loss:  861.1390991210938\n"
     ]
    },
    {
     "name": "stderr",
     "output_type": "stream",
     "text": [
      " 18%|█▊        | 36/200 [00:41<03:13,  1.18s/it]"
     ]
    },
    {
     "name": "stdout",
     "output_type": "stream",
     "text": [
      "epoch:  35 val_loss:  1207.11669921875\n"
     ]
    },
    {
     "name": "stderr",
     "output_type": "stream",
     "text": [
      " 18%|█▊        | 37/200 [00:42<03:12,  1.18s/it]"
     ]
    },
    {
     "name": "stdout",
     "output_type": "stream",
     "text": [
      "epoch:  36 val_loss:  1121.4564208984375\n"
     ]
    },
    {
     "name": "stderr",
     "output_type": "stream",
     "text": [
      " 19%|█▉        | 38/200 [00:44<03:13,  1.20s/it]"
     ]
    },
    {
     "name": "stdout",
     "output_type": "stream",
     "text": [
      "epoch:  37 val_loss:  1063.86328125\n"
     ]
    },
    {
     "name": "stderr",
     "output_type": "stream",
     "text": [
      " 20%|█▉        | 39/200 [00:45<03:09,  1.18s/it]"
     ]
    },
    {
     "name": "stdout",
     "output_type": "stream",
     "text": [
      "epoch:  38 val_loss:  1169.8466796875\n"
     ]
    },
    {
     "name": "stderr",
     "output_type": "stream",
     "text": [
      " 20%|██        | 40/200 [00:46<03:11,  1.19s/it]"
     ]
    },
    {
     "name": "stdout",
     "output_type": "stream",
     "text": [
      "epoch:  39 val_loss:  1141.788818359375\n"
     ]
    },
    {
     "name": "stderr",
     "output_type": "stream",
     "text": [
      " 20%|██        | 41/200 [00:47<03:07,  1.18s/it]"
     ]
    },
    {
     "name": "stdout",
     "output_type": "stream",
     "text": [
      "epoch:  40 val_loss:  1255.1156005859375\n",
      "epoch:  40 val_loss:  1255.1156005859375\n",
      "kl_div:  tensor(14.7626, device='cuda:0')\n",
      "loss:  tensor(1255.1156, device='cuda:0')\n"
     ]
    },
    {
     "name": "stderr",
     "output_type": "stream",
     "text": [
      " 21%|██        | 42/200 [00:48<03:05,  1.18s/it]"
     ]
    },
    {
     "name": "stdout",
     "output_type": "stream",
     "text": [
      "epoch:  41 val_loss:  1420.3516845703125\n"
     ]
    },
    {
     "name": "stderr",
     "output_type": "stream",
     "text": [
      " 22%|██▏       | 43/200 [00:49<03:05,  1.18s/it]"
     ]
    },
    {
     "name": "stdout",
     "output_type": "stream",
     "text": [
      "epoch:  42 val_loss:  958.5498657226562\n"
     ]
    },
    {
     "name": "stderr",
     "output_type": "stream",
     "text": [
      " 22%|██▏       | 44/200 [00:50<02:55,  1.12s/it]"
     ]
    },
    {
     "name": "stdout",
     "output_type": "stream",
     "text": [
      "epoch:  43 val_loss:  967.4411010742188\n"
     ]
    },
    {
     "name": "stderr",
     "output_type": "stream",
     "text": [
      " 22%|██▎       | 45/200 [00:51<02:51,  1.11s/it]"
     ]
    },
    {
     "name": "stdout",
     "output_type": "stream",
     "text": [
      "epoch:  44 val_loss:  1147.197265625\n"
     ]
    },
    {
     "name": "stderr",
     "output_type": "stream",
     "text": [
      " 23%|██▎       | 46/200 [00:53<02:50,  1.11s/it]"
     ]
    },
    {
     "name": "stdout",
     "output_type": "stream",
     "text": [
      "epoch:  45 val_loss:  964.7749633789062\n"
     ]
    },
    {
     "name": "stderr",
     "output_type": "stream",
     "text": [
      " 24%|██▎       | 47/200 [00:54<02:53,  1.13s/it]"
     ]
    },
    {
     "name": "stdout",
     "output_type": "stream",
     "text": [
      "epoch:  46 val_loss:  1036.2178955078125\n"
     ]
    },
    {
     "name": "stderr",
     "output_type": "stream",
     "text": [
      " 24%|██▍       | 48/200 [00:55<02:55,  1.15s/it]"
     ]
    },
    {
     "name": "stdout",
     "output_type": "stream",
     "text": [
      "epoch:  47 val_loss:  1206.47021484375\n"
     ]
    },
    {
     "name": "stderr",
     "output_type": "stream",
     "text": [
      " 24%|██▍       | 49/200 [00:56<02:52,  1.14s/it]"
     ]
    },
    {
     "name": "stdout",
     "output_type": "stream",
     "text": [
      "epoch:  48 val_loss:  1409.3389892578125\n"
     ]
    },
    {
     "name": "stderr",
     "output_type": "stream",
     "text": [
      " 25%|██▌       | 50/200 [00:57<02:56,  1.17s/it]"
     ]
    },
    {
     "name": "stdout",
     "output_type": "stream",
     "text": [
      "epoch:  49 val_loss:  866.9365234375\n"
     ]
    },
    {
     "name": "stderr",
     "output_type": "stream",
     "text": [
      " 26%|██▌       | 51/200 [00:59<02:57,  1.19s/it]"
     ]
    },
    {
     "name": "stdout",
     "output_type": "stream",
     "text": [
      "epoch:  50 val_loss:  954.0177612304688\n",
      "epoch:  50 val_loss:  954.0177612304688\n",
      "kl_div:  tensor(13.2452, device='cuda:0')\n",
      "loss:  tensor(954.0178, device='cuda:0')\n"
     ]
    },
    {
     "name": "stderr",
     "output_type": "stream",
     "text": [
      " 26%|██▌       | 52/200 [01:00<02:55,  1.18s/it]"
     ]
    },
    {
     "name": "stdout",
     "output_type": "stream",
     "text": [
      "epoch:  51 val_loss:  803.36083984375\n"
     ]
    },
    {
     "name": "stderr",
     "output_type": "stream",
     "text": [
      " 26%|██▋       | 53/200 [01:01<02:53,  1.18s/it]"
     ]
    },
    {
     "name": "stdout",
     "output_type": "stream",
     "text": [
      "epoch:  52 val_loss:  1320.7669677734375\n"
     ]
    },
    {
     "name": "stderr",
     "output_type": "stream",
     "text": [
      " 27%|██▋       | 54/200 [01:02<02:54,  1.19s/it]"
     ]
    },
    {
     "name": "stdout",
     "output_type": "stream",
     "text": [
      "epoch:  53 val_loss:  1082.4569091796875\n"
     ]
    },
    {
     "name": "stderr",
     "output_type": "stream",
     "text": [
      " 28%|██▊       | 55/200 [01:03<02:53,  1.20s/it]"
     ]
    },
    {
     "name": "stdout",
     "output_type": "stream",
     "text": [
      "epoch:  54 val_loss:  1076.0059814453125\n"
     ]
    },
    {
     "name": "stderr",
     "output_type": "stream",
     "text": [
      " 28%|██▊       | 56/200 [01:05<02:53,  1.21s/it]"
     ]
    },
    {
     "name": "stdout",
     "output_type": "stream",
     "text": [
      "epoch:  55 val_loss:  1050.6156005859375\n"
     ]
    },
    {
     "name": "stderr",
     "output_type": "stream",
     "text": [
      " 28%|██▊       | 57/200 [01:06<02:51,  1.20s/it]"
     ]
    },
    {
     "name": "stdout",
     "output_type": "stream",
     "text": [
      "epoch:  56 val_loss:  1150.610107421875\n"
     ]
    },
    {
     "name": "stderr",
     "output_type": "stream",
     "text": [
      " 29%|██▉       | 58/200 [01:07<02:47,  1.18s/it]"
     ]
    },
    {
     "name": "stdout",
     "output_type": "stream",
     "text": [
      "epoch:  57 val_loss:  1155.0906982421875\n"
     ]
    },
    {
     "name": "stderr",
     "output_type": "stream",
     "text": [
      " 30%|██▉       | 59/200 [01:08<02:45,  1.17s/it]"
     ]
    },
    {
     "name": "stdout",
     "output_type": "stream",
     "text": [
      "epoch:  58 val_loss:  1135.611572265625\n"
     ]
    },
    {
     "name": "stderr",
     "output_type": "stream",
     "text": [
      " 30%|███       | 60/200 [01:09<02:42,  1.16s/it]"
     ]
    },
    {
     "name": "stdout",
     "output_type": "stream",
     "text": [
      "epoch:  59 val_loss:  883.4552612304688\n"
     ]
    },
    {
     "name": "stderr",
     "output_type": "stream",
     "text": [
      " 30%|███       | 61/200 [01:10<02:44,  1.19s/it]"
     ]
    },
    {
     "name": "stdout",
     "output_type": "stream",
     "text": [
      "epoch:  60 val_loss:  1199.93603515625\n",
      "epoch:  60 val_loss:  1199.93603515625\n",
      "kl_div:  tensor(26.9009, device='cuda:0')\n",
      "loss:  tensor(1199.9360, device='cuda:0')\n"
     ]
    },
    {
     "name": "stderr",
     "output_type": "stream",
     "text": [
      " 31%|███       | 62/200 [01:12<02:42,  1.18s/it]"
     ]
    },
    {
     "name": "stdout",
     "output_type": "stream",
     "text": [
      "epoch:  61 val_loss:  1101.85546875\n"
     ]
    },
    {
     "name": "stderr",
     "output_type": "stream",
     "text": [
      " 32%|███▏      | 63/200 [01:13<02:39,  1.16s/it]"
     ]
    },
    {
     "name": "stdout",
     "output_type": "stream",
     "text": [
      "epoch:  62 val_loss:  1365.672607421875\n"
     ]
    },
    {
     "name": "stderr",
     "output_type": "stream",
     "text": [
      " 32%|███▏      | 64/200 [01:14<02:38,  1.16s/it]"
     ]
    },
    {
     "name": "stdout",
     "output_type": "stream",
     "text": [
      "epoch:  63 val_loss:  1090.1015625\n"
     ]
    },
    {
     "name": "stderr",
     "output_type": "stream",
     "text": [
      " 32%|███▎      | 65/200 [01:15<02:34,  1.14s/it]"
     ]
    },
    {
     "name": "stdout",
     "output_type": "stream",
     "text": [
      "epoch:  64 val_loss:  926.8259887695312\n"
     ]
    },
    {
     "name": "stderr",
     "output_type": "stream",
     "text": [
      " 33%|███▎      | 66/200 [01:16<02:35,  1.16s/it]"
     ]
    },
    {
     "name": "stdout",
     "output_type": "stream",
     "text": [
      "epoch:  65 val_loss:  1062.60546875\n"
     ]
    },
    {
     "name": "stderr",
     "output_type": "stream",
     "text": [
      " 34%|███▎      | 67/200 [01:17<02:32,  1.15s/it]"
     ]
    },
    {
     "name": "stdout",
     "output_type": "stream",
     "text": [
      "epoch:  66 val_loss:  1003.5021362304688\n"
     ]
    },
    {
     "name": "stderr",
     "output_type": "stream",
     "text": [
      " 34%|███▍      | 68/200 [01:18<02:32,  1.16s/it]"
     ]
    },
    {
     "name": "stdout",
     "output_type": "stream",
     "text": [
      "epoch:  67 val_loss:  919.92724609375\n"
     ]
    },
    {
     "name": "stderr",
     "output_type": "stream",
     "text": [
      " 34%|███▍      | 69/200 [01:20<02:32,  1.17s/it]"
     ]
    },
    {
     "name": "stdout",
     "output_type": "stream",
     "text": [
      "epoch:  68 val_loss:  1170.7869873046875\n"
     ]
    },
    {
     "name": "stderr",
     "output_type": "stream",
     "text": [
      " 35%|███▌      | 70/200 [01:21<02:31,  1.17s/it]"
     ]
    },
    {
     "name": "stdout",
     "output_type": "stream",
     "text": [
      "epoch:  69 val_loss:  1336.4273681640625\n"
     ]
    },
    {
     "name": "stderr",
     "output_type": "stream",
     "text": [
      " 36%|███▌      | 71/200 [01:22<02:32,  1.18s/it]"
     ]
    },
    {
     "name": "stdout",
     "output_type": "stream",
     "text": [
      "epoch:  70 val_loss:  781.9303588867188\n",
      "epoch:  70 val_loss:  781.9303588867188\n",
      "kl_div:  tensor(8.8734, device='cuda:0')\n",
      "loss:  tensor(781.9304, device='cuda:0')\n"
     ]
    },
    {
     "name": "stderr",
     "output_type": "stream",
     "text": [
      " 36%|███▌      | 72/200 [01:23<02:29,  1.17s/it]"
     ]
    },
    {
     "name": "stdout",
     "output_type": "stream",
     "text": [
      "epoch:  71 val_loss:  950.1694946289062\n"
     ]
    },
    {
     "name": "stderr",
     "output_type": "stream",
     "text": [
      " 36%|███▋      | 73/200 [01:24<02:31,  1.19s/it]"
     ]
    },
    {
     "name": "stdout",
     "output_type": "stream",
     "text": [
      "epoch:  72 val_loss:  1166.7193603515625\n"
     ]
    },
    {
     "name": "stderr",
     "output_type": "stream",
     "text": [
      " 37%|███▋      | 74/200 [01:26<02:30,  1.20s/it]"
     ]
    },
    {
     "name": "stdout",
     "output_type": "stream",
     "text": [
      "epoch:  73 val_loss:  1113.0877685546875\n"
     ]
    },
    {
     "name": "stderr",
     "output_type": "stream",
     "text": [
      " 38%|███▊      | 75/200 [01:27<02:29,  1.19s/it]"
     ]
    },
    {
     "name": "stdout",
     "output_type": "stream",
     "text": [
      "epoch:  74 val_loss:  1018.8056030273438\n"
     ]
    },
    {
     "name": "stderr",
     "output_type": "stream",
     "text": [
      " 38%|███▊      | 76/200 [01:28<02:25,  1.17s/it]"
     ]
    },
    {
     "name": "stdout",
     "output_type": "stream",
     "text": [
      "epoch:  75 val_loss:  1144.88818359375\n"
     ]
    },
    {
     "name": "stderr",
     "output_type": "stream",
     "text": [
      " 38%|███▊      | 77/200 [01:29<02:27,  1.20s/it]"
     ]
    },
    {
     "name": "stdout",
     "output_type": "stream",
     "text": [
      "epoch:  76 val_loss:  949.5082397460938\n"
     ]
    },
    {
     "name": "stderr",
     "output_type": "stream",
     "text": [
      " 39%|███▉      | 78/200 [01:30<02:21,  1.16s/it]"
     ]
    },
    {
     "name": "stdout",
     "output_type": "stream",
     "text": [
      "epoch:  77 val_loss:  1140.8284912109375\n"
     ]
    },
    {
     "name": "stderr",
     "output_type": "stream",
     "text": [
      " 40%|███▉      | 79/200 [01:31<02:20,  1.16s/it]"
     ]
    },
    {
     "name": "stdout",
     "output_type": "stream",
     "text": [
      "epoch:  78 val_loss:  855.3443603515625\n"
     ]
    },
    {
     "name": "stderr",
     "output_type": "stream",
     "text": [
      " 40%|████      | 80/200 [01:33<02:22,  1.18s/it]"
     ]
    },
    {
     "name": "stdout",
     "output_type": "stream",
     "text": [
      "epoch:  79 val_loss:  914.8482055664062\n"
     ]
    },
    {
     "name": "stderr",
     "output_type": "stream",
     "text": [
      " 40%|████      | 81/200 [01:34<02:20,  1.18s/it]"
     ]
    },
    {
     "name": "stdout",
     "output_type": "stream",
     "text": [
      "epoch:  80 val_loss:  1065.005615234375\n",
      "epoch:  80 val_loss:  1065.005615234375\n",
      "kl_div:  tensor(25.7008, device='cuda:0')\n",
      "loss:  tensor(1065.0056, device='cuda:0')\n"
     ]
    },
    {
     "name": "stderr",
     "output_type": "stream",
     "text": [
      " 41%|████      | 82/200 [01:35<02:16,  1.16s/it]"
     ]
    },
    {
     "name": "stdout",
     "output_type": "stream",
     "text": [
      "epoch:  81 val_loss:  1282.5609130859375\n"
     ]
    },
    {
     "name": "stderr",
     "output_type": "stream",
     "text": [
      " 42%|████▏     | 83/200 [01:36<02:16,  1.17s/it]"
     ]
    },
    {
     "name": "stdout",
     "output_type": "stream",
     "text": [
      "epoch:  82 val_loss:  814.8857421875\n"
     ]
    },
    {
     "name": "stderr",
     "output_type": "stream",
     "text": [
      " 42%|████▏     | 84/200 [01:37<02:15,  1.16s/it]"
     ]
    },
    {
     "name": "stdout",
     "output_type": "stream",
     "text": [
      "epoch:  83 val_loss:  813.1482543945312\n"
     ]
    },
    {
     "name": "stderr",
     "output_type": "stream",
     "text": [
      " 42%|████▎     | 85/200 [01:38<02:14,  1.17s/it]"
     ]
    },
    {
     "name": "stdout",
     "output_type": "stream",
     "text": [
      "epoch:  84 val_loss:  900.1297607421875\n"
     ]
    },
    {
     "name": "stderr",
     "output_type": "stream",
     "text": [
      " 43%|████▎     | 86/200 [01:40<02:12,  1.17s/it]"
     ]
    },
    {
     "name": "stdout",
     "output_type": "stream",
     "text": [
      "epoch:  85 val_loss:  1077.6861572265625\n"
     ]
    },
    {
     "name": "stderr",
     "output_type": "stream",
     "text": [
      " 44%|████▎     | 87/200 [01:41<02:12,  1.17s/it]"
     ]
    },
    {
     "name": "stdout",
     "output_type": "stream",
     "text": [
      "epoch:  86 val_loss:  842.4094848632812\n"
     ]
    },
    {
     "name": "stderr",
     "output_type": "stream",
     "text": [
      " 44%|████▍     | 88/200 [01:42<02:09,  1.15s/it]"
     ]
    },
    {
     "name": "stdout",
     "output_type": "stream",
     "text": [
      "epoch:  87 val_loss:  1129.0037841796875\n"
     ]
    },
    {
     "name": "stderr",
     "output_type": "stream",
     "text": [
      " 44%|████▍     | 89/200 [01:43<02:08,  1.16s/it]"
     ]
    },
    {
     "name": "stdout",
     "output_type": "stream",
     "text": [
      "epoch:  88 val_loss:  1042.9295654296875\n"
     ]
    },
    {
     "name": "stderr",
     "output_type": "stream",
     "text": [
      " 45%|████▌     | 90/200 [01:44<02:07,  1.16s/it]"
     ]
    },
    {
     "name": "stdout",
     "output_type": "stream",
     "text": [
      "epoch:  89 val_loss:  614.3421020507812\n"
     ]
    },
    {
     "name": "stderr",
     "output_type": "stream",
     "text": [
      " 46%|████▌     | 91/200 [01:45<02:06,  1.16s/it]"
     ]
    },
    {
     "name": "stdout",
     "output_type": "stream",
     "text": [
      "epoch:  90 val_loss:  861.48095703125\n",
      "epoch:  90 val_loss:  861.48095703125\n",
      "kl_div:  tensor(16.2341, device='cuda:0')\n",
      "loss:  tensor(861.4810, device='cuda:0')\n"
     ]
    },
    {
     "name": "stderr",
     "output_type": "stream",
     "text": [
      " 46%|████▌     | 92/200 [01:47<02:04,  1.15s/it]"
     ]
    },
    {
     "name": "stdout",
     "output_type": "stream",
     "text": [
      "epoch:  91 val_loss:  1089.9500732421875\n"
     ]
    },
    {
     "name": "stderr",
     "output_type": "stream",
     "text": [
      " 46%|████▋     | 93/200 [01:48<02:07,  1.19s/it]"
     ]
    },
    {
     "name": "stdout",
     "output_type": "stream",
     "text": [
      "epoch:  92 val_loss:  873.566650390625\n"
     ]
    },
    {
     "name": "stderr",
     "output_type": "stream",
     "text": [
      " 47%|████▋     | 94/200 [01:49<02:06,  1.19s/it]"
     ]
    },
    {
     "name": "stdout",
     "output_type": "stream",
     "text": [
      "epoch:  93 val_loss:  892.92041015625\n"
     ]
    },
    {
     "name": "stderr",
     "output_type": "stream",
     "text": [
      " 48%|████▊     | 95/200 [01:50<02:04,  1.18s/it]"
     ]
    },
    {
     "name": "stdout",
     "output_type": "stream",
     "text": [
      "epoch:  94 val_loss:  786.355224609375\n"
     ]
    },
    {
     "name": "stderr",
     "output_type": "stream",
     "text": [
      " 48%|████▊     | 96/200 [01:51<02:05,  1.20s/it]"
     ]
    },
    {
     "name": "stdout",
     "output_type": "stream",
     "text": [
      "epoch:  95 val_loss:  747.9727783203125\n"
     ]
    },
    {
     "name": "stderr",
     "output_type": "stream",
     "text": [
      " 48%|████▊     | 97/200 [01:53<02:03,  1.20s/it]"
     ]
    },
    {
     "name": "stdout",
     "output_type": "stream",
     "text": [
      "epoch:  96 val_loss:  725.993896484375\n"
     ]
    },
    {
     "name": "stderr",
     "output_type": "stream",
     "text": [
      " 49%|████▉     | 98/200 [01:54<01:58,  1.17s/it]"
     ]
    },
    {
     "name": "stdout",
     "output_type": "stream",
     "text": [
      "epoch:  97 val_loss:  1296.6805419921875\n"
     ]
    },
    {
     "name": "stderr",
     "output_type": "stream",
     "text": [
      " 50%|████▉     | 99/200 [01:55<02:01,  1.20s/it]"
     ]
    },
    {
     "name": "stdout",
     "output_type": "stream",
     "text": [
      "epoch:  98 val_loss:  809.9688720703125\n"
     ]
    },
    {
     "name": "stderr",
     "output_type": "stream",
     "text": [
      " 50%|█████     | 100/200 [01:56<02:01,  1.21s/it]"
     ]
    },
    {
     "name": "stdout",
     "output_type": "stream",
     "text": [
      "epoch:  99 val_loss:  933.277099609375\n"
     ]
    },
    {
     "name": "stderr",
     "output_type": "stream",
     "text": [
      " 50%|█████     | 101/200 [01:57<02:00,  1.22s/it]"
     ]
    },
    {
     "name": "stdout",
     "output_type": "stream",
     "text": [
      "epoch:  100 val_loss:  1296.9097900390625\n",
      "epoch:  100 val_loss:  1296.9097900390625\n",
      "kl_div:  tensor(30.0050, device='cuda:0')\n",
      "loss:  tensor(1296.9098, device='cuda:0')\n"
     ]
    },
    {
     "name": "stderr",
     "output_type": "stream",
     "text": [
      " 51%|█████     | 102/200 [01:59<01:57,  1.20s/it]"
     ]
    },
    {
     "name": "stdout",
     "output_type": "stream",
     "text": [
      "epoch:  101 val_loss:  843.726318359375\n"
     ]
    },
    {
     "name": "stderr",
     "output_type": "stream",
     "text": [
      " 52%|█████▏    | 103/200 [02:00<01:54,  1.18s/it]"
     ]
    },
    {
     "name": "stdout",
     "output_type": "stream",
     "text": [
      "epoch:  102 val_loss:  967.5899047851562\n"
     ]
    },
    {
     "name": "stderr",
     "output_type": "stream",
     "text": [
      " 52%|█████▏    | 104/200 [02:01<01:54,  1.19s/it]"
     ]
    },
    {
     "name": "stdout",
     "output_type": "stream",
     "text": [
      "epoch:  103 val_loss:  1171.49365234375\n"
     ]
    },
    {
     "name": "stderr",
     "output_type": "stream",
     "text": [
      " 52%|█████▎    | 105/200 [02:02<01:54,  1.20s/it]"
     ]
    },
    {
     "name": "stdout",
     "output_type": "stream",
     "text": [
      "epoch:  104 val_loss:  917.5529174804688\n"
     ]
    },
    {
     "name": "stderr",
     "output_type": "stream",
     "text": [
      " 53%|█████▎    | 106/200 [02:03<01:53,  1.21s/it]"
     ]
    },
    {
     "name": "stdout",
     "output_type": "stream",
     "text": [
      "epoch:  105 val_loss:  1172.99560546875\n"
     ]
    },
    {
     "name": "stderr",
     "output_type": "stream",
     "text": [
      " 54%|█████▎    | 107/200 [02:05<01:52,  1.21s/it]"
     ]
    },
    {
     "name": "stdout",
     "output_type": "stream",
     "text": [
      "epoch:  106 val_loss:  699.5571899414062\n"
     ]
    },
    {
     "name": "stderr",
     "output_type": "stream",
     "text": [
      " 54%|█████▍    | 108/200 [02:06<01:47,  1.17s/it]"
     ]
    },
    {
     "name": "stdout",
     "output_type": "stream",
     "text": [
      "epoch:  107 val_loss:  645.6114501953125\n"
     ]
    },
    {
     "name": "stderr",
     "output_type": "stream",
     "text": [
      " 55%|█████▍    | 109/200 [02:07<01:46,  1.17s/it]"
     ]
    },
    {
     "name": "stdout",
     "output_type": "stream",
     "text": [
      "epoch:  108 val_loss:  1051.5035400390625\n"
     ]
    },
    {
     "name": "stderr",
     "output_type": "stream",
     "text": [
      " 55%|█████▌    | 110/200 [02:08<01:46,  1.18s/it]"
     ]
    },
    {
     "name": "stdout",
     "output_type": "stream",
     "text": [
      "epoch:  109 val_loss:  908.0676879882812\n"
     ]
    },
    {
     "name": "stderr",
     "output_type": "stream",
     "text": [
      " 56%|█████▌    | 111/200 [02:09<01:44,  1.17s/it]"
     ]
    },
    {
     "name": "stdout",
     "output_type": "stream",
     "text": [
      "epoch:  110 val_loss:  949.0488891601562\n",
      "epoch:  110 val_loss:  949.0488891601562\n",
      "kl_div:  tensor(17.0547, device='cuda:0')\n",
      "loss:  tensor(949.0489, device='cuda:0')\n"
     ]
    },
    {
     "name": "stderr",
     "output_type": "stream",
     "text": [
      " 56%|█████▌    | 112/200 [02:10<01:44,  1.19s/it]"
     ]
    },
    {
     "name": "stdout",
     "output_type": "stream",
     "text": [
      "epoch:  111 val_loss:  708.8870239257812\n"
     ]
    },
    {
     "name": "stderr",
     "output_type": "stream",
     "text": [
      " 56%|█████▋    | 113/200 [02:12<01:41,  1.16s/it]"
     ]
    },
    {
     "name": "stdout",
     "output_type": "stream",
     "text": [
      "epoch:  112 val_loss:  1060.8326416015625\n"
     ]
    },
    {
     "name": "stderr",
     "output_type": "stream",
     "text": [
      " 57%|█████▋    | 114/200 [02:13<01:41,  1.18s/it]"
     ]
    },
    {
     "name": "stdout",
     "output_type": "stream",
     "text": [
      "epoch:  113 val_loss:  776.3701171875\n"
     ]
    },
    {
     "name": "stderr",
     "output_type": "stream",
     "text": [
      " 57%|█████▊    | 115/200 [02:14<01:40,  1.18s/it]"
     ]
    },
    {
     "name": "stdout",
     "output_type": "stream",
     "text": [
      "epoch:  114 val_loss:  999.6707763671875\n"
     ]
    },
    {
     "name": "stderr",
     "output_type": "stream",
     "text": [
      " 58%|█████▊    | 116/200 [02:15<01:40,  1.20s/it]"
     ]
    },
    {
     "name": "stdout",
     "output_type": "stream",
     "text": [
      "epoch:  115 val_loss:  1223.5816650390625\n"
     ]
    },
    {
     "name": "stderr",
     "output_type": "stream",
     "text": [
      " 58%|█████▊    | 117/200 [02:16<01:37,  1.17s/it]"
     ]
    },
    {
     "name": "stdout",
     "output_type": "stream",
     "text": [
      "epoch:  116 val_loss:  777.7781372070312\n"
     ]
    },
    {
     "name": "stderr",
     "output_type": "stream",
     "text": [
      " 59%|█████▉    | 118/200 [02:18<01:36,  1.17s/it]"
     ]
    },
    {
     "name": "stdout",
     "output_type": "stream",
     "text": [
      "epoch:  117 val_loss:  1093.250244140625\n"
     ]
    },
    {
     "name": "stderr",
     "output_type": "stream",
     "text": [
      " 60%|█████▉    | 119/200 [02:19<01:35,  1.18s/it]"
     ]
    },
    {
     "name": "stdout",
     "output_type": "stream",
     "text": [
      "epoch:  118 val_loss:  1114.7181396484375\n"
     ]
    },
    {
     "name": "stderr",
     "output_type": "stream",
     "text": [
      " 60%|██████    | 120/200 [02:20<01:34,  1.19s/it]"
     ]
    },
    {
     "name": "stdout",
     "output_type": "stream",
     "text": [
      "epoch:  119 val_loss:  822.362548828125\n"
     ]
    },
    {
     "name": "stderr",
     "output_type": "stream",
     "text": [
      " 60%|██████    | 121/200 [02:21<01:32,  1.17s/it]"
     ]
    },
    {
     "name": "stdout",
     "output_type": "stream",
     "text": [
      "epoch:  120 val_loss:  813.3746337890625\n",
      "epoch:  120 val_loss:  813.3746337890625\n",
      "kl_div:  tensor(12.5405, device='cuda:0')\n",
      "loss:  tensor(813.3746, device='cuda:0')\n"
     ]
    },
    {
     "name": "stderr",
     "output_type": "stream",
     "text": [
      " 61%|██████    | 122/200 [02:22<01:32,  1.18s/it]"
     ]
    },
    {
     "name": "stdout",
     "output_type": "stream",
     "text": [
      "epoch:  121 val_loss:  695.5515747070312\n"
     ]
    },
    {
     "name": "stderr",
     "output_type": "stream",
     "text": [
      " 62%|██████▏   | 123/200 [02:23<01:29,  1.16s/it]"
     ]
    },
    {
     "name": "stdout",
     "output_type": "stream",
     "text": [
      "epoch:  122 val_loss:  756.3416137695312\n"
     ]
    },
    {
     "name": "stderr",
     "output_type": "stream",
     "text": [
      " 62%|██████▏   | 124/200 [02:25<01:30,  1.19s/it]"
     ]
    },
    {
     "name": "stdout",
     "output_type": "stream",
     "text": [
      "epoch:  123 val_loss:  875.5211181640625\n"
     ]
    },
    {
     "name": "stderr",
     "output_type": "stream",
     "text": [
      " 62%|██████▎   | 125/200 [02:26<01:29,  1.20s/it]"
     ]
    },
    {
     "name": "stdout",
     "output_type": "stream",
     "text": [
      "epoch:  124 val_loss:  804.8463745117188\n"
     ]
    },
    {
     "name": "stderr",
     "output_type": "stream",
     "text": [
      " 63%|██████▎   | 126/200 [02:27<01:28,  1.19s/it]"
     ]
    },
    {
     "name": "stdout",
     "output_type": "stream",
     "text": [
      "epoch:  125 val_loss:  1071.2896728515625\n"
     ]
    },
    {
     "name": "stderr",
     "output_type": "stream",
     "text": [
      " 64%|██████▎   | 127/200 [02:28<01:26,  1.18s/it]"
     ]
    },
    {
     "name": "stdout",
     "output_type": "stream",
     "text": [
      "epoch:  126 val_loss:  565.2874755859375\n"
     ]
    },
    {
     "name": "stderr",
     "output_type": "stream",
     "text": [
      " 64%|██████▍   | 128/200 [02:29<01:26,  1.20s/it]"
     ]
    },
    {
     "name": "stdout",
     "output_type": "stream",
     "text": [
      "epoch:  127 val_loss:  1234.0809326171875\n"
     ]
    },
    {
     "name": "stderr",
     "output_type": "stream",
     "text": [
      " 64%|██████▍   | 129/200 [02:31<01:23,  1.17s/it]"
     ]
    },
    {
     "name": "stdout",
     "output_type": "stream",
     "text": [
      "epoch:  128 val_loss:  885.435546875\n"
     ]
    },
    {
     "name": "stderr",
     "output_type": "stream",
     "text": [
      " 65%|██████▌   | 130/200 [02:32<01:22,  1.18s/it]"
     ]
    },
    {
     "name": "stdout",
     "output_type": "stream",
     "text": [
      "epoch:  129 val_loss:  1179.237548828125\n"
     ]
    },
    {
     "name": "stderr",
     "output_type": "stream",
     "text": [
      " 66%|██████▌   | 131/200 [02:33<01:19,  1.16s/it]"
     ]
    },
    {
     "name": "stdout",
     "output_type": "stream",
     "text": [
      "epoch:  130 val_loss:  812.8904418945312\n",
      "epoch:  130 val_loss:  812.8904418945312\n",
      "kl_div:  tensor(23.9880, device='cuda:0')\n",
      "loss:  tensor(812.8904, device='cuda:0')\n"
     ]
    },
    {
     "name": "stderr",
     "output_type": "stream",
     "text": [
      " 66%|██████▌   | 132/200 [02:34<01:19,  1.17s/it]"
     ]
    },
    {
     "name": "stdout",
     "output_type": "stream",
     "text": [
      "epoch:  131 val_loss:  1221.700927734375\n"
     ]
    },
    {
     "name": "stderr",
     "output_type": "stream",
     "text": [
      " 66%|██████▋   | 133/200 [02:35<01:17,  1.16s/it]"
     ]
    },
    {
     "name": "stdout",
     "output_type": "stream",
     "text": [
      "epoch:  132 val_loss:  898.6298217773438\n"
     ]
    },
    {
     "name": "stderr",
     "output_type": "stream",
     "text": [
      " 67%|██████▋   | 134/200 [02:36<01:17,  1.17s/it]"
     ]
    },
    {
     "name": "stdout",
     "output_type": "stream",
     "text": [
      "epoch:  133 val_loss:  922.86279296875\n"
     ]
    },
    {
     "name": "stderr",
     "output_type": "stream",
     "text": [
      " 68%|██████▊   | 135/200 [02:37<01:15,  1.16s/it]"
     ]
    },
    {
     "name": "stdout",
     "output_type": "stream",
     "text": [
      "epoch:  134 val_loss:  700.1824951171875\n"
     ]
    },
    {
     "name": "stderr",
     "output_type": "stream",
     "text": [
      " 68%|██████▊   | 136/200 [02:39<01:14,  1.16s/it]"
     ]
    },
    {
     "name": "stdout",
     "output_type": "stream",
     "text": [
      "epoch:  135 val_loss:  1119.2093505859375\n"
     ]
    },
    {
     "name": "stderr",
     "output_type": "stream",
     "text": [
      " 68%|██████▊   | 137/200 [02:40<01:12,  1.16s/it]"
     ]
    },
    {
     "name": "stdout",
     "output_type": "stream",
     "text": [
      "epoch:  136 val_loss:  1255.5123291015625\n"
     ]
    },
    {
     "name": "stderr",
     "output_type": "stream",
     "text": [
      " 69%|██████▉   | 138/200 [02:41<01:12,  1.17s/it]"
     ]
    },
    {
     "name": "stdout",
     "output_type": "stream",
     "text": [
      "epoch:  137 val_loss:  957.0042724609375\n"
     ]
    },
    {
     "name": "stderr",
     "output_type": "stream",
     "text": [
      " 70%|██████▉   | 139/200 [02:42<01:11,  1.18s/it]"
     ]
    },
    {
     "name": "stdout",
     "output_type": "stream",
     "text": [
      "epoch:  138 val_loss:  1009.4837646484375\n"
     ]
    },
    {
     "name": "stderr",
     "output_type": "stream",
     "text": [
      " 70%|███████   | 140/200 [02:43<01:09,  1.16s/it]"
     ]
    },
    {
     "name": "stdout",
     "output_type": "stream",
     "text": [
      "epoch:  139 val_loss:  947.00390625\n"
     ]
    },
    {
     "name": "stderr",
     "output_type": "stream",
     "text": [
      " 70%|███████   | 141/200 [02:45<01:08,  1.17s/it]"
     ]
    },
    {
     "name": "stdout",
     "output_type": "stream",
     "text": [
      "epoch:  140 val_loss:  1106.2266845703125\n",
      "epoch:  140 val_loss:  1106.2266845703125\n",
      "kl_div:  tensor(25.5525, device='cuda:0')\n",
      "loss:  tensor(1106.2267, device='cuda:0')\n"
     ]
    },
    {
     "name": "stderr",
     "output_type": "stream",
     "text": [
      " 71%|███████   | 142/200 [02:46<01:07,  1.16s/it]"
     ]
    },
    {
     "name": "stdout",
     "output_type": "stream",
     "text": [
      "epoch:  141 val_loss:  606.1671752929688\n"
     ]
    },
    {
     "name": "stderr",
     "output_type": "stream",
     "text": [
      " 72%|███████▏  | 143/200 [02:47<01:06,  1.16s/it]"
     ]
    },
    {
     "name": "stdout",
     "output_type": "stream",
     "text": [
      "epoch:  142 val_loss:  1179.645751953125\n"
     ]
    },
    {
     "name": "stderr",
     "output_type": "stream",
     "text": [
      " 72%|███████▏  | 144/200 [02:48<01:04,  1.15s/it]"
     ]
    },
    {
     "name": "stdout",
     "output_type": "stream",
     "text": [
      "epoch:  143 val_loss:  1147.5390625\n"
     ]
    },
    {
     "name": "stderr",
     "output_type": "stream",
     "text": [
      " 72%|███████▎  | 145/200 [02:49<01:03,  1.16s/it]"
     ]
    },
    {
     "name": "stdout",
     "output_type": "stream",
     "text": [
      "epoch:  144 val_loss:  1047.4049072265625\n"
     ]
    },
    {
     "name": "stderr",
     "output_type": "stream",
     "text": [
      " 73%|███████▎  | 146/200 [02:50<01:02,  1.16s/it]"
     ]
    },
    {
     "name": "stdout",
     "output_type": "stream",
     "text": [
      "epoch:  145 val_loss:  986.1212768554688\n"
     ]
    },
    {
     "name": "stderr",
     "output_type": "stream",
     "text": [
      " 74%|███████▎  | 147/200 [02:51<01:00,  1.15s/it]"
     ]
    },
    {
     "name": "stdout",
     "output_type": "stream",
     "text": [
      "epoch:  146 val_loss:  1048.418701171875\n"
     ]
    },
    {
     "name": "stderr",
     "output_type": "stream",
     "text": [
      " 74%|███████▍  | 148/200 [02:53<00:59,  1.14s/it]"
     ]
    },
    {
     "name": "stdout",
     "output_type": "stream",
     "text": [
      "epoch:  147 val_loss:  1077.576416015625\n"
     ]
    },
    {
     "name": "stderr",
     "output_type": "stream",
     "text": [
      " 74%|███████▍  | 149/200 [02:54<00:57,  1.13s/it]"
     ]
    },
    {
     "name": "stdout",
     "output_type": "stream",
     "text": [
      "epoch:  148 val_loss:  901.3060913085938\n"
     ]
    },
    {
     "name": "stderr",
     "output_type": "stream",
     "text": [
      " 75%|███████▌  | 150/200 [02:55<00:56,  1.13s/it]"
     ]
    },
    {
     "name": "stdout",
     "output_type": "stream",
     "text": [
      "epoch:  149 val_loss:  775.7951049804688\n"
     ]
    },
    {
     "name": "stderr",
     "output_type": "stream",
     "text": [
      " 76%|███████▌  | 151/200 [02:56<00:56,  1.16s/it]"
     ]
    },
    {
     "name": "stdout",
     "output_type": "stream",
     "text": [
      "epoch:  150 val_loss:  863.1600341796875\n",
      "epoch:  150 val_loss:  863.1600341796875\n",
      "kl_div:  tensor(12.7488, device='cuda:0')\n",
      "loss:  tensor(863.1600, device='cuda:0')\n"
     ]
    },
    {
     "name": "stderr",
     "output_type": "stream",
     "text": [
      " 76%|███████▌  | 152/200 [02:57<00:56,  1.18s/it]"
     ]
    },
    {
     "name": "stdout",
     "output_type": "stream",
     "text": [
      "epoch:  151 val_loss:  974.3778076171875\n"
     ]
    },
    {
     "name": "stderr",
     "output_type": "stream",
     "text": [
      " 76%|███████▋  | 153/200 [02:58<00:54,  1.17s/it]"
     ]
    },
    {
     "name": "stdout",
     "output_type": "stream",
     "text": [
      "epoch:  152 val_loss:  920.9918823242188\n"
     ]
    },
    {
     "name": "stderr",
     "output_type": "stream",
     "text": [
      " 77%|███████▋  | 154/200 [03:00<00:54,  1.18s/it]"
     ]
    },
    {
     "name": "stdout",
     "output_type": "stream",
     "text": [
      "epoch:  153 val_loss:  1053.29833984375\n"
     ]
    },
    {
     "name": "stderr",
     "output_type": "stream",
     "text": [
      " 78%|███████▊  | 155/200 [03:01<00:54,  1.20s/it]"
     ]
    },
    {
     "name": "stdout",
     "output_type": "stream",
     "text": [
      "epoch:  154 val_loss:  923.8029174804688\n"
     ]
    },
    {
     "name": "stderr",
     "output_type": "stream",
     "text": [
      " 78%|███████▊  | 156/200 [03:02<00:53,  1.21s/it]"
     ]
    },
    {
     "name": "stdout",
     "output_type": "stream",
     "text": [
      "epoch:  155 val_loss:  959.725830078125\n"
     ]
    },
    {
     "name": "stderr",
     "output_type": "stream",
     "text": [
      " 78%|███████▊  | 157/200 [03:03<00:51,  1.19s/it]"
     ]
    },
    {
     "name": "stdout",
     "output_type": "stream",
     "text": [
      "epoch:  156 val_loss:  532.0728149414062\n"
     ]
    },
    {
     "name": "stderr",
     "output_type": "stream",
     "text": [
      " 79%|███████▉  | 158/200 [03:04<00:49,  1.19s/it]"
     ]
    },
    {
     "name": "stdout",
     "output_type": "stream",
     "text": [
      "epoch:  157 val_loss:  1004.720703125\n"
     ]
    },
    {
     "name": "stderr",
     "output_type": "stream",
     "text": [
      " 80%|███████▉  | 159/200 [03:06<00:48,  1.19s/it]"
     ]
    },
    {
     "name": "stdout",
     "output_type": "stream",
     "text": [
      "epoch:  158 val_loss:  721.5581665039062\n"
     ]
    },
    {
     "name": "stderr",
     "output_type": "stream",
     "text": [
      " 80%|████████  | 160/200 [03:07<00:47,  1.18s/it]"
     ]
    },
    {
     "name": "stdout",
     "output_type": "stream",
     "text": [
      "epoch:  159 val_loss:  1122.513671875\n"
     ]
    },
    {
     "name": "stderr",
     "output_type": "stream",
     "text": [
      " 80%|████████  | 161/200 [03:08<00:44,  1.15s/it]"
     ]
    },
    {
     "name": "stdout",
     "output_type": "stream",
     "text": [
      "epoch:  160 val_loss:  867.0388793945312\n",
      "epoch:  160 val_loss:  867.0388793945312\n",
      "kl_div:  tensor(24.8967, device='cuda:0')\n",
      "loss:  tensor(867.0389, device='cuda:0')\n"
     ]
    },
    {
     "name": "stderr",
     "output_type": "stream",
     "text": [
      " 81%|████████  | 162/200 [03:09<00:44,  1.16s/it]"
     ]
    },
    {
     "name": "stdout",
     "output_type": "stream",
     "text": [
      "epoch:  161 val_loss:  1028.75\n"
     ]
    },
    {
     "name": "stderr",
     "output_type": "stream",
     "text": [
      " 82%|████████▏ | 163/200 [03:10<00:42,  1.15s/it]"
     ]
    },
    {
     "name": "stdout",
     "output_type": "stream",
     "text": [
      "epoch:  162 val_loss:  1030.66259765625\n"
     ]
    },
    {
     "name": "stderr",
     "output_type": "stream",
     "text": [
      " 82%|████████▏ | 164/200 [03:11<00:41,  1.17s/it]"
     ]
    },
    {
     "name": "stdout",
     "output_type": "stream",
     "text": [
      "epoch:  163 val_loss:  804.898681640625\n"
     ]
    },
    {
     "name": "stderr",
     "output_type": "stream",
     "text": [
      " 82%|████████▎ | 165/200 [03:12<00:39,  1.12s/it]"
     ]
    },
    {
     "name": "stdout",
     "output_type": "stream",
     "text": [
      "epoch:  164 val_loss:  783.643310546875\n"
     ]
    },
    {
     "name": "stderr",
     "output_type": "stream",
     "text": [
      " 83%|████████▎ | 166/200 [03:13<00:37,  1.09s/it]"
     ]
    },
    {
     "name": "stdout",
     "output_type": "stream",
     "text": [
      "epoch:  165 val_loss:  986.7617797851562\n"
     ]
    },
    {
     "name": "stderr",
     "output_type": "stream",
     "text": [
      " 84%|████████▎ | 167/200 [03:14<00:36,  1.10s/it]"
     ]
    },
    {
     "name": "stdout",
     "output_type": "stream",
     "text": [
      "epoch:  166 val_loss:  962.5379028320312\n"
     ]
    },
    {
     "name": "stderr",
     "output_type": "stream",
     "text": [
      " 84%|████████▍ | 168/200 [03:16<00:35,  1.11s/it]"
     ]
    },
    {
     "name": "stdout",
     "output_type": "stream",
     "text": [
      "epoch:  167 val_loss:  1203.8037109375\n"
     ]
    },
    {
     "name": "stderr",
     "output_type": "stream",
     "text": [
      " 84%|████████▍ | 169/200 [03:17<00:34,  1.12s/it]"
     ]
    },
    {
     "name": "stdout",
     "output_type": "stream",
     "text": [
      "epoch:  168 val_loss:  733.0863647460938\n"
     ]
    },
    {
     "name": "stderr",
     "output_type": "stream",
     "text": [
      " 85%|████████▌ | 170/200 [03:18<00:35,  1.18s/it]"
     ]
    },
    {
     "name": "stdout",
     "output_type": "stream",
     "text": [
      "epoch:  169 val_loss:  1096.999755859375\n"
     ]
    },
    {
     "name": "stderr",
     "output_type": "stream",
     "text": [
      " 86%|████████▌ | 171/200 [03:19<00:34,  1.18s/it]"
     ]
    },
    {
     "name": "stdout",
     "output_type": "stream",
     "text": [
      "epoch:  170 val_loss:  824.1966552734375\n",
      "epoch:  170 val_loss:  824.1966552734375\n",
      "kl_div:  tensor(15.5201, device='cuda:0')\n",
      "loss:  tensor(824.1967, device='cuda:0')\n"
     ]
    },
    {
     "name": "stderr",
     "output_type": "stream",
     "text": [
      " 86%|████████▌ | 172/200 [03:20<00:32,  1.16s/it]"
     ]
    },
    {
     "name": "stdout",
     "output_type": "stream",
     "text": [
      "epoch:  171 val_loss:  940.2754516601562\n"
     ]
    },
    {
     "name": "stderr",
     "output_type": "stream",
     "text": [
      " 86%|████████▋ | 173/200 [03:21<00:30,  1.13s/it]"
     ]
    },
    {
     "name": "stdout",
     "output_type": "stream",
     "text": [
      "epoch:  172 val_loss:  872.3837280273438\n"
     ]
    },
    {
     "name": "stderr",
     "output_type": "stream",
     "text": [
      " 87%|████████▋ | 174/200 [03:22<00:28,  1.08s/it]"
     ]
    },
    {
     "name": "stdout",
     "output_type": "stream",
     "text": [
      "epoch:  173 val_loss:  899.6874389648438\n"
     ]
    },
    {
     "name": "stderr",
     "output_type": "stream",
     "text": [
      " 88%|████████▊ | 175/200 [03:23<00:26,  1.06s/it]"
     ]
    },
    {
     "name": "stdout",
     "output_type": "stream",
     "text": [
      "epoch:  174 val_loss:  971.59814453125\n"
     ]
    },
    {
     "name": "stderr",
     "output_type": "stream",
     "text": [
      " 88%|████████▊ | 176/200 [03:24<00:25,  1.06s/it]"
     ]
    },
    {
     "name": "stdout",
     "output_type": "stream",
     "text": [
      "epoch:  175 val_loss:  786.8680419921875\n"
     ]
    },
    {
     "name": "stderr",
     "output_type": "stream",
     "text": [
      " 88%|████████▊ | 177/200 [03:26<00:24,  1.09s/it]"
     ]
    },
    {
     "name": "stdout",
     "output_type": "stream",
     "text": [
      "epoch:  176 val_loss:  1431.7789306640625\n"
     ]
    },
    {
     "name": "stderr",
     "output_type": "stream",
     "text": [
      " 89%|████████▉ | 178/200 [03:27<00:24,  1.10s/it]"
     ]
    },
    {
     "name": "stdout",
     "output_type": "stream",
     "text": [
      "epoch:  177 val_loss:  677.9308471679688\n"
     ]
    },
    {
     "name": "stderr",
     "output_type": "stream",
     "text": [
      " 90%|████████▉ | 179/200 [03:28<00:24,  1.15s/it]"
     ]
    },
    {
     "name": "stdout",
     "output_type": "stream",
     "text": [
      "epoch:  178 val_loss:  1013.442626953125\n"
     ]
    },
    {
     "name": "stderr",
     "output_type": "stream",
     "text": [
      " 90%|█████████ | 180/200 [03:29<00:23,  1.19s/it]"
     ]
    },
    {
     "name": "stdout",
     "output_type": "stream",
     "text": [
      "epoch:  179 val_loss:  838.1731567382812\n"
     ]
    },
    {
     "name": "stderr",
     "output_type": "stream",
     "text": [
      " 90%|█████████ | 181/200 [03:30<00:22,  1.18s/it]"
     ]
    },
    {
     "name": "stdout",
     "output_type": "stream",
     "text": [
      "epoch:  180 val_loss:  816.443115234375\n",
      "epoch:  180 val_loss:  816.443115234375\n",
      "kl_div:  tensor(20.3218, device='cuda:0')\n",
      "loss:  tensor(816.4431, device='cuda:0')\n"
     ]
    },
    {
     "name": "stderr",
     "output_type": "stream",
     "text": [
      " 91%|█████████ | 182/200 [03:32<00:20,  1.17s/it]"
     ]
    },
    {
     "name": "stdout",
     "output_type": "stream",
     "text": [
      "epoch:  181 val_loss:  862.7760620117188\n"
     ]
    },
    {
     "name": "stderr",
     "output_type": "stream",
     "text": [
      " 92%|█████████▏| 183/200 [03:33<00:19,  1.16s/it]"
     ]
    },
    {
     "name": "stdout",
     "output_type": "stream",
     "text": [
      "epoch:  182 val_loss:  939.56787109375\n"
     ]
    },
    {
     "name": "stderr",
     "output_type": "stream",
     "text": [
      " 92%|█████████▏| 184/200 [03:34<00:18,  1.15s/it]"
     ]
    },
    {
     "name": "stdout",
     "output_type": "stream",
     "text": [
      "epoch:  183 val_loss:  884.5028076171875\n"
     ]
    },
    {
     "name": "stderr",
     "output_type": "stream",
     "text": [
      " 92%|█████████▎| 185/200 [03:35<00:17,  1.16s/it]"
     ]
    },
    {
     "name": "stdout",
     "output_type": "stream",
     "text": [
      "epoch:  184 val_loss:  967.1915283203125\n"
     ]
    },
    {
     "name": "stderr",
     "output_type": "stream",
     "text": [
      " 93%|█████████▎| 186/200 [03:36<00:16,  1.15s/it]"
     ]
    },
    {
     "name": "stdout",
     "output_type": "stream",
     "text": [
      "epoch:  185 val_loss:  457.12353515625\n"
     ]
    },
    {
     "name": "stderr",
     "output_type": "stream",
     "text": [
      " 94%|█████████▎| 187/200 [03:37<00:15,  1.16s/it]"
     ]
    },
    {
     "name": "stdout",
     "output_type": "stream",
     "text": [
      "epoch:  186 val_loss:  757.1055908203125\n"
     ]
    },
    {
     "name": "stderr",
     "output_type": "stream",
     "text": [
      " 94%|█████████▍| 188/200 [03:39<00:14,  1.17s/it]"
     ]
    },
    {
     "name": "stdout",
     "output_type": "stream",
     "text": [
      "epoch:  187 val_loss:  830.3235473632812\n"
     ]
    },
    {
     "name": "stderr",
     "output_type": "stream",
     "text": [
      " 94%|█████████▍| 189/200 [03:40<00:12,  1.14s/it]"
     ]
    },
    {
     "name": "stdout",
     "output_type": "stream",
     "text": [
      "epoch:  188 val_loss:  813.5936279296875\n"
     ]
    },
    {
     "name": "stderr",
     "output_type": "stream",
     "text": [
      " 95%|█████████▌| 190/200 [03:41<00:11,  1.14s/it]"
     ]
    },
    {
     "name": "stdout",
     "output_type": "stream",
     "text": [
      "epoch:  189 val_loss:  1059.72314453125\n"
     ]
    },
    {
     "name": "stderr",
     "output_type": "stream",
     "text": [
      " 96%|█████████▌| 191/200 [03:42<00:10,  1.15s/it]"
     ]
    },
    {
     "name": "stdout",
     "output_type": "stream",
     "text": [
      "epoch:  190 val_loss:  886.023681640625\n",
      "epoch:  190 val_loss:  886.023681640625\n",
      "kl_div:  tensor(28.1216, device='cuda:0')\n",
      "loss:  tensor(886.0237, device='cuda:0')\n"
     ]
    },
    {
     "name": "stderr",
     "output_type": "stream",
     "text": [
      " 96%|█████████▌| 192/200 [03:43<00:09,  1.14s/it]"
     ]
    },
    {
     "name": "stdout",
     "output_type": "stream",
     "text": [
      "epoch:  191 val_loss:  1029.0128173828125\n"
     ]
    },
    {
     "name": "stderr",
     "output_type": "stream",
     "text": [
      " 96%|█████████▋| 193/200 [03:44<00:08,  1.14s/it]"
     ]
    },
    {
     "name": "stdout",
     "output_type": "stream",
     "text": [
      "epoch:  192 val_loss:  917.0377197265625\n"
     ]
    },
    {
     "name": "stderr",
     "output_type": "stream",
     "text": [
      " 97%|█████████▋| 194/200 [03:45<00:06,  1.14s/it]"
     ]
    },
    {
     "name": "stdout",
     "output_type": "stream",
     "text": [
      "epoch:  193 val_loss:  671.4392700195312\n"
     ]
    },
    {
     "name": "stderr",
     "output_type": "stream",
     "text": [
      " 98%|█████████▊| 195/200 [03:47<00:05,  1.14s/it]"
     ]
    },
    {
     "name": "stdout",
     "output_type": "stream",
     "text": [
      "epoch:  194 val_loss:  774.4906616210938\n"
     ]
    },
    {
     "name": "stderr",
     "output_type": "stream",
     "text": [
      " 98%|█████████▊| 196/200 [03:48<00:04,  1.13s/it]"
     ]
    },
    {
     "name": "stdout",
     "output_type": "stream",
     "text": [
      "epoch:  195 val_loss:  1003.8111572265625\n"
     ]
    },
    {
     "name": "stderr",
     "output_type": "stream",
     "text": [
      " 98%|█████████▊| 197/200 [03:49<00:03,  1.15s/it]"
     ]
    },
    {
     "name": "stdout",
     "output_type": "stream",
     "text": [
      "epoch:  196 val_loss:  676.6290283203125\n"
     ]
    },
    {
     "name": "stderr",
     "output_type": "stream",
     "text": [
      " 99%|█████████▉| 198/200 [03:50<00:02,  1.14s/it]"
     ]
    },
    {
     "name": "stdout",
     "output_type": "stream",
     "text": [
      "epoch:  197 val_loss:  797.4454345703125\n"
     ]
    },
    {
     "name": "stderr",
     "output_type": "stream",
     "text": [
      "100%|█████████▉| 199/200 [03:51<00:01,  1.17s/it]"
     ]
    },
    {
     "name": "stdout",
     "output_type": "stream",
     "text": [
      "epoch:  198 val_loss:  1204.032958984375\n"
     ]
    },
    {
     "name": "stderr",
     "output_type": "stream",
     "text": [
      "100%|██████████| 200/200 [03:52<00:00,  1.16s/it]"
     ]
    },
    {
     "name": "stdout",
     "output_type": "stream",
     "text": [
      "epoch:  199 val_loss:  1004.840576171875\n"
     ]
    },
    {
     "name": "stderr",
     "output_type": "stream",
     "text": [
      "\n"
     ]
    }
   ],
   "execution_count": 82
  },
  {
   "metadata": {
    "ExecuteTime": {
     "end_time": "2024-04-17T09:11:18.391259Z",
     "start_time": "2024-04-17T09:11:18.391259Z"
    }
   },
   "cell_type": "code",
   "source": "",
   "id": "e026e731c8c9c4df",
   "outputs": [],
   "execution_count": null
  },
  {
   "metadata": {
    "ExecuteTime": {
     "end_time": "2024-04-17T09:20:21.532010Z",
     "start_time": "2024-04-17T09:20:21.304184Z"
    }
   },
   "cell_type": "code",
   "source": [
    "\n",
    "n = torch.randint(low = 0,high=10,size=(len(batch),), device=batch.time.device)\n",
    "#n[:l//3] = n[:l//3] * 3\n",
    "#n[l//3:2*l//3] =  n[l//3:2*l//3] * 2\n",
    "#n[2*l//3:] = n[2*l//3:] * 1\n",
    "n = n/10\n",
    "x_n, x_0_thin, x_0_kept, hpp_thinned, hpp_kept = add_thin_model.noise(x_0=batch, n=n)\n",
    "x_n.to(device)\n",
    "x_0_thin.to(device)\n",
    "context_embs = model(x_n,n)\n",
    "main_embs = x_0_thin_embeds(x_0_thin, n)\n",
    "preds, z_mean, z_logvar = variational_auto_encoder(main_embs, context_embs)\n",
    "lens = 140 * preds\n",
    "loss = F.mse_loss(lens.float().squeeze(), x_0_thin.mask.sum(-1).float())\n",
    "kl_div = kl_divergence_loss(z_mean, z_logvar)\n",
    "loss = loss + kl_div\n",
    "actual_lens = x_0_thin.mask.sum(-1).float()"
   ],
   "id": "fb7ce6e662b9112a",
   "outputs": [],
   "execution_count": 83
  },
  {
   "metadata": {
    "ExecuteTime": {
     "end_time": "2024-04-17T09:20:21.665699Z",
     "start_time": "2024-04-17T09:20:21.544978Z"
    }
   },
   "cell_type": "code",
   "source": "abs(lens - actual_lens)",
   "id": "724e3f117d614f27",
   "outputs": [
    {
     "data": {
      "text/plain": [
       "tensor([[52.1557, 23.1557, 47.1557,  ..., 63.1557, 37.1557, 20.8443],\n",
       "        [41.3057, 12.3057, 36.3057,  ..., 52.3057, 26.3057, 31.6943],\n",
       "        [53.6520, 24.6520, 48.6520,  ..., 64.6520, 38.6520, 19.3480],\n",
       "        ...,\n",
       "        [49.5809, 20.5809, 44.5809,  ..., 60.5809, 34.5809, 23.4191],\n",
       "        [46.6626, 17.6626, 41.6626,  ..., 57.6626, 31.6626, 26.3374],\n",
       "        [59.6511, 30.6511, 54.6511,  ..., 70.6511, 44.6511, 13.3489]],\n",
       "       device='cuda:0', grad_fn=<AbsBackward0>)"
      ]
     },
     "execution_count": 84,
     "metadata": {},
     "output_type": "execute_result"
    }
   ],
   "execution_count": 84
  },
  {
   "metadata": {
    "ExecuteTime": {
     "end_time": "2024-04-17T09:20:23.729161Z",
     "start_time": "2024-04-17T09:20:23.613475Z"
    }
   },
   "cell_type": "code",
   "source": "n",
   "id": "c5fb020f8ce8b101",
   "outputs": [
    {
     "data": {
      "text/plain": [
       "tensor([0.8000, 0.6000, 0.8000, 0.0000, 0.1000, 0.0000, 0.4000, 0.7000, 0.8000,\n",
       "        0.7000, 0.4000, 0.5000, 0.6000, 0.7000, 0.9000, 0.4000, 0.9000, 0.6000,\n",
       "        0.9000, 0.5000, 0.3000, 0.1000, 0.7000, 0.4000, 0.0000, 0.0000, 0.7000,\n",
       "        0.6000, 0.1000, 0.2000, 0.2000, 0.2000, 0.8000, 0.9000, 0.6000, 0.2000])"
      ]
     },
     "execution_count": 85,
     "metadata": {},
     "output_type": "execute_result"
    }
   ],
   "execution_count": 85
  },
  {
   "metadata": {
    "ExecuteTime": {
     "end_time": "2024-04-17T09:20:25.260872Z",
     "start_time": "2024-04-17T09:20:25.135405Z"
    }
   },
   "cell_type": "code",
   "source": "lens",
   "id": "a4c0d1cf153f2159",
   "outputs": [
    {
     "data": {
      "text/plain": [
       "tensor([[ 69.1557],\n",
       "        [ 58.3057],\n",
       "        [ 70.6520],\n",
       "        [ 99.6127],\n",
       "        [ 91.3124],\n",
       "        [ 95.1385],\n",
       "        [ 67.4314],\n",
       "        [ 62.1922],\n",
       "        [ 71.6097],\n",
       "        [ 67.3508],\n",
       "        [ 56.0753],\n",
       "        [ 60.4063],\n",
       "        [ 51.5096],\n",
       "        [ 65.1377],\n",
       "        [ 65.0547],\n",
       "        [ 70.1117],\n",
       "        [ 45.9817],\n",
       "        [ 56.7157],\n",
       "        [ 60.5256],\n",
       "        [ 59.7313],\n",
       "        [ 72.7791],\n",
       "        [ 78.5502],\n",
       "        [ 63.5878],\n",
       "        [ 64.5640],\n",
       "        [103.2820],\n",
       "        [ 86.1227],\n",
       "        [ 63.5985],\n",
       "        [ 68.0298],\n",
       "        [ 96.8735],\n",
       "        [ 73.3305],\n",
       "        [ 57.6968],\n",
       "        [ 71.4005],\n",
       "        [ 64.0458],\n",
       "        [ 66.5809],\n",
       "        [ 63.6626],\n",
       "        [ 76.6511]], device='cuda:0', grad_fn=<MulBackward0>)"
      ]
     },
     "execution_count": 86,
     "metadata": {},
     "output_type": "execute_result"
    }
   ],
   "execution_count": 86
  },
  {
   "metadata": {
    "ExecuteTime": {
     "end_time": "2024-04-17T09:20:26.306168Z",
     "start_time": "2024-04-17T09:20:26.185703Z"
    }
   },
   "cell_type": "code",
   "source": "actual_lens",
   "id": "30affb750c28efaa",
   "outputs": [
    {
     "data": {
      "text/plain": [
       "tensor([ 17.,  46.,  22., 114., 107., 110.,  46.,  31.,  23.,  20.,  62.,  31.,\n",
       "         38.,  26.,  11.,  68.,   7.,  48.,   7.,  51.,  77.,  86.,  31.,  40.,\n",
       "        116., 109.,  37.,  47.,  58.,  75.,  85.,  90.,  18.,   6.,  32.,  90.],\n",
       "       device='cuda:0')"
      ]
     },
     "execution_count": 87,
     "metadata": {},
     "output_type": "execute_result"
    }
   ],
   "execution_count": 87
  },
  {
   "metadata": {
    "ExecuteTime": {
     "end_time": "2024-04-15T17:19:26.042670Z",
     "start_time": "2024-04-15T17:19:25.917752Z"
    }
   },
   "cell_type": "code",
   "source": "x_0_thin.unpadded_length",
   "id": "84d2b352ffbb47ec",
   "outputs": [
    {
     "data": {
      "text/plain": [
       "tensor([61, 12, 37, 38, 10,  4, 27, 48,  9, 11, 57, 20, 53], device='cuda:0')"
      ]
     },
     "execution_count": 67,
     "metadata": {},
     "output_type": "execute_result"
    }
   ],
   "execution_count": 67
  },
  {
   "metadata": {
    "ExecuteTime": {
     "end_time": "2024-04-15T22:26:35.171681Z",
     "start_time": "2024-04-15T22:26:34.975306Z"
    }
   },
   "cell_type": "code",
   "source": [
    "#visualise loss_list\n",
    "import matplotlib.pyplot as plt\n",
    "plt.plot(val_loss_list)\n",
    "plt.show()"
   ],
   "id": "7c90a515014f5d24",
   "outputs": [
    {
     "data": {
      "text/plain": [
       "<Figure size 640x480 with 1 Axes>"
      ],
      "image/png": "[encoded data removed]"
     },
     "metadata": {},
     "output_type": "display_data"
    }
   ],
   "execution_count": 54
  },
  {
   "metadata": {
    "ExecuteTime": {
     "end_time": "2024-04-15T05:36:58.962632Z",
     "start_time": "2024-04-15T05:36:58.837968Z"
    }
   },
   "cell_type": "code",
   "source": "print(x_n)",
   "id": "c9ece8858493b9ca",
   "outputs": [
    {
     "name": "stdout",
     "output_type": "stream",
     "text": [
      "<add_thin.data.Batch object at 0x0000022128750410>\n"
     ]
    }
   ],
   "execution_count": 683
  },
  {
   "metadata": {
    "ExecuteTime": {
     "end_time": "2024-04-14T10:57:47.863074Z",
     "start_time": "2024-04-14T10:57:47.764682Z"
    }
   },
   "cell_type": "code",
   "source": [
    "a = Time_embed(64).to(device)\n",
    "out = a(x_n.to(device))"
   ],
   "id": "ec0880ed08b48ce",
   "outputs": [],
   "execution_count": 456
  },
  {
   "metadata": {
    "ExecuteTime": {
     "end_time": "2024-04-14T10:57:47.957260Z",
     "start_time": "2024-04-14T10:57:47.864067Z"
    }
   },
   "cell_type": "code",
   "source": [
    "n_events = x_n.mask.sum(-1)\n",
    "seq_emb = out.sum(1) / torch.clamp(n_events[..., None], min=1)"
   ],
   "id": "f01dcb20e3e56708",
   "outputs": [],
   "execution_count": 457
  },
  {
   "metadata": {
    "ExecuteTime": {
     "end_time": "2024-04-14T10:57:48.052158Z",
     "start_time": "2024-04-14T10:57:47.959249Z"
    }
   },
   "cell_type": "code",
   "source": "seq_emb.shape",
   "id": "95772aefeca9abc3",
   "outputs": [
    {
     "data": {
      "text/plain": [
       "torch.Size([3, 64])"
      ]
     },
     "execution_count": 458,
     "metadata": {},
     "output_type": "execute_result"
    }
   ],
   "execution_count": 458
  },
  {
   "metadata": {
    "ExecuteTime": {
     "end_time": "2024-04-08T08:11:02.643622Z",
     "start_time": "2024-04-08T08:11:02.638786Z"
    }
   },
   "cell_type": "code",
   "source": "",
   "id": "bd62c4039ef0f96",
   "outputs": [],
   "execution_count": 116
  },
  {
   "metadata": {
    "ExecuteTime": {
     "end_time": "2024-04-08T08:11:03.304093Z",
     "start_time": "2024-04-08T08:11:03.296030Z"
    }
   },
   "cell_type": "code",
   "source": "out = seq_emb.cpu().detach().numpy()\n",
   "id": "c0a59561ee1b9779",
   "outputs": [],
   "execution_count": 117
  },
  {
   "metadata": {
    "ExecuteTime": {
     "end_time": "2024-04-08T08:11:03.911738Z",
     "start_time": "2024-04-08T08:11:03.897936Z"
    }
   },
   "cell_type": "code",
   "source": [
    "out = out\n",
    "#use pca to reduce the dimentionality to 1\n",
    "from sklearn.decomposition import PCA\n",
    "pca = PCA(n_components=2)\n",
    "out = pca.fit_transform(out)"
   ],
   "id": "dda43b4698a4e9c2",
   "outputs": [],
   "execution_count": 118
  },
  {
   "metadata": {
    "ExecuteTime": {
     "end_time": "2024-04-08T08:11:04.532831Z",
     "start_time": "2024-04-08T08:11:04.431231Z"
    }
   },
   "cell_type": "code",
   "source": [
    "import matplotlib.pyplot as plt\n",
    "plt.scatter(out[:, 0], out[:, 1])\n",
    "plt.show()"
   ],
   "id": "785cb7ad11d0ccfd",
   "outputs": [
    {
     "data": {
      "text/plain": [
       "<Figure size 640x480 with 1 Axes>"
      ],
      "image/png": "[encoded data removed]"
     },
     "metadata": {},
     "output_type": "display_data"
    }
   ],
   "execution_count": 119
  },
  {
   "metadata": {
    "ExecuteTime": {
     "end_time": "2024-04-08T08:11:19.943284Z",
     "start_time": "2024-04-08T08:11:19.927127Z"
    }
   },
   "cell_type": "code",
   "source": "n",
   "id": "c95dc040229899a1",
   "outputs": [
    {
     "data": {
      "text/plain": [
       "tensor([0.8358, 0.0250, 0.6410, 0.1521, 0.4747, 0.6352, 0.3023, 0.2649, 0.1605,\n",
       "        0.4678, 0.8366, 0.7202, 0.9508, 0.3766, 0.2682, 0.8674, 0.3451, 0.5874,\n",
       "        0.2183, 0.1826, 0.7248, 0.3450, 0.2473, 0.8571, 0.7182, 0.5346, 0.4406,\n",
       "        0.2463, 0.7848, 0.1910, 0.0552, 0.8151])"
      ]
     },
     "execution_count": 120,
     "metadata": {},
     "output_type": "execute_result"
    }
   ],
   "execution_count": 120
  },
  {
   "metadata": {},
   "cell_type": "code",
   "outputs": [],
   "execution_count": null,
   "source": "",
   "id": "f4d1400d00594251"
  },
  {
   "metadata": {},
   "cell_type": "code",
   "outputs": [],
   "execution_count": null,
   "source": "",
   "id": "99f644a89638ae8a"
  },
  {
   "metadata": {},
   "cell_type": "code",
   "outputs": [],
   "execution_count": null,
   "source": [
    "from typing import Tuple\n",
    "\n",
    "import torch\n",
    "import torch.distributions as D\n",
    "import torch.nn as nn\n",
    "import warnings\n",
    "from torch.distributions import MixtureSameFamily\n",
    "from torchtyping import TensorType, patch_typeguard\n",
    "from typeguard import typechecked\n",
    "\n",
    "from add_thin.data import Batch\n",
    "from add_thin.distributions.densities import DISTRIBUTIONS\n",
    "\n",
    "patch_typeguard()\n",
    "\n",
    "\n",
    "@typechecked\n",
    "class MixtureIntensity(nn.Module):\n",
    "    \"\"\"\n",
    "    Class parameterizing the intensity function as a weighted mixture of distributions.\n",
    "\n",
    "    Parameters:\n",
    "    ----------\n",
    "    n_components : int, optional\n",
    "        Number of components to use in the mixture, by default 10\n",
    "    embedding_size : int, optional\n",
    "        Size of the event embedding, by default 128\n",
    "    distribution : str, optional\n",
    "        Distribution to use for the components, by default \"normal\"\n",
    "\n",
    "    \"\"\"\n",
    "\n",
    "    def __init__(\n",
    "        self,\n",
    "        n_components: int = 10,\n",
    "        embedding_size: int = 128,\n",
    "        distribution: str = \"normal\",\n",
    "    ) -> None:\n",
    "        super().__init__()\n",
    "\n",
    "        assert (\n",
    "            distribution in DISTRIBUTIONS.keys()\n",
    "        ), f\"{distribution} not in {DISTRIBUTIONS.keys()}\"\n",
    "        self.w_activation = torch.nn.Softplus()\n",
    "        self.distribution = DISTRIBUTIONS[distribution]\n",
    "\n",
    "        # Parallel compute parameters weight, mu and sigma for n components with one MLP\n",
    "        self.n_components = n_components\n",
    "        self.mlp = nn.Sequential(\n",
    "            nn.Linear(embedding_size, embedding_size),\n",
    "            nn.ReLU(),\n",
    "            nn.Linear(embedding_size, 3 * n_components),\n",
    "        )\n",
    "        self.rejections_sample_multiple = 2\n",
    "\n",
    "    def get_intensity_parameters(\n",
    "        self,\n",
    "        embs\n",
    "    ):\n",
    "        \"\"\"\n",
    "        Compute the parameters of the intensity function.\n",
    "\n",
    "        Parameters:\n",
    "        ----------\n",
    "        x_n : Batch\n",
    "            Batch of event sequences to condition on\n",
    "        event_emb : TensorType[float, \"batch\", \"seq\", \"embedding\"]\n",
    "            Context embedding of the events\n",
    "        dif_time_emb : TensorType[float, \"batch\", \"embedding\"]\n",
    "            Embedding of the diffusion time\n",
    "\n",
    "        Returns:\n",
    "        -------\n",
    "        location, scale, weight: List[TensorType]\n",
    "            The parameters of the intensity function\n",
    "        \"\"\"\n",
    "\n",
    "        # Compute masked mean over sequence (zero padded)\n",
    "\n",
    "        parameters = self.mlp(embs)\n",
    "        return torch.split(\n",
    "            parameters,\n",
    "            [self.n_components, self.n_components, self.n_components],\n",
    "            dim=-1,\n",
    "        )\n",
    "\n",
    "    def get_distribution(\n",
    "        self,\n",
    "        embs,\n",
    "        x_n,\n",
    "        L,\n",
    "    ):\n",
    "        \"\"\"\n",
    "        Instantiate the mixture-distribution parameterizing the intensity function.\n",
    "\n",
    "        Parameters:\n",
    "        ----------\n",
    "        event_emb : TensorType[float, \"batch\", \"seq\", \"embedding\"]\n",
    "            Context embedding of the events\n",
    "        dif_time_emb : TensorType[float, \"batch\", \"embedding\"]\n",
    "            Embedding of the diffusion time\n",
    "        x_n : Batch\n",
    "            Batch of event sequences to condition on\n",
    "        L : int\n",
    "            Maximum sequence length\n",
    "\n",
    "        Returns:\n",
    "        -------\n",
    "        density, cumulative_intensity: Tuple[D.MixtureSameFamily, TensorType[float, \"batch\"]]\n",
    "            The distribution and the cumulative intensity\n",
    "        \"\"\"\n",
    "        location, scale, weight = self.get_intensity_parameters(\n",
    "            embs\n",
    "        )\n",
    "\n",
    "        # Include the number of events in x_n for the cumulative intensity\n",
    "        weight = self.w_activation(weight)\n",
    "        cumulative_intensity = (weight).sum(-1) * (x_n.mask.sum(-1) + 1)\n",
    "\n",
    "        # Probs is normalized to sum to 1\n",
    "        mixture_dist = D.Categorical(probs=weight.unsqueeze(1).repeat(1, L, 1))\n",
    "\n",
    "        # Distribution parameters are the same for each sequence element\n",
    "        component_dist = self.distribution(\n",
    "            location.unsqueeze(1).repeat(1, L, 1),\n",
    "            scale.unsqueeze(1).repeat(1, L, 1),\n",
    "        )\n",
    "        return (\n",
    "            MixtureSameFamily(mixture_dist, component_dist),\n",
    "            cumulative_intensity,\n",
    "        )\n",
    "\n",
    "    def log_likelihood(\n",
    "        self,\n",
    "        x_0,\n",
    "        embs,\n",
    "        x_n,\n",
    "    ):\n",
    "        \"\"\"\n",
    "        Compute the log-likelihood of the event sequences.\n",
    "\n",
    "        Parameters:\n",
    "        ----------\n",
    "        x_0 : Batch\n",
    "            Batch of event sequences\n",
    "        event_emb : TensorType[float, \"batch\", \"seq\", \"embedding\"]\n",
    "            Context embedding of the events\n",
    "        dif_time_emb : TensorType[float, \"batch\", \"embedding\"]\n",
    "            Embedding of the diffusion time\n",
    "        x_n : Batch\n",
    "            Batch of event sequences to condition on\n",
    "\n",
    "        Returns:\n",
    "        -------\n",
    "        log_likelihood: TensorType[float, \"batch\"]\n",
    "            The log-likelihood of the event sequences\n",
    "        \"\"\"\n",
    "        density, cif = self.get_distribution(\n",
    "            embs=embs,\n",
    "            x_n=x_n,\n",
    "            L=x_0.seq_len,\n",
    "        )\n",
    "\n",
    "        # Normalize event time to [0, 1]\n",
    "        x = x_0.time / x_0.tmax\n",
    "\n",
    "        # Compute log-intensity with re-weighting\n",
    "        log_intensity = (\n",
    "            (density.log_prob(x) + torch.log(cif)[..., None]) * x_0.mask\n",
    "        ).sum(-1)\n",
    "\n",
    "        # Compute CIF for normalization\n",
    "        cdf = density.cdf(torch.ones_like(x)).mean(1)\n",
    "        cif = cif * cdf  # Rescale between 0 and T\n",
    "\n",
    "        return log_intensity - cif\n",
    "\n",
    "    def sample(\n",
    "        self,\n",
    "        embs,\n",
    "        n_samples,\n",
    "        x_n,\n",
    "    ):\n",
    "        \"\"\"\n",
    "        Sample event sequences from the intensity function.\n",
    "\n",
    "        Parameters:\n",
    "        ----------\n",
    "        event_emb : TensorType[float, \"batch\", \"seq\", \"embedding\"]\n",
    "            Context embedding of the events\n",
    "        dif_time_emb : TensorType[float, \"batch\", \"embedding\"]\n",
    "            Embedding of the diffusion time\n",
    "        n_samples : int\n",
    "            Number of samples to draw\n",
    "        x_n : Batch\n",
    "            Batch of event sequences to condition on\n",
    "\n",
    "        Returns:\n",
    "        -------\n",
    "        Batch\n",
    "            The sampled event sequences\n",
    "        \"\"\"\n",
    "        tmax = x_n.tmax\n",
    "        density, cif = self.get_distribution(\n",
    "            embs=embs,\n",
    "            x_n=x_n,\n",
    "            L=1,\n",
    "        )\n",
    "\n",
    "        # Get number of points per sample sequence from CIF\n",
    "        count_distribution = D.Poisson(\n",
    "            rate=cif * density.cdf(torch.ones_like(x_n.time)).mean().squeeze()\n",
    "        )\n",
    "        sequence_len = (\n",
    "            count_distribution.sample((n_samples,)).squeeze()\n",
    "        ).long()\n",
    "\n",
    "        # TODO implement smarter truncated normal, without rejection sampling.\n",
    "       \n",
    "\n",
    "        return sequence_len"
   ],
   "id": "bcba6bf37ee2a06"
  },
  {
   "metadata": {},
   "cell_type": "code",
   "outputs": [],
   "execution_count": null,
   "source": [
    "\n",
    "    \n",
    "class MLP(nn.Module):\n",
    "    def __init__(self, input_size, hidden_size, num_classes):\n",
    "        super(MLP, self).__init__()\n",
    "        self.fc1 = nn.Linear(input_size, hidden_size)\n",
    "        self.fc2 = nn.Linear(hidden_size, num_classes)\n",
    "        \n",
    "    def forward(self, x):\n",
    "        x = F.relu(self.fc1(x))\n",
    "        x = self.fc2(x)\n",
    "        return F.sigmoid(x)\n",
    "        \n",
    "        "
   ],
   "id": "1d0a45c494d12bfe"
  },
  {
   "metadata": {},
   "cell_type": "code",
   "outputs": [],
   "execution_count": null,
   "source": [
    "#set detect anomaly to True\n",
    "with torch.autograd.detect_anomaly():\n",
    "    train_loss_list = []\n",
    "    val_loss_list = []\n",
    "    for epoch in tqdm(range(200)):\n",
    "        train_batch_list = []\n",
    "        for batch in train_loader:\n",
    "            \n",
    "            optimizer.zero_grad()\n",
    "            n = torch.randint(low = 1, high = 10, size=(len(batch),), device=batch.time.device)\n",
    "            #n = torch.ones_like(n) * 3\n",
    "            #l = n.shape[0]\n",
    "            #n[:l//3] =a n[:l//3] * 3\n",
    "            #n[l//3:2*l//3] =  n[l//3:2*l//3] * 2\n",
    "            #n[2*l//3:] = n[2*l//3:] * 1\n",
    "            n = n/10 \n",
    "            x_n, x_0_thin, x_0_kept, hpp_thinned, hpp_kept = add_thin_model.noise(x_0=batch, n=n)\n",
    "            x_n.to(device)\n",
    "            x_0_thin.to(device)\n",
    "            preds = model(x_n,n)\n",
    "            preds = 140 * preds\n",
    "            \n",
    "            #mse loss between x_o_thin and preds\n",
    "            loss = F.mse_loss(preds.squeeze(), x_0_thin.unpadded_length.float())\n",
    "            #loss = 0\n",
    "            loss.backward()\n",
    "            optimizer.step()\n",
    "            # if epoch is divisble by 100 print the loss\n",
    "                \n",
    "            train_batch_list.append(loss.item())\n",
    "            \n",
    "        with torch.no_grad():\n",
    "            #evaluate on val_loader\n",
    "            val_batch_list = []\n",
    "            for batch in val_loader:\n",
    "                n = torch.randint(low = 5, high = 10, size=(len(batch),), device=batch.time.device)\n",
    "                n = n/10\n",
    "                x_n, x_0_thin, x_0_kept, hpp_thinned, hpp_kept = add_thin_model.noise(x_0=batch, n=n)\n",
    "                x_n.to(device)\n",
    "                x_0_thin.to(device)\n",
    "                preds = model(x_n,n)\n",
    "                preds = 140 * preds\n",
    "                loss = F.mse_loss(preds.squeeze(), x_0_thin.unpadded_length.float())\n",
    "                val_batch_list.append(loss.item())\n",
    "            print(\"epoch: \", epoch, \"val_loss: \", sum(val_batch_list)/len(val_batch_list))\n",
    "            \n",
    "        train_loss_list.append(sum(train_batch_list)/len(train_batch_list))\n",
    "        val_loss_list.append(sum(val_batch_list)/len(val_batch_list))\n",
    "        if epoch % 10 == 0:\n",
    "                #print(\"epoch: \", epoch, \"train_loss: \", train_loss_list[-1])\n",
    "                print(\"epoch: \", epoch, \"val_loss: \", val_loss_list[-1])\n",
    "        \n",
    "        "
   ],
   "id": "f9c1295e9b1508fe"
  },
  {
   "metadata": {},
   "cell_type": "code",
   "outputs": [],
   "execution_count": null,
   "source": [
    "import torch\n",
    "import torch.nn as nn\n",
    "import torch.nn.functional as F\n",
    "from torch.distributions import Normal\n",
    "\n",
    "class CVAE1D(nn.Module):\n",
    "    def __init__(self, input_dim, hidden_dim=64):\n",
    "        super(CVAE1D, self).__init__()\n",
    "        self.input_dim = input_dim\n",
    "\n",
    "        # Encoder layers\n",
    "        self.encoder_fc1 = nn.Linear(2 * input_dim, hidden_dim)\n",
    "        self.encoder_fc2_mean = nn.Linear(hidden_dim, hidden_dim)\n",
    "        self.encoder_fc2_logvar = nn.Linear(hidden_dim, hidden_dim)\n",
    "\n",
    "        # Decoder layers\n",
    "        self.decoder_fc1 = nn.Linear(hidden_dim + input_dim, hidden_dim)\n",
    "        self.decoder_fc2 = nn.Linear(hidden_dim, 1)\n",
    "\n",
    "    def encode(self, x, context):\n",
    "        # Concatenate input x with context embeddings\n",
    "        x = torch.cat([x, context], dim=1)\n",
    "        x = F.relu(self.encoder_fc1(x))\n",
    "        z_mean = self.encoder_fc2_mean(x)\n",
    "        z_logvar = self.encoder_fc2_logvar(x)\n",
    "        return z_mean, z_logvar\n",
    "\n",
    "    def reparameterize(self, mean, logvar):\n",
    "        std = torch.exp(0.5 * logvar)\n",
    "        eps = torch.randn_like(std)\n",
    "        return mean + eps * std\n",
    "\n",
    "    def decode(self, z, context):\n",
    "        # Concatenate latent z with context embeddings\n",
    "        z = torch.cat([z, context], dim=1)\n",
    "        z = F.relu(self.decoder_fc1(z))\n",
    "        x_recon = torch.sigmoid(self.decoder_fc2(z))  # Sigmoid activation for output\n",
    "        return x_recon\n",
    "\n",
    "    def forward(self, x, context):\n",
    "        # Encode\n",
    "        z_mean, z_logvar = self.encode(x, context)\n",
    "        # Reparameterize\n",
    "        z = self.reparameterize(z_mean, z_logvar)\n",
    "        # Decode\n",
    "        x_recon = self.decode(z, context)\n",
    "        return x_recon, z_mean, z_logvar\n",
    "\n",
    "    def sample(self, num_samples, context):\n",
    "        # Sample from the prior and decode\n",
    "        z = torch.randn(num_samples, self.latent_dim).to(context.device)\n",
    "        x_recon = self.decode(z, context)\n",
    "        return x_recon\n"
   ],
   "id": "ab10c83274df704b"
  }
 ],
 "metadata": {
  "kernelspec": {
   "display_name": "venv",
   "language": "python",
   "name": "venv"
  },
  "language_info": {
   "codemirror_mode": {
    "name": "ipython",
    "version": 2
   },
   "file_extension": ".py",
   "mimetype": "text/x-python",
   "name": "python",
   "nbconvert_exporter": "python",
   "pygments_lexer": "ipython2",
   "version": "2.7.6"
  }
 },
 "nbformat": 4,
 "nbformat_minor": 5
}
