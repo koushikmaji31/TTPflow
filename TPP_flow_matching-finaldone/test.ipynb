{
 "cells": [
  {
   "cell_type": "code",
   "id": "initial_id",
   "metadata": {
    "collapsed": true,
    "ExecuteTime": {
     "end_time": "2024-05-03T08:40:52.241307Z",
     "start_time": "2024-05-03T08:40:52.112101Z"
    }
   },
   "source": [
    "%load_ext autoreload\n",
    "%autoreload 2\n",
    "from add_thin.data import DataModule\n",
    "from pathlib import Path\n",
    "import torch\n",
    "import torch.nn as nn\n",
    "import math\n",
    "from add_thin.diffusion.model import AddThin\n",
    "import torch.optim as optim\n",
    "import torch.nn.functional as F\n",
    "from torch.nn import TransformerEncoder, TransformerEncoderLayer\n",
    "import torch.distributions as D\n",
    "from tqdm import tqdm\n",
    "from IPython.display import clear_output\n",
    "import matplotlib.pyplot as plt\n",
    "import numpy as np\n",
    "import math\n",
    "import os\n",
    "import time\n",
    "from torchcfm.conditional_flow_matching import *\n",
    "from torchcfm.models.models import *\n",
    "from torchcfm.utils import *\n",
    "\n",
    "import matplotlib.pyplot as plt\n",
    "import numpy as np\n",
    "import ot as pot\n",
    "import torch\n",
    "import torchdyn\n",
    "from torchdyn.core import NeuralODE\n",
    "from torchdyn.datasets import generate_moons\n",
    "\n",
    "from torchcfm.conditional_flow_matching import *\n",
    "from torchcfm.models.models import MLP\n",
    "from torchcfm.models.models import *\n"
   ],
   "outputs": [
    {
     "name": "stdout",
     "output_type": "stream",
     "text": [
      "The autoreload extension is already loaded. To reload it, use:\n",
      "  %reload_ext autoreload\n"
     ]
    }
   ],
   "execution_count": 49
  },
  {
   "metadata": {},
   "cell_type": "markdown",
   "source": "",
   "id": "79c2e242fca8bcdb"
  },
  {
   "metadata": {
    "ExecuteTime": {
     "end_time": "2024-05-03T08:40:52.957552Z",
     "start_time": "2024-05-03T08:40:52.734610Z"
    }
   },
   "cell_type": "code",
   "source": [
    "dm = DataModule(root=Path('data'), name=\"taxi\",\n",
    "                train_size=0.6, val_size=0.2,batch_size=128)\n",
    "dm.prepare_data()"
   ],
   "id": "57da9d89c9fa908f",
   "outputs": [],
   "execution_count": 50
  },
  {
   "metadata": {
    "ExecuteTime": {
     "end_time": "2024-05-03T10:13:07.100896Z",
     "start_time": "2024-05-03T10:13:06.962875Z"
    }
   },
   "cell_type": "code",
   "source": [
    "train_loader = dm.train_dataloader()\n",
    "val_loader = dm.val_dataloader()\n",
    "test_loader = dm.test_dataloader()"
   ],
   "id": "e381a02c1864d992",
   "outputs": [],
   "execution_count": 157
  },
  {
   "metadata": {
    "ExecuteTime": {
     "end_time": "2024-05-03T10:13:08.218244Z",
     "start_time": "2024-05-03T10:13:08.110532Z"
    }
   },
   "cell_type": "code",
   "source": "device = torch.device('cuda' if torch.cuda.is_available() else 'cpu')\n",
   "id": "fae34816a0b5e4de",
   "outputs": [],
   "execution_count": 158
  },
  {
   "metadata": {
    "ExecuteTime": {
     "end_time": "2024-05-03T10:13:08.225891Z",
     "start_time": "2024-05-03T10:13:08.220269Z"
    }
   },
   "cell_type": "code",
   "source": "",
   "id": "b54641fac640f136",
   "outputs": [],
   "execution_count": 158
  },
  {
   "metadata": {
    "ExecuteTime": {
     "end_time": "2024-05-03T10:13:08.382257Z",
     "start_time": "2024-05-03T10:13:08.229889Z"
    }
   },
   "cell_type": "code",
   "source": [
    "class Time_embed(nn.Module):\n",
    "    def __init__(self, d_model):\n",
    "        super(Time_embed, self).__init__()\n",
    "        self.d_model = d_model\n",
    "\n",
    "        \n",
    "    def forward(self, x):\n",
    "        x_time = x.time\n",
    "        x_time = x_time.to(device)\n",
    "        result = x_time.unsqueeze(-1).repeat(1, 1, self.d_model)\n",
    "        result[:, :, 0::2] = torch.sin(result[:, :, 0::2])\n",
    "        result[:, :, 1::2] = torch.cos(result[:, :, 1::2])\n",
    "        mask = x.mask.unsqueeze(-1).float()\n",
    "        return result * mask"
   ],
   "id": "a931723111fbcaeb",
   "outputs": [],
   "execution_count": 159
  },
  {
   "metadata": {
    "ExecuteTime": {
     "end_time": "2024-05-03T10:13:08.498731Z",
     "start_time": "2024-05-03T10:13:08.385257Z"
    }
   },
   "cell_type": "code",
   "source": [
    "class N_embed(nn.Module):\n",
    "    def __init__(self, d_model):\n",
    "        super(N_embed, self).__init__()\n",
    "        self.d_model = d_model\n",
    "        self.encoder_fc1 = nn.Linear(1, d_model)\n",
    "        self.encoder_fc2 = nn.Linear(d_model, d_model)\n",
    "        self.decoder = nn.Sequential(\n",
    "            nn.Linear(d_model, d_model),\n",
    "            nn.ReLU(),\n",
    "            nn.Linear(d_model, 1),\n",
    "            nn.Sigmoid()\n",
    "        )\n",
    "        \n",
    "    def forward(self, x):\n",
    "        x = x.to(device)\n",
    "        x = x.unsqueeze(-1)\n",
    "        x1 = F.relu(self.encoder_fc1(x))\n",
    "        x2 = self.encoder_fc2(x1)\n",
    "        result = x1 + x2\n",
    "        return result\n",
    "    \n",
    "    def decode(self, x):\n",
    "        x = x.to(device)\n",
    "        x = self.decoder(x)\n",
    "        return x"
   ],
   "id": "43343ebf5b8dbfc5",
   "outputs": [],
   "execution_count": 160
  },
  {
   "metadata": {
    "ExecuteTime": {
     "end_time": "2024-05-03T10:13:08.506769Z",
     "start_time": "2024-05-03T10:13:08.501727Z"
    }
   },
   "cell_type": "code",
   "source": "",
   "id": "be31c2de5de1ddfb",
   "outputs": [],
   "execution_count": 160
  },
  {
   "metadata": {
    "ExecuteTime": {
     "end_time": "2024-05-03T11:17:40.727518Z",
     "start_time": "2024-05-03T11:17:40.614768Z"
    }
   },
   "cell_type": "code",
   "source": [
    "class MLP(torch.nn.Module):\n",
    "    def __init__(self, dim, out_dim=None, w=64, time_varying=False):\n",
    "        super().__init__()\n",
    "        self.time_varying = time_varying\n",
    "        if out_dim is None:\n",
    "            out_dim = dim\n",
    "        self.net = torch.nn.Sequential(\n",
    "            torch.nn.Linear(2 * dim + (1 if time_varying else 0), w),\n",
    "            torch.nn.SELU(),\n",
    "            torch.nn.Linear(w, w),\n",
    "            torch.nn.SELU(),\n",
    "            torch.nn.Linear(w, w),\n",
    "            torch.nn.SELU(),\n",
    "            torch.nn.Linear(w, out_dim),\n",
    "        )\n",
    "\n",
    "    def forward(self, x, context,t):\n",
    "        t = t.view(-1, 1,1).repeat(1, x.shape[1], 1)\n",
    "        context = context.unsqueeze(1).repeat(1, x.shape[1], 1)\n",
    "        x = torch.cat([x, context, t], dim=-1)\n",
    "        \n",
    "        return self.net(x)"
   ],
   "id": "6d598207dcf6693c",
   "outputs": [],
   "execution_count": 218
  },
  {
   "metadata": {
    "ExecuteTime": {
     "end_time": "2024-05-03T11:17:41.780362Z",
     "start_time": "2024-05-03T11:17:41.669658Z"
    }
   },
   "cell_type": "code",
   "source": [
    "class PredictPossionRate(nn.Module):\n",
    "    def __init__(self, \n",
    "                 d_model, \n",
    "                 nhead, \n",
    "                 dim_feedforward, \n",
    "                 dropout, \n",
    "                 batch_first,\n",
    "                 num_layers = 3):\n",
    "        super(PredictPossionRate, self).__init__()\n",
    "        \n",
    "        self.transformer_encoder_layer = TransformerEncoderLayer(d_model = d_model,\n",
    "                                        nhead = nhead,\n",
    "                                        dim_feedforward = dim_feedforward,\n",
    "                                        dropout = dropout,\n",
    "                                        batch_first = batch_first)\n",
    "        \n",
    "        self.transformer_encoder = TransformerEncoder(self.transformer_encoder_layer, num_layers)\n",
    "        \n",
    "        \n",
    "        self.mlp = nn.Sequential(\n",
    "            nn.Linear(d_model, 32),\n",
    "            nn.ReLU(),\n",
    "            nn.Linear(32, 1),\n",
    "            nn.Sigmoid(),\n",
    "        )\n",
    "        \n",
    "        self.time_encoder = Time_embed(d_model)\n",
    "        self.kept_embs = nn.Embedding(2, d_model)\n",
    "        self.n_embed = N_embed(d_model)\n",
    "        self.mlp = MLP(dim= d_model, time_varying=True)\n",
    "        \n",
    "        \n",
    "        \n",
    "    def forward(self, x,n):\n",
    "        \n",
    "        time_embeds = self.time_encoder(x)\n",
    "        pad_mask = x.mask.unsqueeze(-1).float()\n",
    "        x_kept_cond = x.kept\n",
    "        if x.kept is not None:\n",
    "            kept_mask = x.kept.long()\n",
    "            kept_embs = self.kept_embs(kept_mask)\n",
    "            pm = pad_mask.repeat(1,1,kept_embs.shape[-1])\n",
    "            kept_embs = kept_embs * pm\n",
    "        n = self.n_embed(n).unsqueeze(1)\n",
    "        if x.kept is not None:\n",
    "            concat_embeds = time_embeds + kept_embs + n\n",
    "        else:\n",
    "            concat_embeds = time_embeds + n\n",
    "        #concat_embeds = time_embeds * kept_embs + n\n",
    "        b,seq_len, d_model = time_embeds.shape\n",
    "        mask = torch.zeros((seq_len, seq_len), device = x.time.device)\n",
    "        pad_mask = pad_mask.squeeze(-1)\n",
    "        pad_mask[pad_mask == 0] = float('-inf')\n",
    "        pad_mask[pad_mask == 1] = 0\n",
    "        transformer_embeds = self.transformer_encoder(concat_embeds, \n",
    "                                                      mask = mask,\n",
    "                                                      src_key_padding_mask = pad_mask)\n",
    "        avg_emb = transformer_embeds.sum(1) / torch.clamp(x.mask.sum(-1)[..., None], min=1)\n",
    "        return avg_emb\n",
    "    "
   ],
   "id": "4f49c6f195428cc0",
   "outputs": [],
   "execution_count": 219
  },
  {
   "metadata": {
    "ExecuteTime": {
     "end_time": "2024-05-03T11:17:41.789356Z",
     "start_time": "2024-05-03T11:17:41.783364Z"
    }
   },
   "cell_type": "code",
   "source": "",
   "id": "bcad94a723e7ce3b",
   "outputs": [],
   "execution_count": 219
  },
  {
   "metadata": {
    "ExecuteTime": {
     "end_time": "2024-05-03T11:17:41.798752Z",
     "start_time": "2024-05-03T11:17:41.793346Z"
    }
   },
   "cell_type": "code",
   "source": "",
   "id": "cfa88f4f889eb896",
   "outputs": [],
   "execution_count": 219
  },
  {
   "metadata": {
    "ExecuteTime": {
     "end_time": "2024-05-03T11:17:41.925873Z",
     "start_time": "2024-05-03T11:17:41.800753Z"
    }
   },
   "cell_type": "code",
   "source": [
    "d_model = 8\n",
    "nhead = 2\n",
    "dim_feedforward = 32\n",
    "dropout = 0.0\n",
    "batch_first = True\n",
    "num_layers = 2\n",
    "device = torch.device('cuda' if torch.cuda.is_available() else 'cpu')\n",
    "max_seq_len =dm.n_max\n",
    "add_thin_model = AddThin(classifier_model =None,\n",
    "        intensity_model = None,\n",
    "        max_time = 100,\n",
    "        n_max = dm.n_max,\n",
    "        steps = 1,\n",
    "        hidden_dims = d_model,\n",
    "        emb_dim = d_model,\n",
    "        encoder_layer = 3,\n",
    "        kernel_size =  5,\n",
    "        forecast=None,\n",
    "        simulation_steps = 10,\n",
    ").to(device)\n",
    "mlp = MLP(dim= d_model, time_varying=True).to(device)\n",
    "time_embed = N_embed(d_model).to(device)\n",
    "optimizer = optim.Adam(list(add_thin_model.parameters()) + list(mlp.parameters()) + list(time_embed.parameters()), lr=0.001)\n",
    "FM = ConditionalFlowMatcher(sigma=0.001)\n",
    "node = NeuralODE(mlp, solver=\"dopri5\", sensitivity=\"adjoint\", atol=1e-4, rtol=1e-4)"
   ],
   "id": "95fd10a2d97d43ec",
   "outputs": [],
   "execution_count": 220
  },
  {
   "metadata": {
    "ExecuteTime": {
     "end_time": "2024-05-03T11:17:42.037925Z",
     "start_time": "2024-05-03T11:17:41.927877Z"
    }
   },
   "cell_type": "code",
   "source": [
    "from tqdm import tqdm\n",
    "from IPython.display import clear_output\n",
    "from torch.distributions import Poisson\n"
   ],
   "id": "3f18fc358f08cb38",
   "outputs": [],
   "execution_count": 221
  },
  {
   "metadata": {},
   "cell_type": "code",
   "source": [
    "#set detect anomaly to True\n",
    "with torch.autograd.detect_anomaly():\n",
    "    train_loss_list = []\n",
    "    val_loss_list = []\n",
    "    for epoch in tqdm(range(1)):\n",
    "        train_batch_list = []\n",
    "        for batch in train_loader:\n",
    "            batch.to(device)\n",
    "            optimizer.zero_grad()\n",
    "            n = torch.randint(low = 0, high = add_thin_model.simulation_steps, size=(len(batch),), device=batch.time.device)\n",
    "            n = n/add_thin_model.simulation_steps\n",
    "            x_n, x_0_thin, x_0_kept, hpp_thinned, hpp_kept = add_thin_model.noise(x_0=batch, n=n)\n",
    "            x_n.to(device)\n",
    "            x_0_thin.to(device)\n",
    "            (flow_time_emb, x_n_emb) = add_thin_model.compute_emb(n=n, x_n=x_n)\n",
    "            avg_emb = x_n_emb.sum(1) / torch.clamp(x_n.mask.sum(-1)[..., None], min=1)\n",
    "            combined_emb = avg_emb + flow_time_emb\n",
    "            thin_time = x_0_thin.time\n",
    "            thin_time = thin_time/batch.tmax\n",
    "            thin_time = thin_time\n",
    "            time_embs = time_embed(thin_time)\n",
    "            x_0_thin_mask = x_0_thin.mask.unsqueeze(-1)\n",
    "            t_0 = torch.rand_like(time_embs) * x_0_thin_mask\n",
    "            t_1 = time_embs * x_0_thin_mask\n",
    "            \n",
    "            t, xt, ut = FM.sample_location_and_conditional_flow(x0=t_0, x1=t_1)\n",
    "            t = t.to(add_thin_model.device)\n",
    "            xt = xt.to(add_thin_model.device)\n",
    "            ut = ut.to(add_thin_model.device)\n",
    "            vt = mlp(xt, combined_emb, t)\n",
    "            loss_time = torch.mean((vt - ut) ** 2)\n",
    "            \n",
    "            decoded_time = time_embed.decode(time_embs).squeeze()\n",
    "            decoded_time_loss = F.mse_loss(decoded_time, thin_time.squeeze())\n",
    "            total_time_loss = loss_time + decoded_time_loss\n",
    "            \n",
    "            unpadded_lens = batch.unpadded_length.float() / add_thin_model.n_max\n",
    "            x_1 = add_thin_model.process_time_embed(unpadded_lens)\n",
    "            decoded_lens = add_thin_model.process_time_embed.decode(x_1).squeeze()\n",
    "            x_0 = torch.rand_like(x_1)\n",
    "            t, xt, ut = add_thin_model.FM.sample_location_and_conditional_flow(x0=x_0, x1=x_1)\n",
    "            t = t.to(add_thin_model.device)\n",
    "            xt = xt.to(add_thin_model.device)\n",
    "            ut = ut.to(add_thin_model.device)\n",
    "            if add_thin_model.forecast:\n",
    "                vt = add_thin_model.mlp(xt, add_thin_model.history, t)\n",
    "            else:\n",
    "                vt = add_thin_model.mlp(xt, t)\n",
    "            decode_loss = F.mse_loss(decoded_lens, unpadded_lens)\n",
    "            fm_loss = torch.mean((vt - ut) ** 2)\n",
    "            loss = fm_loss + decode_loss + total_time_loss\n",
    "            loss.backward()\n",
    "            optimizer.step()\n",
    "            train_batch_list.append(loss.item())\n",
    "            \n",
    "            \n",
    "            \n",
    "        with torch.no_grad():\n",
    "            #evaluate on val_loader\n",
    "            val_batch_list = []\n",
    "            for batch in val_loader:\n",
    "                batch.to(device)\n",
    "                n = torch.randint(low = 0, high = add_thin_model.simulation_steps, size=(len(batch),), device=batch.time.device)\n",
    "                n = n/add_thin_model.simulation_steps\n",
    "                x_n, x_0_thin, x_0_kept, hpp_thinned, hpp_kept = add_thin_model.noise(x_0=batch, n=n)\n",
    "                x_n.to(device)\n",
    "                x_0_thin.to(device)\n",
    "                (flow_time_emb, x_n_emb) = add_thin_model.compute_emb(n=n, x_n=x_n)\n",
    "                avg_emb = x_n_emb.sum(1) / torch.clamp(x_n.mask.sum(-1)[..., None], min=1)\n",
    "                combined_emb = avg_emb + flow_time_emb\n",
    "                thin_time = x_0_thin.time\n",
    "                thin_time = thin_time/batch.tmax\n",
    "                thin_time = thin_time\n",
    "                time_embs = time_embed(thin_time)\n",
    "                x_0_thin_mask = x_0_thin.mask.unsqueeze(-1)\n",
    "                t_0 = torch.rand_like(time_embs) * x_0_thin_mask\n",
    "                t_1 = time_embs * x_0_thin_mask\n",
    "                t, xt, ut = FM.sample_location_and_conditional_flow(x0=t_0, x1=t_1)\n",
    "                t = t.to(add_thin_model.device)\n",
    "                xt = xt.to(add_thin_model.device)\n",
    "                ut = ut.to(add_thin_model.device)\n",
    "                vt = mlp(xt, combined_emb, t)\n",
    "                loss_time = torch.mean((vt - ut) ** 2)\n",
    "                decoded_time = time_embed.decode(time_embs).squeeze()\n",
    "                decoded_time_loss = F.mse_loss(decoded_time, thin_time.squeeze())\n",
    "                total_time_loss = loss_time + decoded_time_loss\n",
    "                \n",
    "\n",
    "            \n",
    "                unpadded_lens = batch.unpadded_length.float() / add_thin_model.n_max\n",
    "                x_1 = add_thin_model.process_time_embed(unpadded_lens)\n",
    "                decoded_lens = add_thin_model.process_time_embed.decode(x_1).squeeze()\n",
    "                x_0 = torch.rand_like(x_1)\n",
    "                t, xt, ut = add_thin_model.FM.sample_location_and_conditional_flow(x0=x_0, x1=x_1)\n",
    "                t = t.to(add_thin_model.device)\n",
    "                xt = xt.to(add_thin_model.device)\n",
    "                ut = ut.to(add_thin_model.device)\n",
    "                if add_thin_model.forecast:\n",
    "                    vt = add_thin_model.mlp(xt, add_thin_model.history, t)\n",
    "                else:\n",
    "                    vt = add_thin_model.mlp(xt, t)\n",
    "                decode_loss = F.mse_loss(decoded_lens, unpadded_lens)\n",
    "                fm_loss = torch.mean((vt - ut) ** 2)\n",
    "                loss = fm_loss + decode_loss + total_time_loss\n",
    "                val_batch_list.append(loss.item())\n",
    "                \n",
    "                \n",
    "                \n",
    "            \n",
    "        train_loss_list.append(sum(train_batch_list)/len(train_batch_list))\n",
    "        val_loss_list.append(sum(val_batch_list)/len(val_batch_list))\n",
    "        if epoch % 10 == 0:\n",
    "                #clear output of jupyter notebook screen\n",
    "                clear_output(wait=True)\n",
    "                print(\"epoch: \", epoch, \"val_loss: \", val_loss_list[-1])"
   ],
   "id": "957f1a2e1431330a",
   "execution_count": 330,
   "outputs": [
    {
     "name": "stderr",
     "output_type": "stream",
     "text": [
      "100%|██████████| 1/1 [00:00<00:00,  2.22it/s]"
     ]
    },
    {
     "name": "stdout",
     "output_type": "stream",
     "text": [
      "epoch:  0 val_loss:  0.006971920840442181\n"
     ]
    },
    {
     "name": "stderr",
     "output_type": "stream",
     "text": [
      "\n"
     ]
    }
   ]
  },
  {
   "metadata": {
    "ExecuteTime": {
     "end_time": "2024-05-03T14:06:19.249609Z",
     "start_time": "2024-05-03T14:06:19.130389Z"
    }
   },
   "cell_type": "code",
   "source": [
    "add_thin_model.eval()\n",
    "mlp.eval()\n",
    "time_embed.eval()"
   ],
   "id": "afb887399c8be13b",
   "outputs": [
    {
     "data": {
      "text/plain": [
       "N_embed(\n",
       "  (encoder_fc1): Linear(in_features=1, out_features=8, bias=True)\n",
       "  (encoder_fc2): Linear(in_features=8, out_features=8, bias=True)\n",
       "  (decoder): Sequential(\n",
       "    (0): Linear(in_features=8, out_features=8, bias=True)\n",
       "    (1): ReLU()\n",
       "    (2): Linear(in_features=8, out_features=1, bias=True)\n",
       "    (3): Sigmoid()\n",
       "  )\n",
       ")"
      ]
     },
     "execution_count": 331,
     "metadata": {},
     "output_type": "execute_result"
    }
   ],
   "execution_count": 331
  },
  {
   "metadata": {
    "ExecuteTime": {
     "end_time": "2024-05-03T14:06:20.327112Z",
     "start_time": "2024-05-03T14:06:20.190128Z"
    }
   },
   "cell_type": "code",
   "source": "t.shape",
   "id": "6eca16aa08d8b7d3",
   "outputs": [
    {
     "data": {
      "text/plain": [
       "torch.Size([36])"
      ]
     },
     "execution_count": 332,
     "metadata": {},
     "output_type": "execute_result"
    }
   ],
   "execution_count": 332
  },
  {
   "metadata": {
    "ExecuteTime": {
     "end_time": "2024-05-03T14:07:31.697034Z",
     "start_time": "2024-05-03T14:07:31.579343Z"
    }
   },
   "cell_type": "code",
   "source": "from add_thin.data import Batch",
   "id": "e7266ceefdea55b0",
   "outputs": [],
   "execution_count": 341
  },
  {
   "metadata": {
    "ExecuteTime": {
     "end_time": "2024-05-03T14:07:33.062993Z",
     "start_time": "2024-05-03T14:07:32.706530Z"
    }
   },
   "cell_type": "code",
   "source": [
    "import torchdiffeq\n",
    "\n",
    "for batch in test_loader:\n",
    "    batch.to(device)\n",
    "    n = torch.randint(low = 9, high = add_thin_model.simulation_steps, size=(len(batch),), device=batch.time.device)\n",
    "    n = n/add_thin_model.simulation_steps\n",
    "    x_n, x_0_thin, x_0_kept, hpp_thinned, hpp_kept = add_thin_model.noise(x_0=batch, n=n)\n",
    "    x_n.to(device)\n",
    "    x_0_thin.to(device)\n",
    "    (flow_time_emb, x_n_emb) = add_thin_model.compute_emb(n=n, x_n=x_n)\n",
    "    avg_emb = x_n_emb.sum(1) / torch.clamp(x_n.mask.sum(-1)[..., None], min=1)\n",
    "    combined_emb = avg_emb + flow_time_emb\n",
    "    context = combined_emb\n",
    "    max_len = c = max(x_0_thin.unpadded_length)\n",
    "    b = x_0_thin.time.shape[0]\n",
    "    d = d_model\n",
    "    actual_lens = x_0_thin.unpadded_length.float()\n",
    "    \n",
    "    with torch.no_grad():\n",
    "        traj = torchdiffeq.odeint(\n",
    "            lambda t, x: mlp.forward(x, context, t.repeat(x.shape[0],)),\n",
    "            torch.rand(size=(b, 2 * c,d), device=device),\n",
    "            torch.linspace(0, 1, 10, device=device),\n",
    "            atol=1e-4,\n",
    "            rtol=1e-4,\n",
    "            method=\"dopri5\",\n",
    "        )\n",
    "        tmax = x_0_thin.tmax\n",
    "        \n",
    "        out = traj[-1,:,:]\n",
    "        out = time_embed.decode(out).squeeze() * batch.tmax\n",
    "        out = out.detach()\n",
    "        times = out\n",
    "        inside = torch.logical_and(times <= tmax, times >= 0)\n",
    "        sort_idx = torch.argsort(\n",
    "            inside.int(), stable=True, descending=True, dim=-1\n",
    "        )\n",
    "        inside = torch.take_along_dim(inside, sort_idx, dim=-1)[\n",
    "            :, :max_seq_len\n",
    "        ]\n",
    "        times = torch.take_along_dim(times, sort_idx, dim=-1)[\n",
    "            :, :max_seq_len\n",
    "        ]\n",
    "\n",
    "        # Randomly mask out events exceeding the actual sequence length\n",
    "        mask = (\n",
    "            torch.arange(0, times.shape[-1], device=times.device)[None, :]\n",
    "            < actual_lens[:, None]\n",
    "        )\n",
    "        \n",
    "        mask = mask * inside\n",
    "        \n",
    "        if (mask.sum(-1) == actual_lens).all():\n",
    "            print(\"okay\")\n",
    "        else:\n",
    "            print(\"not all elements are equal\")\n",
    "\n",
    "        times = times * mask.float()\n",
    "        \n",
    "        a =  Batch.remove_unnescessary_padding(\n",
    "            time=times, mask=mask, tmax=tmax, kept=None\n",
    "        )\n",
    "        "
   ],
   "id": "3b683ff0185a4bd",
   "outputs": [
    {
     "name": "stdout",
     "output_type": "stream",
     "text": [
      "okay\n"
     ]
    }
   ],
   "execution_count": 342
  },
  {
   "metadata": {
    "ExecuteTime": {
     "end_time": "2024-05-03T14:08:10.997716Z",
     "start_time": "2024-05-03T14:08:10.862387Z"
    }
   },
   "cell_type": "code",
   "source": "a.time[0]",
   "id": "9ac7442e29788b04",
   "outputs": [
    {
     "data": {
      "text/plain": [
       "tensor([1.3891, 2.3856, 2.9051, 3.3039, 3.3936, 3.7033, 3.9046, 4.0879, 5.4984,\n",
       "        0.0000, 0.0000, 0.0000, 0.0000, 0.0000], device='cuda:0')"
      ]
     },
     "execution_count": 347,
     "metadata": {},
     "output_type": "execute_result"
    }
   ],
   "execution_count": 347
  },
  {
   "metadata": {
    "ExecuteTime": {
     "end_time": "2024-05-03T14:08:12.448739Z",
     "start_time": "2024-05-03T14:08:12.315285Z"
    }
   },
   "cell_type": "code",
   "source": "x_0_thin.time[0]",
   "id": "af1c869372edc114",
   "outputs": [
    {
     "data": {
      "text/plain": [
       "tensor([1.2075, 1.2331, 5.6717, 5.8172, 6.0267, 6.6608, 6.8386, 7.1108, 7.7050,\n",
       "        0.0000, 0.0000, 0.0000, 0.0000, 0.0000], device='cuda:0')"
      ]
     },
     "execution_count": 348,
     "metadata": {},
     "output_type": "execute_result"
    }
   ],
   "execution_count": 348
  },
  {
   "metadata": {
    "ExecuteTime": {
     "end_time": "2024-05-03T13:36:42.498008Z",
     "start_time": "2024-05-03T13:36:42.305448Z"
    }
   },
   "cell_type": "code",
   "source": "actual_lens",
   "id": "cabf14702ae6a2e8",
   "outputs": [
    {
     "data": {
      "text/plain": [
       "tensor([ 8.,  7., 10., 10., 10.,  9., 13., 11.,  8.,  9.,  6., 11., 11., 10.,\n",
       "        10.,  8.,  7., 10., 10., 11., 12., 10., 10., 11., 12.,  9.,  8., 13.,\n",
       "         7.,  7., 12.,  8., 10., 12., 11., 13.,  7.], device='cuda:0')"
      ]
     },
     "execution_count": 290,
     "metadata": {},
     "output_type": "execute_result"
    }
   ],
   "execution_count": 290
  },
  {
   "metadata": {
    "ExecuteTime": {
     "end_time": "2024-05-03T13:36:43.498914Z",
     "start_time": "2024-05-03T13:36:43.357197Z"
    }
   },
   "cell_type": "code",
   "source": "mask",
   "id": "5fbeb76169870aa2",
   "outputs": [
    {
     "data": {
      "text/plain": [
       "tensor([[ True,  True,  True,  ..., False, False, False],\n",
       "        [ True,  True,  True,  ..., False, False, False],\n",
       "        [ True,  True,  True,  ..., False, False, False],\n",
       "        ...,\n",
       "        [ True,  True,  True,  ..., False, False, False],\n",
       "        [ True,  True,  True,  ..., False, False, False],\n",
       "        [ True,  True,  True,  ..., False, False, False]], device='cuda:0')"
      ]
     },
     "execution_count": 291,
     "metadata": {},
     "output_type": "execute_result"
    }
   ],
   "execution_count": 291
  },
  {
   "metadata": {
    "ExecuteTime": {
     "end_time": "2024-05-03T13:36:52.613332Z",
     "start_time": "2024-05-03T13:36:52.469722Z"
    }
   },
   "cell_type": "code",
   "source": "ind = torch.argmax(x_0_thin.unpadded_length)",
   "id": "b7d577eeb1bfdaf5",
   "outputs": [],
   "execution_count": 292
  },
  {
   "metadata": {
    "ExecuteTime": {
     "end_time": "2024-05-03T13:36:53.669282Z",
     "start_time": "2024-05-03T13:36:53.503910Z"
    }
   },
   "cell_type": "code",
   "source": "x_0_thin.time[ind]",
   "id": "b3a5e935ded0b47a",
   "outputs": [
    {
     "data": {
      "text/plain": [
       "tensor([13.0269, 13.0886, 13.1458, 13.3092, 13.3886, 13.5336, 13.9692, 14.2828,\n",
       "        14.3269, 14.5108, 14.6544, 14.6894, 15.1350,  0.0000], device='cuda:0')"
      ]
     },
     "execution_count": 293,
     "metadata": {},
     "output_type": "execute_result"
    }
   ],
   "execution_count": 293
  },
  {
   "metadata": {
    "ExecuteTime": {
     "end_time": "2024-05-03T13:37:41.515458Z",
     "start_time": "2024-05-03T13:37:41.382894Z"
    }
   },
   "cell_type": "code",
   "source": "torch.sort(times[ind], descending=True)",
   "id": "459fea40edba138d",
   "outputs": [
    {
     "data": {
      "text/plain": [
       "torch.return_types.sort(\n",
       "values=tensor([16.9488, 16.7257, 16.1796, 15.6667, 15.5336, 15.1370, 14.6748, 14.3598,\n",
       "        13.5497, 13.0320, 13.0183, 13.0092, 10.7087,  0.0000,  0.0000,  0.0000,\n",
       "         0.0000,  0.0000,  0.0000,  0.0000,  0.0000,  0.0000,  0.0000,  0.0000,\n",
       "         0.0000,  0.0000,  0.0000,  0.0000,  0.0000,  0.0000,  0.0000,  0.0000,\n",
       "         0.0000,  0.0000,  0.0000,  0.0000,  0.0000,  0.0000,  0.0000,  0.0000,\n",
       "         0.0000,  0.0000,  0.0000,  0.0000,  0.0000,  0.0000,  0.0000,  0.0000,\n",
       "         0.0000,  0.0000,  0.0000,  0.0000], device='cuda:0'),\n",
       "indices=tensor([ 6,  9,  7, 12, 11,  0,  1,  4,  8, 10,  2,  3,  5, 13, 14, 15, 16, 17,\n",
       "        18, 19, 20, 21, 22, 23, 24, 25, 26, 27, 28, 29, 30, 31, 32, 33, 34, 35,\n",
       "        36, 37, 38, 39, 40, 41, 42, 43, 44, 45, 46, 47, 48, 49, 50, 51],\n",
       "       device='cuda:0'))"
      ]
     },
     "execution_count": 297,
     "metadata": {},
     "output_type": "execute_result"
    }
   ],
   "execution_count": 297
  },
  {
   "metadata": {
    "ExecuteTime": {
     "end_time": "2024-05-03T11:47:47.642509Z",
     "start_time": "2024-05-03T11:47:47.534767Z"
    }
   },
   "cell_type": "code",
   "source": "out_4 = out * 4",
   "id": "aa517ae8b08d1ac7",
   "outputs": [],
   "execution_count": 228
  },
  {
   "metadata": {},
   "cell_type": "code",
   "outputs": [],
   "execution_count": null,
   "source": [
    "#perform rehection sampling on out_4. select the number of elements according to the actual_lens\n",
    "#out_4 shape is (b,c)\n",
    "#actual_lens shape is (b,)\n",
    "#perform rejection sampling on out_4\n",
    "#Randomly select the number of elements according to the actual_lens from"
   ],
   "id": "6463bc62ecb0cc86"
  },
  {
   "metadata": {},
   "cell_type": "code",
   "outputs": [],
   "execution_count": null,
   "source": "",
   "id": "adecd156521a2fd8"
  },
  {
   "metadata": {},
   "cell_type": "markdown",
   "source": "",
   "id": "4cfda7b4105136e2"
  },
  {
   "metadata": {},
   "cell_type": "markdown",
   "source": "",
   "id": "9377996ab84a4e34"
  },
  {
   "metadata": {},
   "cell_type": "code",
   "source": [
    "seq_lens = np.array([])\n",
    "for batch in test_loader:\n",
    "    n = torch.randint(low = 0, high = add_thin_model.simulation_steps, size=(len(batch),), device=batch.time.device) * 0\n",
    "    n = n/add_thin_model.simulation_steps\n",
    "    x_n, x_0_thin, x_0_kept, hpp_thinned, hpp_kept = add_thin_model.noise(x_0=batch, n=n)\n",
    "    \n",
    "\n",
    "    \n",
    "    \n",
    "    "
   ],
   "id": "dab05a3f77f2d55d",
   "outputs": [],
   "execution_count": null
  },
  {
   "metadata": {
    "ExecuteTime": {
     "end_time": "2024-05-03T09:32:11.207171Z",
     "start_time": "2024-05-03T09:32:11.079460Z"
    }
   },
   "cell_type": "code",
   "source": "len(seq_lens)",
   "id": "dbc7f770a4238f25",
   "outputs": [
    {
     "data": {
      "text/plain": [
       "37"
      ]
     },
     "execution_count": 145,
     "metadata": {},
     "output_type": "execute_result"
    }
   ],
   "execution_count": 145
  },
  {
   "metadata": {
    "ExecuteTime": {
     "end_time": "2024-04-24T15:59:50.791585Z",
     "start_time": "2024-04-24T15:59:50.586595Z"
    }
   },
   "cell_type": "code",
   "source": [
    "#plot histogram of seq_lens\n",
    "plt.hist(seq_lens)\n",
    "plt.show()"
   ],
   "id": "afbf9935d85b78ae",
   "outputs": [
    {
     "data": {
      "text/plain": [
       "<Figure size 640x480 with 1 Axes>"
      ],
      "image/png": "[encoded data removed]"
     },
     "metadata": {},
     "output_type": "display_data"
    }
   ],
   "execution_count": 335
  },
  {
   "metadata": {
    "ExecuteTime": {
     "end_time": "2024-04-24T15:59:51.524736Z",
     "start_time": "2024-04-24T15:59:50.794575Z"
    }
   },
   "cell_type": "code",
   "source": [
    "predicted_lens = np.array([])\n",
    "actual_lens = np.array([])\n",
    "\n",
    "import torchdiffeq\n",
    "\n",
    "for batch in test_loader:\n",
    "    n = torch.randint(low = 9, high = 10, size=(len(batch),), device=batch.time.device) * 0\n",
    "    n = n/10 \n",
    "    x_n, x_0_thin, x_0_kept, hpp_thinned, hpp_kept = add_thin_model.noise(x_0=batch, n=n)\n",
    "    x_n.to(device)\n",
    "    x_0_thin.to(device)\n",
    "    unpadded_lens = x_0_thin.unpadded_length.float()/max_seq_len\n",
    "    x_1 = model.n_embed(unpadded_lens)\n",
    "    context = model(x_n,n)\n",
    "    \n",
    "    \n",
    "    with torch.no_grad():\n",
    "        traj = torchdiffeq.odeint(\n",
    "            lambda t, x: model.mlp.forward(x, context, t.view(-1,).repeat(x.shape[0],)),\n",
    "            torch.rand_like(x_1, device=device),\n",
    "            torch.linspace(0, 1, 10, device=device),\n",
    "            atol=1e-4,\n",
    "            rtol=1e-4,\n",
    "            method=\"dopri5\",\n",
    "        )\n",
    "        \n",
    "        out = traj[-1,:,:]\n",
    "        out = model.n_embed.decode(out).squeeze() * dm.n_max\n",
    "        out = out.cpu().detach().numpy()\n",
    "        predicted_lens = np.concatenate([predicted_lens, out])\n",
    "        actual_lens = np.concatenate([actual_lens, x_0_thin.unpadded_length.cpu().detach().numpy()])"
   ],
   "id": "a5fe82010cc0f33c",
   "outputs": [],
   "execution_count": 336
  },
  {
   "metadata": {
    "ExecuteTime": {
     "end_time": "2024-04-24T15:59:51.634598Z",
     "start_time": "2024-04-24T15:59:51.525735Z"
    }
   },
   "cell_type": "code",
   "source": "np.round(predicted_lens)",
   "id": "abc3279ff7f5a761",
   "outputs": [
    {
     "data": {
      "text/plain": [
       "array([20.,  9.,  8.,  9.,  6.,  6., 12., 19., 11., 26.,  5., 10.,  7.,\n",
       "       11.,  4., 18., 41., 16.,  9.,  7., 21., 47., 12., 18.,  9., 26.,\n",
       "        6., 16.,  9., 18., 37., 11.,  8., 23.,  8., 19., 13., 18., 17.,\n",
       "        9., 19., 26., 17., 30., 42.,  8., 32., 19., 16., 13., 11., 14.,\n",
       "       13., 24., 15., 22.,  7., 14., 13., 27., 36., 27., 31., 12., 20.,\n",
       "        7., 43., 28., 13., 15., 12., 10.,  6.,  7.,  9., 12.,  7.,  5.,\n",
       "       11., 12.,  6., 11., 47., 24., 21., 17., 29.,  2.,  8., 25., 17.,\n",
       "       16.,  5., 14.,  5., 19., 25., 17., 29., 11., 53.,  7., 39., 11.,\n",
       "       21., 15., 10., 16., 11.,  5.,  8., 12.,  8.,  8.,  9., 22., 38.,\n",
       "        7.,  9., 15.,  6., 12., 11., 12., 11., 16., 12., 10., 14., 12.,\n",
       "       15., 14., 12.,  5., 13.,  6., 10., 11.,  5.,  5., 27.,  4., 21.,\n",
       "        8., 25., 14.,  9., 64., 14., 38., 10.,  9.,  9., 86., 27.,  9.,\n",
       "       16.,  8., 12., 19., 15., 11., 13., 16., 12.,  4., 16., 24., 20.,\n",
       "       11., 14.,  7., 17.,  9., 17., 15.,  6., 12., 12.,  8., 16., 12.,\n",
       "       22., 14., 37., 15.,  6., 13., 13., 11., 30., 18.,  8.,  5.,  8.,\n",
       "       13.,  4.,  5., 13.,  5., 18., 13., 16.,  9.,  6., 13., 11., 15.,\n",
       "        6.,  4., 12., 11., 11., 29.,  6.,  9., 26., 15., 13., 13.,  5.,\n",
       "       16., 15.,  6., 12., 10.,  7., 14.,  7., 28., 11.,  4., 13., 11.,\n",
       "        8.,  7.,  7., 13.,  9., 24., 11.,  8., 13., 18., 14.,  6.,  6.,\n",
       "       26., 16.,  4., 10.,  5.,  4., 11., 10., 37., 40., 29., 11., 18.,\n",
       "       22.,  5., 13., 25.,  8.,  5., 26.,  9., 12., 10., 13.,  8.,  6.,\n",
       "       22.,  4., 32., 14., 20., 13., 15.,  8.,  3.,  8., 16., 21., 12.,\n",
       "        4., 23.,  7., 21., 14., 16.,  6., 16., 36., 12., 11., 33., 25.,\n",
       "        8.,  6.,  9., 10.,  9.,  5.,  9., 10., 15., 14., 28., 11., 18.,\n",
       "        8., 25., 30.,  9., 12., 10.,  8.,  8.,  4., 15., 10., 32.,  9.,\n",
       "       10., 12.,  5.,  8., 12.,  5.,  4., 33.,  8.,  9., 10., 48.,  6.,\n",
       "       18., 68., 12.,  8., 21.,  5., 19.,  6.,  9., 59.,  8., 18., 11.,\n",
       "        5.,  5., 18., 10., 25., 12.,  7.,  7.,  5.,  8.,  8., 26., 11.,\n",
       "       14.,  5., 10.,  7., 31., 11., 12.,  7., 15., 43.,  8.,  9., 13.,\n",
       "       26., 21., 13., 18.,  8.,  4.,  5., 10.,  7., 13., 18.,  8., 13.,\n",
       "       24., 10., 15., 18., 14., 15., 32., 30., 40., 15., 12., 24., 48.,\n",
       "        9.,  9.])"
      ]
     },
     "execution_count": 337,
     "metadata": {},
     "output_type": "execute_result"
    }
   ],
   "execution_count": 337
  },
  {
   "metadata": {
    "ExecuteTime": {
     "end_time": "2024-04-24T15:59:51.747741Z",
     "start_time": "2024-04-24T15:59:51.636586Z"
    }
   },
   "cell_type": "code",
   "source": "actual_lens",
   "id": "a831ad56d7d1f5d4",
   "outputs": [
    {
     "data": {
      "text/plain": [
       "array([ 44.,  21.,   1.,   7.,   9.,   7.,   4.,  24.,  12.,   7.,  11.,\n",
       "         8.,  11.,   1.,   1.,  27.,   1.,   1.,   1.,  18.,   1.,  19.,\n",
       "        29.,   3.,  15.,  13.,   4.,  15.,  10.,   8.,   4.,   1.,  19.,\n",
       "         8.,  14.,   2.,  13.,  10.,  15.,  43.,   5.,   4.,  33.,   7.,\n",
       "         5.,  26.,   1.,   1.,   8.,   1.,   1.,  11.,  15.,   5.,   6.,\n",
       "        11.,  29.,   6.,  39.,   1.,  24.,   6.,   5.,   7.,  11.,  10.,\n",
       "        17.,  15.,  25.,   6.,   1.,  13.,  19.,   1.,  13.,   1.,   4.,\n",
       "        29.,  17.,  30.,   2.,  11.,   9.,  19.,   1.,  18.,  53.,   3.,\n",
       "         1.,  14.,   8.,  16.,   1.,   5.,  13.,  10.,   1.,   1.,  14.,\n",
       "        19.,   1.,  14.,  11.,   9.,   8.,  23.,  13.,  12.,  28.,  28.,\n",
       "        17.,  38.,   9.,  16.,   1.,  11.,  29.,   5.,  18.,   1.,   1.,\n",
       "         9.,   2.,   7.,  27.,   5.,   2.,   9.,  35.,  12.,  13.,   1.,\n",
       "        15.,   3.,   2.,   3.,  21.,   3.,   7.,   1.,  14.,  24.,  12.,\n",
       "        42.,  12.,  21.,  11.,   6.,  27.,  34.,  13.,   1.,   1.,   5.,\n",
       "        17.,   7.,   8.,   1.,   1.,  13.,  20.,  30.,  11.,  31.,  13.,\n",
       "        18.,   8.,  16.,  16.,  35.,   5.,  28.,  24.,   3.,   8.,   1.,\n",
       "        12.,  13.,   4.,  19.,  48.,  49.,  11.,   7.,  37.,  20.,  10.,\n",
       "        11.,  28.,   7.,   3.,  10.,  34.,   4.,  11.,   1.,   5.,   4.,\n",
       "        66.,  16.,  10.,  10.,  16.,   8.,  12.,  25.,  14.,  12.,  34.,\n",
       "         1.,  12.,  10.,  12.,  11.,   9.,   6.,  18.,  17.,  12.,  25.,\n",
       "        45.,  35.,  12.,   2.,  24.,   5.,  82.,  11.,  16.,   1.,   1.,\n",
       "        19.,  15.,  20.,   9.,   7.,   2.,  14.,   3.,  14.,   9.,  34.,\n",
       "        20.,   6.,   1.,   1.,  51.,  28.,   3.,  13.,  12.,   6.,  12.,\n",
       "        10.,  20.,  14.,  11.,   7.,  16.,  19.,   6.,   7.,  13.,  12.,\n",
       "        15.,   9.,  20.,   4.,   9.,  19.,  11.,   5.,  21.,   8.,  14.,\n",
       "        18., 100.,  10.,  13.,  14.,  49.,  12.,   6.,   8.,  13.,   1.,\n",
       "        57.,  14.,  17.,   5.,  17.,  21.,  11.,   2.,  18.,  27.,   6.,\n",
       "        14.,  18.,  10.,  20.,  15.,   8.,   8.,   2.,  14.,  14.,  16.,\n",
       "         5.,  14.,  20.,  35.,  31.,  12.,   1.,  29.,  42.,  20.,  11.,\n",
       "        20.,   4.,  28.,  20.,   7.,  16.,   8.,   9.,   3.,   1.,   4.,\n",
       "        16.,   9.,  12.,   2.,   7.,   4.,   2.,   6.,   6.,  32.,  11.,\n",
       "        12.,   1.,   1.,  15.,   1.,   5.,  36.,  24.,  71.,  55.,   6.,\n",
       "         9.,  15.,  21.,   8.,   5.,   5.,  10.,   1.,   1.,  12.,  19.,\n",
       "        33.,  54.,  17.,   2.,   7.,  17.,  17.,  27.,   5.,  34.,  14.,\n",
       "         8.,   5.,  51.,  12.,  53.,   8.,  16.,  30.,  22.,   2.,  25.,\n",
       "        13.,   8.,   7.,  16.,  18.,   2.,  20.,   1.,   9.,  32.,   1.,\n",
       "        22.,   8.,   3.,   8.,   5.,   2.,   9.,  10.,  25.])"
      ]
     },
     "execution_count": 338,
     "metadata": {},
     "output_type": "execute_result"
    }
   ],
   "execution_count": 338
  },
  {
   "metadata": {
    "ExecuteTime": {
     "end_time": "2024-04-24T15:59:52.211979Z",
     "start_time": "2024-04-24T15:59:52.080316Z"
    }
   },
   "cell_type": "code",
   "source": "np.mean(abs(actual_lens - predicted_lens))",
   "id": "66da38540c5c8bef",
   "outputs": [
    {
     "data": {
      "text/plain": [
       "11.804365136299603"
      ]
     },
     "execution_count": 339,
     "metadata": {},
     "output_type": "execute_result"
    }
   ],
   "execution_count": 339
  },
  {
   "metadata": {
    "ExecuteTime": {
     "end_time": "2024-04-24T15:59:53.198746Z",
     "start_time": "2024-04-24T15:59:53.091010Z"
    }
   },
   "cell_type": "code",
   "source": [
    "\"\"\"node = NeuralODE(\n",
    "                    torch_wrapper(model.mlp), solver=\"dopri5\", sensitivity=\"adjoint\", atol=1e-4, rtol=1e-4\n",
    "                )\n",
    "with torch.no_grad():\n",
    "    traj = node.trajectory(\n",
    "        torch.rand(size = (1000,16), device = device),\n",
    "        t_span=torch.linspace(0, 1, 20),\n",
    "    )\n",
    "    \n",
    "out = traj[-1,:,:]\n",
    "out = model.n_embed.decode(out).squeeze() * dm.n_max\n",
    "out = out.cpu().detach().numpy()\n",
    "\"\"\""
   ],
   "id": "897dd40e184da294",
   "outputs": [
    {
     "data": {
      "text/plain": [
       "'node = NeuralODE(\\n                    torch_wrapper(model.mlp), solver=\"dopri5\", sensitivity=\"adjoint\", atol=1e-4, rtol=1e-4\\n                )\\nwith torch.no_grad():\\n    traj = node.trajectory(\\n        torch.rand(size = (1000,16), device = device),\\n        t_span=torch.linspace(0, 1, 20),\\n    )\\n    \\nout = traj[-1,:,:]\\nout = model.n_embed.decode(out).squeeze() * dm.n_max\\nout = out.cpu().detach().numpy()\\n'"
      ]
     },
     "execution_count": 340,
     "metadata": {},
     "output_type": "execute_result"
    }
   ],
   "execution_count": 340
  },
  {
   "metadata": {
    "ExecuteTime": {
     "end_time": "2024-04-24T15:59:53.944953Z",
     "start_time": "2024-04-24T15:59:53.728342Z"
    }
   },
   "cell_type": "code",
   "source": [
    "#plot histogram of out\n",
    "plt.hist(predicted_lens)\n",
    "plt.show()"
   ],
   "id": "e4fd726de44f6fd6",
   "outputs": [
    {
     "data": {
      "text/plain": [
       "<Figure size 640x480 with 1 Axes>"
      ],
      "image/png": "[encoded data removed]"
     },
     "metadata": {},
     "output_type": "display_data"
    }
   ],
   "execution_count": 341
  },
  {
   "metadata": {
    "ExecuteTime": {
     "end_time": "2024-04-24T15:59:54.647251Z",
     "start_time": "2024-04-24T15:59:54.527545Z"
    }
   },
   "cell_type": "code",
   "source": [
    "from scipy.stats import wasserstein_distance\n",
    "actual = seq_lens/dm.n_max\n",
    "predicted = predicted_lens/dm.n_max\n",
    "result = wasserstein_distance(actual, predicted)\n",
    "print(\"Wasserstein Distance is: \", result)\n"
   ],
   "id": "5a60035e586ce71e",
   "outputs": [
    {
     "name": "stdout",
     "output_type": "stream",
     "text": [
      "Wasserstein Distance is:  0.01244014417361426\n"
     ]
    }
   ],
   "execution_count": 342
  },
  {
   "metadata": {
    "ExecuteTime": {
     "end_time": "2024-04-24T14:29:24.965372Z",
     "start_time": "2024-04-24T14:29:24.959296Z"
    }
   },
   "cell_type": "code",
   "source": "",
   "id": "92f32697d8e86c8d",
   "outputs": [],
   "execution_count": 218
  },
  {
   "metadata": {
    "ExecuteTime": {
     "end_time": "2024-04-23T14:29:36.492534Z",
     "start_time": "2024-04-23T14:29:36.312467Z"
    }
   },
   "cell_type": "code",
   "source": [
    "\n",
    "\n",
    "n = torch.randint(low = 0,high=1,size=(len(batch),), device=batch.time.device)\n",
    "#n[:l//3] = n[:l//3] * 3\n",
    "#n[l//3:2*l//3] =  n[l//3:2*l//3] * 2\n",
    "#n[2*l//3:] = n[2*l//3:] * 1\n",
    "n = n/10\n",
    "x_n, x_0_thin, x_0_kept, hpp_thinned, hpp_kept = add_thin_model.noise(x_0=batch, n=n)\n",
    "x_n.to(device)\n",
    "x_0_thin.to(device)\n",
    "context_embs = context(x_n,n)\n",
    "\n",
    "x_recon = vae.sample(context_embs)\n",
    "lens = torch.round(140 * x_recon)\n",
    "lens = lens.squeeze()\n",
    "actual_lens = x_0_thin.mask.sum(-1).float()"
   ],
   "id": "d9a0a0627dd9cbc0",
   "outputs": [
    {
     "ename": "NameError",
     "evalue": "name 'context' is not defined",
     "output_type": "error",
     "traceback": [
      "\u001B[1;31m---------------------------------------------------------------------------\u001B[0m",
      "\u001B[1;31mNameError\u001B[0m                                 Traceback (most recent call last)",
      "Cell \u001B[1;32mIn[554], line 9\u001B[0m\n\u001B[0;32m      7\u001B[0m x_n\u001B[38;5;241m.\u001B[39mto(device)\n\u001B[0;32m      8\u001B[0m x_0_thin\u001B[38;5;241m.\u001B[39mto(device)\n\u001B[1;32m----> 9\u001B[0m context_embs \u001B[38;5;241m=\u001B[39m \u001B[43mcontext\u001B[49m(x_n,n)\n\u001B[0;32m     11\u001B[0m x_recon \u001B[38;5;241m=\u001B[39m vae\u001B[38;5;241m.\u001B[39msample(context_embs)\n\u001B[0;32m     12\u001B[0m lens \u001B[38;5;241m=\u001B[39m torch\u001B[38;5;241m.\u001B[39mround(\u001B[38;5;241m140\u001B[39m \u001B[38;5;241m*\u001B[39m x_recon)\n",
      "\u001B[1;31mNameError\u001B[0m: name 'context' is not defined"
     ]
    }
   ],
   "execution_count": 554
  },
  {
   "metadata": {},
   "cell_type": "code",
   "source": "",
   "id": "2ebbd7e87a0b1148",
   "outputs": [],
   "execution_count": null
  },
  {
   "metadata": {},
   "cell_type": "code",
   "source": "lens",
   "id": "d8a525208d5e476c",
   "outputs": [],
   "execution_count": null
  },
  {
   "metadata": {},
   "cell_type": "code",
   "source": "abs(lens - actual_lens)",
   "id": "724e3f117d614f27",
   "outputs": [],
   "execution_count": null
  },
  {
   "metadata": {},
   "cell_type": "code",
   "source": "n",
   "id": "c5fb020f8ce8b101",
   "outputs": [],
   "execution_count": null
  },
  {
   "metadata": {
    "ExecuteTime": {
     "end_time": "2024-04-18T08:33:51.620879Z",
     "start_time": "2024-04-18T08:33:51.496193Z"
    }
   },
   "cell_type": "code",
   "source": "lens[-12]",
   "id": "a4c0d1cf153f2159",
   "outputs": [
    {
     "data": {
      "text/plain": [
       "tensor(55., device='cuda:0', grad_fn=<SelectBackward0>)"
      ]
     },
     "execution_count": 65,
     "metadata": {},
     "output_type": "execute_result"
    }
   ],
   "execution_count": 65
  },
  {
   "metadata": {
    "ExecuteTime": {
     "end_time": "2024-04-18T08:33:53.458472Z",
     "start_time": "2024-04-18T08:33:53.345750Z"
    }
   },
   "cell_type": "code",
   "source": "actual_lens[-12]",
   "id": "30affb750c28efaa",
   "outputs": [
    {
     "data": {
      "text/plain": [
       "tensor(116., device='cuda:0')"
      ]
     },
     "execution_count": 66,
     "metadata": {},
     "output_type": "execute_result"
    }
   ],
   "execution_count": 66
  },
  {
   "metadata": {
    "ExecuteTime": {
     "end_time": "2024-04-17T15:33:59.937644Z",
     "start_time": "2024-04-17T15:33:59.816806Z"
    }
   },
   "cell_type": "code",
   "source": "x_0_thin.unpadded_length",
   "id": "84d2b352ffbb47ec",
   "outputs": [
    {
     "data": {
      "text/plain": [
       "tensor([ 34,  35,  43, 103,  59,  99,   8,  72,  93,  14,  31,  31,  19,  79,\n",
       "         77,  68,  22,  83,  52,  20,  66,  67,  72,  26,  70,  22,  12,  59,\n",
       "         58,  66,  95,  57,   9,  18,  63,  90], device='cuda:0')"
      ]
     },
     "execution_count": 152,
     "metadata": {},
     "output_type": "execute_result"
    }
   ],
   "execution_count": 152
  },
  {
   "metadata": {
    "ExecuteTime": {
     "end_time": "2024-04-23T14:12:55.650100Z",
     "start_time": "2024-04-23T14:12:55.376030Z"
    }
   },
   "cell_type": "code",
   "source": [
    "#visualise loss_list\n",
    "import matplotlib.pyplot as plt\n",
    "plt.plot(val_loss_list)\n",
    "plt.show()"
   ],
   "id": "7c90a515014f5d24",
   "outputs": [
    {
     "data": {
      "text/plain": [
       "<Figure size 640x480 with 1 Axes>"
      ],
      "image/png": "[encoded data removed]"
     },
     "metadata": {},
     "output_type": "display_data"
    }
   ],
   "execution_count": 523
  },
  {
   "metadata": {
    "ExecuteTime": {
     "end_time": "2024-04-15T05:36:58.962632Z",
     "start_time": "2024-04-15T05:36:58.837968Z"
    }
   },
   "cell_type": "code",
   "source": "print(x_n)",
   "id": "c9ece8858493b9ca",
   "outputs": [
    {
     "name": "stdout",
     "output_type": "stream",
     "text": [
      "<add_thin.data.Batch object at 0x0000022128750410>\n"
     ]
    }
   ],
   "execution_count": 683
  },
  {
   "metadata": {
    "ExecuteTime": {
     "end_time": "2024-04-14T10:57:47.863074Z",
     "start_time": "2024-04-14T10:57:47.764682Z"
    }
   },
   "cell_type": "code",
   "source": [
    "a = Time_embed(64).to(device)\n",
    "out = a(x_n.to(device))"
   ],
   "id": "ec0880ed08b48ce",
   "outputs": [],
   "execution_count": 456
  },
  {
   "metadata": {
    "ExecuteTime": {
     "end_time": "2024-04-14T10:57:47.957260Z",
     "start_time": "2024-04-14T10:57:47.864067Z"
    }
   },
   "cell_type": "code",
   "source": [
    "n_events = x_n.mask.sum(-1)\n",
    "seq_emb = out.sum(1) / torch.clamp(n_events[..., None], min=1)"
   ],
   "id": "f01dcb20e3e56708",
   "outputs": [],
   "execution_count": 457
  },
  {
   "metadata": {
    "ExecuteTime": {
     "end_time": "2024-04-14T10:57:48.052158Z",
     "start_time": "2024-04-14T10:57:47.959249Z"
    }
   },
   "cell_type": "code",
   "source": "seq_emb.shape",
   "id": "95772aefeca9abc3",
   "outputs": [
    {
     "data": {
      "text/plain": [
       "torch.Size([3, 64])"
      ]
     },
     "execution_count": 458,
     "metadata": {},
     "output_type": "execute_result"
    }
   ],
   "execution_count": 458
  },
  {
   "metadata": {
    "ExecuteTime": {
     "end_time": "2024-04-08T08:11:02.643622Z",
     "start_time": "2024-04-08T08:11:02.638786Z"
    }
   },
   "cell_type": "code",
   "source": "",
   "id": "bd62c4039ef0f96",
   "outputs": [],
   "execution_count": 116
  },
  {
   "metadata": {
    "ExecuteTime": {
     "end_time": "2024-04-08T08:11:03.304093Z",
     "start_time": "2024-04-08T08:11:03.296030Z"
    }
   },
   "cell_type": "code",
   "source": "out = seq_emb.cpu().detach().numpy()\n",
   "id": "c0a59561ee1b9779",
   "outputs": [],
   "execution_count": 117
  },
  {
   "metadata": {
    "ExecuteTime": {
     "end_time": "2024-04-08T08:11:03.911738Z",
     "start_time": "2024-04-08T08:11:03.897936Z"
    }
   },
   "cell_type": "code",
   "source": [
    "out = out\n",
    "#use pca to reduce the dimentionality to 1\n",
    "from sklearn.decomposition import PCA\n",
    "pca = PCA(n_components=2)\n",
    "out = pca.fit_transform(out)"
   ],
   "id": "dda43b4698a4e9c2",
   "outputs": [],
   "execution_count": 118
  },
  {
   "metadata": {
    "ExecuteTime": {
     "end_time": "2024-04-08T08:11:04.532831Z",
     "start_time": "2024-04-08T08:11:04.431231Z"
    }
   },
   "cell_type": "code",
   "source": [
    "import matplotlib.pyplot as plt\n",
    "plt.scatter(out[:, 0], out[:, 1])\n",
    "plt.show()"
   ],
   "id": "785cb7ad11d0ccfd",
   "outputs": [
    {
     "data": {
      "text/plain": [
       "<Figure size 640x480 with 1 Axes>"
      ],
      "image/png": "[encoded data removed]"
     },
     "metadata": {},
     "output_type": "display_data"
    }
   ],
   "execution_count": 119
  },
  {
   "metadata": {
    "ExecuteTime": {
     "end_time": "2024-04-08T08:11:19.943284Z",
     "start_time": "2024-04-08T08:11:19.927127Z"
    }
   },
   "cell_type": "code",
   "source": "n",
   "id": "c95dc040229899a1",
   "outputs": [
    {
     "data": {
      "text/plain": [
       "tensor([0.8358, 0.0250, 0.6410, 0.1521, 0.4747, 0.6352, 0.3023, 0.2649, 0.1605,\n",
       "        0.4678, 0.8366, 0.7202, 0.9508, 0.3766, 0.2682, 0.8674, 0.3451, 0.5874,\n",
       "        0.2183, 0.1826, 0.7248, 0.3450, 0.2473, 0.8571, 0.7182, 0.5346, 0.4406,\n",
       "        0.2463, 0.7848, 0.1910, 0.0552, 0.8151])"
      ]
     },
     "execution_count": 120,
     "metadata": {},
     "output_type": "execute_result"
    }
   ],
   "execution_count": 120
  },
  {
   "metadata": {},
   "cell_type": "code",
   "outputs": [],
   "execution_count": null,
   "source": "",
   "id": "f4d1400d00594251"
  },
  {
   "metadata": {},
   "cell_type": "code",
   "outputs": [],
   "execution_count": null,
   "source": [
    "class GaussianMixtures(nn.Module):\n",
    "    def __init__(self, n_components):\n",
    "        super(GaussianMixtures, self).__init__()\n",
    "        self.n_components = n_components\n",
    "        mus = torch.randn(size=(n_components,), requires_grad=True)\n",
    "        sigmas = torch.abs(torch.randn(size=(n_components,), requires_grad=True))\n",
    "        weights = torch.abs(torch.randn(size=(n_components,), requires_grad=True))\n",
    "        self.mus = nn.Parameter(mus)\n",
    "        self.sigmas = nn.Parameter(sigmas)\n",
    "        self.weights = nn.Parameter(weights)\n",
    "        \n",
    "        \n",
    "        \n",
    "    def forward(self, seq_lens):\n",
    "        mix = D.Categorical(probs=F.relu(self.weights))\n",
    "        comp = D.Normal(loc=self.mus, scale=self.sigmas)\n",
    "        mixture = D.MixtureSameFamily(mix, comp)\n",
    "        log_probs = mixture.log_prob(seq_lens).mean()\n",
    "        return log_probs\n",
    "    \n",
    "    def sample(self, n_samples):\n",
    "        mix = D.Categorical(probs=F.relu(self.weights))\n",
    "        comp = D.Normal(loc=self.mus, scale=self.sigmas)\n",
    "        mixture = D.MixtureSameFamily(mix, comp)\n",
    "        samples = mixture.sample((n_samples,))\n",
    "        return samples\n",
    "        \n",
    "    \n",
    "    "
   ],
   "id": "99f644a89638ae8a"
  },
  {
   "metadata": {},
   "cell_type": "code",
   "outputs": [],
   "execution_count": null,
   "source": [
    "from typing import Tuple\n",
    "\n",
    "import torch\n",
    "import torch.distributions as D\n",
    "import torch.nn as nn\n",
    "import warnings\n",
    "from torch.distributions import MixtureSameFamily\n",
    "from torchtyping import TensorType, patch_typeguard\n",
    "from typeguard import typechecked\n",
    "\n",
    "from add_thin.data import Batch\n",
    "from add_thin.distributions.densities import DISTRIBUTIONS\n",
    "\n",
    "patch_typeguard()\n",
    "\n",
    "\n",
    "@typechecked\n",
    "class MixtureIntensity(nn.Module):\n",
    "    \"\"\"\n",
    "    Class parameterizing the intensity function as a weighted mixture of distributions.\n",
    "\n",
    "    Parameters:\n",
    "    ----------\n",
    "    n_components : int, optional\n",
    "        Number of components to use in the mixture, by default 10\n",
    "    embedding_size : int, optional\n",
    "        Size of the event embedding, by default 128\n",
    "    distribution : str, optional\n",
    "        Distribution to use for the components, by default \"normal\"\n",
    "\n",
    "    \"\"\"\n",
    "\n",
    "    def __init__(\n",
    "        self,\n",
    "        n_components: int = 10,\n",
    "        embedding_size: int = 128,\n",
    "        distribution: str = \"normal\",\n",
    "    ) -> None:\n",
    "        super().__init__()\n",
    "\n",
    "        assert (\n",
    "            distribution in DISTRIBUTIONS.keys()\n",
    "        ), f\"{distribution} not in {DISTRIBUTIONS.keys()}\"\n",
    "        self.w_activation = torch.nn.Softplus()\n",
    "        self.distribution = DISTRIBUTIONS[distribution]\n",
    "\n",
    "        # Parallel compute parameters weight, mu and sigma for n components with one MLP\n",
    "        self.n_components = n_components\n",
    "        self.mlp = nn.Sequential(\n",
    "            nn.Linear(embedding_size, embedding_size),\n",
    "            nn.ReLU(),\n",
    "            nn.Linear(embedding_size, 3 * n_components),\n",
    "        )\n",
    "        self.rejections_sample_multiple = 2\n",
    "\n",
    "    def get_intensity_parameters(\n",
    "        self,\n",
    "        embs\n",
    "    ):\n",
    "        \"\"\"\n",
    "        Compute the parameters of the intensity function.\n",
    "\n",
    "        Parameters:\n",
    "        ----------\n",
    "        x_n : Batch\n",
    "            Batch of event sequences to condition on\n",
    "        event_emb : TensorType[float, \"batch\", \"seq\", \"embedding\"]\n",
    "            Context embedding of the events\n",
    "        dif_time_emb : TensorType[float, \"batch\", \"embedding\"]\n",
    "            Embedding of the diffusion time\n",
    "\n",
    "        Returns:\n",
    "        -------\n",
    "        location, scale, weight: List[TensorType]\n",
    "            The parameters of the intensity function\n",
    "        \"\"\"\n",
    "\n",
    "        # Compute masked mean over sequence (zero padded)\n",
    "\n",
    "        parameters = self.mlp(embs)\n",
    "        return torch.split(\n",
    "            parameters,\n",
    "            [self.n_components, self.n_components, self.n_components],\n",
    "            dim=-1,\n",
    "        )\n",
    "\n",
    "    def get_distribution(\n",
    "        self,\n",
    "        embs,\n",
    "        x_n,\n",
    "        L,\n",
    "    ):\n",
    "        \"\"\"\n",
    "        Instantiate the mixture-distribution parameterizing the intensity function.\n",
    "\n",
    "        Parameters:\n",
    "        ----------\n",
    "        event_emb : TensorType[float, \"batch\", \"seq\", \"embedding\"]\n",
    "            Context embedding of the events\n",
    "        dif_time_emb : TensorType[float, \"batch\", \"embedding\"]\n",
    "            Embedding of the diffusion time\n",
    "        x_n : Batch\n",
    "            Batch of event sequences to condition on\n",
    "        L : int\n",
    "            Maximum sequence length\n",
    "\n",
    "        Returns:\n",
    "        -------\n",
    "        density, cumulative_intensity: Tuple[D.MixtureSameFamily, TensorType[float, \"batch\"]]\n",
    "            The distribution and the cumulative intensity\n",
    "        \"\"\"\n",
    "        location, scale, weight = self.get_intensity_parameters(\n",
    "            embs\n",
    "        )\n",
    "\n",
    "        # Include the number of events in x_n for the cumulative intensity\n",
    "        weight = self.w_activation(weight)\n",
    "        cumulative_intensity = (weight).sum(-1) * (x_n.mask.sum(-1) + 1)\n",
    "\n",
    "        # Probs is normalized to sum to 1\n",
    "        mixture_dist = D.Categorical(probs=weight.unsqueeze(1).repeat(1, L, 1))\n",
    "\n",
    "        # Distribution parameters are the same for each sequence element\n",
    "        component_dist = self.distribution(\n",
    "            location.unsqueeze(1).repeat(1, L, 1),\n",
    "            scale.unsqueeze(1).repeat(1, L, 1),\n",
    "        )\n",
    "        return (\n",
    "            MixtureSameFamily(mixture_dist, component_dist),\n",
    "            cumulative_intensity,\n",
    "        )\n",
    "\n",
    "    def log_likelihood(\n",
    "        self,\n",
    "        x_0,\n",
    "        embs,\n",
    "        x_n,\n",
    "    ):\n",
    "        \"\"\"\n",
    "        Compute the log-likelihood of the event sequences.\n",
    "\n",
    "        Parameters:\n",
    "        ----------\n",
    "        x_0 : Batch\n",
    "            Batch of event sequences\n",
    "        event_emb : TensorType[float, \"batch\", \"seq\", \"embedding\"]\n",
    "            Context embedding of the events\n",
    "        dif_time_emb : TensorType[float, \"batch\", \"embedding\"]\n",
    "            Embedding of the diffusion time\n",
    "        x_n : Batch\n",
    "            Batch of event sequences to condition on\n",
    "\n",
    "        Returns:\n",
    "        -------\n",
    "        log_likelihood: TensorType[float, \"batch\"]\n",
    "            The log-likelihood of the event sequences\n",
    "        \"\"\"\n",
    "        density, cif = self.get_distribution(\n",
    "            embs=embs,\n",
    "            x_n=x_n,\n",
    "            L=x_0.seq_len,\n",
    "        )\n",
    "\n",
    "        # Normalize event time to [0, 1]\n",
    "        x = x_0.time / x_0.tmax\n",
    "\n",
    "        # Compute log-intensity with re-weighting\n",
    "        log_intensity = (\n",
    "            (density.log_prob(x) + torch.log(cif)[..., None]) * x_0.mask\n",
    "        ).sum(-1)\n",
    "\n",
    "        # Compute CIF for normalization\n",
    "        cdf = density.cdf(torch.ones_like(x)).mean(1)\n",
    "        cif = cif * cdf  # Rescale between 0 and T\n",
    "\n",
    "        return log_intensity - cif\n",
    "\n",
    "    def sample(\n",
    "        self,\n",
    "        embs,\n",
    "        n_samples,\n",
    "        x_n,\n",
    "    ):\n",
    "        \"\"\"\n",
    "        Sample event sequences from the intensity function.\n",
    "\n",
    "        Parameters:\n",
    "        ----------\n",
    "        event_emb : TensorType[float, \"batch\", \"seq\", \"embedding\"]\n",
    "            Context embedding of the events\n",
    "        dif_time_emb : TensorType[float, \"batch\", \"embedding\"]\n",
    "            Embedding of the diffusion time\n",
    "        n_samples : int\n",
    "            Number of samples to draw\n",
    "        x_n : Batch\n",
    "            Batch of event sequences to condition on\n",
    "\n",
    "        Returns:\n",
    "        -------\n",
    "        Batch\n",
    "            The sampled event sequences\n",
    "        \"\"\"\n",
    "        tmax = x_n.tmax\n",
    "        density, cif = self.get_distribution(\n",
    "            embs=embs,\n",
    "            x_n=x_n,\n",
    "            L=1,\n",
    "        )\n",
    "\n",
    "        # Get number of points per sample sequence from CIF\n",
    "        count_distribution = D.Poisson(\n",
    "            rate=cif * density.cdf(torch.ones_like(x_n.time)).mean().squeeze()\n",
    "        )\n",
    "        sequence_len = (\n",
    "            count_distribution.sample((n_samples,)).squeeze()\n",
    "        ).long()\n",
    "\n",
    "        # TODO implement smarter truncated normal, without rejection sampling.\n",
    "       \n",
    "\n",
    "        return sequence_len"
   ],
   "id": "bcba6bf37ee2a06"
  },
  {
   "metadata": {},
   "cell_type": "code",
   "outputs": [],
   "execution_count": null,
   "source": [
    "\n",
    "    \n",
    "class MLP(nn.Module):\n",
    "    def __init__(self, input_size, hidden_size, num_classes):\n",
    "        super(MLP, self).__init__()\n",
    "        self.fc1 = nn.Linear(input_size, hidden_size)\n",
    "        self.fc2 = nn.Linear(hidden_size, num_classes)\n",
    "        \n",
    "    def forward(self, x):\n",
    "        x = F.relu(self.fc1(x))\n",
    "        x = self.fc2(x)\n",
    "        return F.sigmoid(x)\n",
    "        \n",
    "        "
   ],
   "id": "1d0a45c494d12bfe"
  },
  {
   "metadata": {},
   "cell_type": "code",
   "outputs": [],
   "execution_count": null,
   "source": [
    "#set detect anomaly to True\n",
    "with torch.autograd.detect_anomaly():\n",
    "    train_loss_list = []\n",
    "    val_loss_list = []\n",
    "    for epoch in tqdm(range(200)):\n",
    "        train_batch_list = []\n",
    "        for batch in train_loader:\n",
    "            \n",
    "            optimizer.zero_grad()\n",
    "            n = torch.randint(low = 1, high = 10, size=(len(batch),), device=batch.time.device)\n",
    "            #n = torch.ones_like(n) * 3\n",
    "            #l = n.shape[0]\n",
    "            #n[:l//3] =a n[:l//3] * 3\n",
    "            #n[l//3:2*l//3] =  n[l//3:2*l//3] * 2\n",
    "            #n[2*l//3:] = n[2*l//3:] * 1\n",
    "            n = n/10 \n",
    "            x_n, x_0_thin, x_0_kept, hpp_thinned, hpp_kept = add_thin_model.noise(x_0=batch, n=n)\n",
    "            x_n.to(device)\n",
    "            x_0_thin.to(device)\n",
    "            preds = model(x_n,n)\n",
    "            preds = 140 * preds\n",
    "            \n",
    "            #mse loss between x_o_thin and preds\n",
    "            loss = F.mse_loss(preds.squeeze(), x_0_thin.unpadded_length.float())\n",
    "            #loss = 0\n",
    "            loss.backward()\n",
    "            optimizer.step()\n",
    "            # if epoch is divisble by 100 print the loss\n",
    "                \n",
    "            train_batch_list.append(loss.item())\n",
    "            \n",
    "        with torch.no_grad():\n",
    "            #evaluate on val_loader\n",
    "            val_batch_list = []\n",
    "            for batch in val_loader:\n",
    "                n = torch.randint(low = 5, high = 10, size=(len(batch),), device=batch.time.device)\n",
    "                n = n/10\n",
    "                x_n, x_0_thin, x_0_kept, hpp_thinned, hpp_kept = add_thin_model.noise(x_0=batch, n=n)\n",
    "                x_n.to(device)\n",
    "                x_0_thin.to(device)\n",
    "                preds = model(x_n,n)\n",
    "                preds = 140 * preds\n",
    "                loss = F.mse_loss(preds.squeeze(), x_0_thin.unpadded_length.float())\n",
    "                val_batch_list.append(loss.item())\n",
    "            print(\"epoch: \", epoch, \"val_loss: \", sum(val_batch_list)/len(val_batch_list))\n",
    "            \n",
    "        train_loss_list.append(sum(train_batch_list)/len(train_batch_list))\n",
    "        val_loss_list.append(sum(val_batch_list)/len(val_batch_list))\n",
    "        if epoch % 10 == 0:\n",
    "                #print(\"epoch: \", epoch, \"train_loss: \", train_loss_list[-1])\n",
    "                print(\"epoch: \", epoch, \"val_loss: \", val_loss_list[-1])\n",
    "        \n",
    "        "
   ],
   "id": "f9c1295e9b1508fe"
  },
  {
   "metadata": {},
   "cell_type": "code",
   "outputs": [],
   "execution_count": null,
   "source": [
    "import torch\n",
    "import torch.nn as nn\n",
    "import torch.nn.functional as F\n",
    "from torch.distributions import Normal\n",
    "\n",
    "class CVAE1D(nn.Module):\n",
    "    def __init__(self, input_dim, hidden_dim=64):\n",
    "        super(CVAE1D, self).__init__()\n",
    "        self.input_dim = input_dim\n",
    "        self.hidden_dim = hidden_dim\n",
    "\n",
    "        # Encoder layers\n",
    "        self.encoder_fc1 = nn.Linear(2*input_dim, hidden_dim)\n",
    "        self.encoder_fc2_mean = nn.Linear(hidden_dim, hidden_dim)\n",
    "        self.encoder_fc2_logvar = nn.Linear(hidden_dim, hidden_dim)\n",
    "\n",
    "        # Decoder layers\n",
    "        self.decoder_fc1 = nn.Linear(hidden_dim + input_dim, hidden_dim)\n",
    "        self.decoder_fc2 = nn.Linear(hidden_dim, 1)\n",
    "\n",
    "    def encode(self, x, context):\n",
    "        # Concatenate input x with context embeddings\n",
    "        x = torch.cat([x, context], dim=1)\n",
    "        #x = context\n",
    "        x = F.relu(self.encoder_fc1(x))\n",
    "        z_mean = self.encoder_fc2_mean(x)\n",
    "        z_logvar = self.encoder_fc2_logvar(x)\n",
    "        return z_mean, z_logvar\n",
    "\n",
    "    def reparameterize(self, mean, logvar):\n",
    "        std = torch.exp(0.5 * logvar)\n",
    "        eps = torch.randn_like(std)\n",
    "        return mean + eps * std\n",
    "\n",
    "    def decode(self, z, context):\n",
    "        # Concatenate latent z with context embeddings\n",
    "        z = torch.cat([z, context], dim=1)\n",
    "        z = F.relu(self.decoder_fc1(z))\n",
    "        x_recon = torch.sigmoid(self.decoder_fc2(z))  # Sigmoid activation for output\n",
    "        return x_recon\n",
    "\n",
    "    def forward(self, x,context):\n",
    "        # Encode\n",
    "        z_mean, z_logvar = self.encode(x,context)\n",
    "        # Reparameterize\n",
    "        z = self.reparameterize(z_mean, z_logvar)\n",
    "        # Decode\n",
    "        x_recon = self.decode(z, context)\n",
    "        return x_recon, z_mean, z_logvar\n",
    "\n",
    "    def sample(self, context):\n",
    "        # Sample from the prior and decode\n",
    "        num_samples = context.size(0)\n",
    "        z = torch.randn([num_samples, self.hidden_dim]).to(context.device)\n",
    "        x_recon = self.decode(z, context)\n",
    "        return x_recon\n"
   ],
   "id": "ab10c83274df704b"
  },
  {
   "metadata": {},
   "cell_type": "code",
   "outputs": [],
   "execution_count": null,
   "source": "",
   "id": "fa0d5acf6fc853b"
  },
  {
   "metadata": {},
   "cell_type": "code",
   "outputs": [],
   "execution_count": null,
   "source": [
    "def plot_gmm_components(model):\n",
    "    mus = model.mus.detach().numpy()\n",
    "    sigmas = model.sigmas.detach().numpy()\n",
    "    weights = F.relu(model.weights).detach().numpy()\n",
    "\n",
    "    # Plot individual Gaussian components\n",
    "    plt.figure(figsize=(8, 6))\n",
    "    for i in range(model.n_components):\n",
    "        mean = mus[i]\n",
    "        std_dev = sigmas[i]\n",
    "        weight = weights[i]\n",
    "\n",
    "        x = np.linspace(mean - 3 * std_dev, mean + 3 * std_dev, 100)\n",
    "        y = weight * np.exp(-0.5 * ((x - mean) / std_dev) ** 2) / (np.sqrt(2 * np.pi) * std_dev)\n",
    "        plt.plot(x, y, label=f\"Component {i+1}\", linewidth=2)\n",
    "\n",
    "    plt.title(\"Gaussian Mixture Model Components\")\n",
    "    plt.xlabel(\"Value\")\n",
    "    plt.ylabel(\"Density\")\n",
    "    plt.legend()\n",
    "    plt.show()"
   ],
   "id": "fd46f8100e7a5e37"
  },
  {
   "metadata": {},
   "cell_type": "code",
   "outputs": [],
   "execution_count": null,
   "source": "",
   "id": "31264ea5d3a13de6"
  },
  {
   "metadata": {},
   "cell_type": "code",
   "outputs": [],
   "execution_count": null,
   "source": [
    "#set detect anomaly to True\n",
    "with torch.autograd.detect_anomaly():\n",
    "    train_loss_list = []\n",
    "    val_loss_list = []\n",
    "    for epoch in tqdm(range(1000)):\n",
    "        train_batch_list = []\n",
    "        for batch in train_loader:\n",
    "            optimizer.zero_grad()\n",
    "            n = torch.randint(low = 0, high = 10, size=(len(batch),), device=batch.time.device) * 0\n",
    "            n = n/10 \n",
    "            x_n, x_0_thin, x_0_kept, hpp_thinned, hpp_kept = add_thin_model.noise(x_0=batch, n=n)\n",
    "            x_n.to(device)\n",
    "            x_0_thin.to(device)\n",
    "            x_0_thin_lens = x_0_thin.unpadded_length\n",
    "            x_0_thin_lens = x_0_thin_lens.float()\n",
    "            len_embs = n_embed(x_0_thin_lens).squeeze(1)\n",
    "            x0 = torch.rand_like(len_embs)\n",
    "            x1 = len_embs\n",
    "            t, xt, ut = FM.sample_location_and_conditional_flow(x0, x1)\n",
    "            t = t.to(device)\n",
    "            xt = xt.to(device)\n",
    "            ut = ut.to(device)\n",
    "            vt = model(torch.cat([xt, t[:, None]], dim=-1))\n",
    "            loss = torch.mean((vt - ut) ** 2)\n",
    "            reconstruct_loss = F.mse_loss(embs_to_len(len_embs).squeeze(), x_0_thin_lens)\n",
    "            loss = loss + reconstruct_loss\n",
    "            loss.backward()\n",
    "            optimizer.step()\n",
    "            train_batch_list.append(loss.item())\n",
    "            \n",
    "        with torch.no_grad():\n",
    "            #evaluate on val_loader\n",
    "            val_batch_list = []\n",
    "            for batch in val_loader:\n",
    "                n = torch.randint(low = 0, high = 10, size=(len(batch),), device=batch.time.device) * 0\n",
    "                n = n/10\n",
    "                x_n, x_0_thin, x_0_kept, hpp_thinned, hpp_kept = add_thin_model.noise(x_0=batch, n=n)\n",
    "                x_n.to(device)\n",
    "                x_0_thin.to(device)\n",
    "                x_0_thin_lens = x_0_thin.unpadded_length\n",
    "                x_0_thin_lens = x_0_thin_lens.float()\n",
    "                len_embs = n_embed(x_0_thin_lens).squeeze(1)\n",
    "                x0 = torch.rand_like(len_embs)\n",
    "                x1 = len_embs\n",
    "                t, xt, ut = FM.sample_location_and_conditional_flow(x0, x1)\n",
    "                t = t.to(device)\n",
    "                xt = xt.to(device)\n",
    "                ut = ut.to(device)\n",
    "                vt = model(torch.cat([xt, t[:, None]], dim=-1))\n",
    "                loss = torch.mean((vt - ut) ** 2)\n",
    "                reconstruct_loss = F.mse_loss(embs_to_len(len_embs).squeeze(), x_0_thin_lens)\n",
    "                loss = loss + reconstruct_loss\n",
    "                val_batch_list.append(loss.item())\n",
    "                \n",
    "            \n",
    "        train_loss_list.append(sum(train_batch_list)/len(train_batch_list))\n",
    "        val_loss_list.append(sum(val_batch_list)/len(val_batch_list))\n",
    "        if epoch % 10 == 0:\n",
    "                #clear output of jupyter notebook screen\n",
    "                clear_output(wait=True)\n",
    "                print(\"epoch: \", epoch, \"val_loss: \", val_loss_list[-1])\n",
    "                \n",
    "    \n",
    "                    \n",
    "                \n",
    "        \n",
    "        "
   ],
   "id": "c715310f5a6a941"
  }
 ],
 "metadata": {
  "kernelspec": {
   "display_name": "venv",
   "language": "python",
   "name": "venv"
  },
  "language_info": {
   "codemirror_mode": {
    "name": "ipython",
    "version": 2
   },
   "file_extension": ".py",
   "mimetype": "text/x-python",
   "name": "python",
   "nbconvert_exporter": "python",
   "pygments_lexer": "ipython2",
   "version": "2.7.6"
  }
 },
 "nbformat": 4,
 "nbformat_minor": 5
}
